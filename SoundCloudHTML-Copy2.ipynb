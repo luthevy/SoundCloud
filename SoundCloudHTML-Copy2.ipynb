{
 "cells": [
  {
   "cell_type": "code",
   "execution_count": 1,
   "id": "0c89b457",
   "metadata": {},
   "outputs": [],
   "source": [
    "import requests\n",
    "import requests_cache\n",
    "from bs4 import BeautifulSoup\n",
    "import time\n",
    "import json\n",
    "import re\n",
    "import pandas as pd # Dùng để đọc và hiển thị file csv/tsv\n",
    "from selenium import webdriver\n",
    "from selenium.webdriver.common.keys import Keys\n",
    "from selenium.webdriver.support.ui import WebDriverWait\n",
    "from selenium.webdriver.support import expected_conditions as EC\n",
    "from selenium.webdriver.common.by import By\n",
    "from requests_html import HTML"
   ]
  },
  {
   "cell_type": "markdown",
   "id": "1892dde7",
   "metadata": {},
   "source": [
    "________________________________________"
   ]
  },
  {
   "cell_type": "code",
   "execution_count": 3,
   "id": "177b3840",
   "metadata": {},
   "outputs": [],
   "source": [
    "browser = webdriver.Chrome()\n",
    "browser.get(\"https://soundcloud.com/discover\")"
   ]
  },
  {
   "cell_type": "code",
   "execution_count": 4,
   "id": "463ae9a9",
   "metadata": {},
   "outputs": [],
   "source": [
    "# Lưu user\n",
    "users = []\n",
    "# Lưu track\n",
    "playlists = []\n",
    "# Lưu playlist\n",
    "tracks = []\n",
    "# Lưu link playlist của producer\n",
    "urls_user_playlist = []\n",
    "# Lưu link playlist của discover\n",
    "urls_playlist = []"
   ]
  },
  {
   "cell_type": "markdown",
   "id": "bfd85a6d",
   "metadata": {},
   "source": [
    "**Chuyển từ list sang csv/tsv**"
   ]
  },
  {
   "cell_type": "code",
   "execution_count": 5,
   "id": "86f97935",
   "metadata": {},
   "outputs": [],
   "source": [
    "def list_to_tsv_csv(listItem, outputFile):\n",
    "    df = pd.DataFrame(listItem)\n",
    "    df.to_csv(outputFile, sep='\\t')"
   ]
  },
  {
   "cell_type": "markdown",
   "id": "64e50e1d",
   "metadata": {},
   "source": [
    "**Bấm để đồng ý cookies**"
   ]
  },
  {
   "cell_type": "code",
   "execution_count": 6,
   "id": "89512ff7",
   "metadata": {},
   "outputs": [],
   "source": [
    "def accept_cookies():\n",
    "    soup = BeautifulSoup(browser.page_source)\n",
    "    cookies = browser.find_element(By.XPATH,\"//button[@id='onetrust-accept-btn-handler']\")\n",
    "    cookies.click()"
   ]
  },
  {
   "cell_type": "markdown",
   "id": "b2f8f536",
   "metadata": {},
   "source": [
    "**Bấm vào các nút > đến hết ở trang discover**"
   ]
  },
  {
   "cell_type": "code",
   "execution_count": 7,
   "id": "359da670",
   "metadata": {},
   "outputs": [],
   "source": [
    "def click_button():\n",
    "    soup = BeautifulSoup(browser.page_source)\n",
    "    genres = soup.find_all(\"li\", \"mixedModularHome__item\")\n",
    "\n",
    "    for i in range(len(genres)):\n",
    "        lists = genres[i].find_all(\"div\", \"tileGallery__sliderPanelSlide\")\n",
    "        j = 4\n",
    "        while True:\n",
    "            if j > len(lists):\n",
    "                break\n",
    "            browser.find_elements(By.XPATH,\"//button[contains(.,'forward')]\")[i].click()\n",
    "            j += 4"
   ]
  },
  {
   "cell_type": "markdown",
   "id": "a5a4af69",
   "metadata": {},
   "source": [
    "**Lấy hết tất cả playlists ở trang discover**"
   ]
  },
  {
   "cell_type": "code",
   "execution_count": 8,
   "id": "6c513bf4",
   "metadata": {},
   "outputs": [],
   "source": [
    "def get_all_playlists_discover():\n",
    "    soup = BeautifulSoup(browser.page_source)  \n",
    "    genres = soup.find_all(\"li\", \"mixedModularHome__item\")\n",
    "\n",
    "    for i in range(len(genres)):\n",
    "        lists = genres[i].find_all(\"div\", \"tileGallery__sliderPanelSlide\")\n",
    "        for pl in lists:\n",
    "            title = pl.find(\"a\", \"playableTile__heading\").get_text().strip()\n",
    "            link = pl.find(\"a\", \"playableTile__artworkLink\")[\"href\"]\n",
    "            if title not in playlists:\n",
    "                playlists.append(title)\n",
    "                urls_playlist.append(\"https://soundcloud.com\" + link)"
   ]
  },
  {
   "cell_type": "markdown",
   "id": "5ca17e23",
   "metadata": {},
   "source": [
    "**Kéo xuống đến hết trang**"
   ]
  },
  {
   "cell_type": "code",
   "execution_count": 9,
   "id": "bf96b190",
   "metadata": {},
   "outputs": [],
   "source": [
    "# nên check lại bởi vì vài lần chưa scroll hết :<\n",
    "def scroll_down():\n",
    "    # Loop 2 lần cho chắc ăn (có thể cho 3 lần)\n",
    "    for i in range(2):\n",
    "        lenOfPage = browser.execute_script(\"window.scrollTo(0, document.body.scrollHeight);var lenOfPage=document.body.scrollHeight;return lenOfPage;\")\n",
    "        lastCount = 0\n",
    "        match = False\n",
    "        \n",
    "        while(match == False):\n",
    "            time.sleep(3)\n",
    "            lenOfPage = browser.execute_script(\"window.scrollTo(0, document.body.scrollHeight);var lenOfPage=document.body.scrollHeight;return lenOfPage;\")\n",
    "            if lastCount == lenOfPage: \n",
    "                match = True\n",
    "            else: \n",
    "                lastCount = lenOfPage"
   ]
  },
  {
   "cell_type": "markdown",
   "id": "4b787e9b",
   "metadata": {},
   "source": [
    "**Lấy tất cả users và tracks của một playlist**"
   ]
  },
  {
   "cell_type": "code",
   "execution_count": 24,
   "id": "80cd9953",
   "metadata": {},
   "outputs": [],
   "source": [
    "def get_all_users_tracks_playlist():\n",
    "    soup = BeautifulSoup(browser.page_source)\n",
    "    \n",
    "    count = int(soup.find(\"div\", \"genericTrackCount__title\").get_text())\n",
    "    search = soup.find_all(\"li\", \"systemPlaylistTrackList__item\")\n",
    "    \n",
    "    isUserPlaylist = False\n",
    "    if len(search) == 0:\n",
    "        isUserPlaylist = True\n",
    "    \n",
    "    if isUserPlaylist == False:\n",
    "        if count > 20:\n",
    "            scroll_down()\n",
    "            soup = BeautifulSoup(browser.page_source)\n",
    "        search = soup.find_all(\"li\", \"systemPlaylistTrackList__item\")\n",
    "            \n",
    "    elif isUserPlaylist == True:\n",
    "        if count > 15:\n",
    "            scroll_down()\n",
    "            soup = BeautifulSoup(browser.page_source)\n",
    "        search = soup.find_all(\"li\", \"trackList__item\")\n",
    "\n",
    "    # Trích xuất user và track trong 1 playlist\n",
    "    for producer in search:\n",
    "        user = producer.find(\"a\", \"trackItem__username\").get_text()\n",
    "        url = producer.find(\"a\", \"trackItem__username\").get('href')\n",
    "        track = producer.find(\"a\", \"trackItem__trackTitle\").get_text()\n",
    "        if user not in users:\n",
    "            users.append(user)\n",
    "            urls_user_playlist.append(\"https://soundcloud.com\" + url + \"/sets\")\n",
    "        if track not in tracks:\n",
    "            tracks.append(track)"
   ]
  },
  {
   "cell_type": "markdown",
   "id": "b2bc4585",
   "metadata": {},
   "source": [
    "**Lấy tất cả playlists của một user**"
   ]
  },
  {
   "cell_type": "code",
   "execution_count": 11,
   "id": "31fb6c76",
   "metadata": {},
   "outputs": [],
   "source": [
    "def get_all_playlists_user():\n",
    "    soup = BeautifulSoup(browser.page_source)\n",
    "    \n",
    "    posts = soup.find_all(\"li\", \"soundList__item\")\n",
    "    \n",
    "    # kiểm tra có playlist hay không, nếu có chạy dưới, nếu không bỏ qua\n",
    "    if len(posts) != 0:\n",
    "        if len(posts) > 4:\n",
    "            scroll_down()\n",
    "            soup = BeautifulSoup(browser.page_source)\n",
    "        \n",
    "        for post in posts:\n",
    "            title = post.find(\"a\", \"soundTitle__title\").get_text().strip\n",
    "            if title not in playlists:\n",
    "                playlists.append(title)"
   ]
  },
  {
   "cell_type": "code",
   "execution_count": 12,
   "id": "f6510ac6",
   "metadata": {},
   "outputs": [],
   "source": [
    "def parse_users_tracks_per_genre():\n",
    "    for url in urls_playlist:\n",
    "        browser.execute_script('window.open(\"{link}\");'.format(link = url));\n",
    "        browser.switch_to.window(browser.window_handles[1])\n",
    "        time.sleep(2)\n",
    "        get_all_users_tracks_playlist()\n",
    "        time.sleep(1)\n",
    "        browser.close()\n",
    "        browser.switch_to.window(browser.window_handles[0])"
   ]
  },
  {
   "cell_type": "code",
   "execution_count": 13,
   "id": "5ac63bc9",
   "metadata": {},
   "outputs": [],
   "source": [
    "def parse_playlists_per_genre():\n",
    "    for url in urls_user_playlist:\n",
    "        browser.execute_script('window.open(\"{link}\");'.format(link = url));\n",
    "        browser.switch_to.window(browser.window_handles[1])\n",
    "        time.sleep(2)\n",
    "        get_all_playlists_user()\n",
    "        time.sleep(1)\n",
    "        browser.close()\n",
    "        browser.switch_to.window(browser.window_handles[0])"
   ]
  },
  {
   "cell_type": "code",
   "execution_count": 14,
   "id": "83cfc7a1",
   "metadata": {},
   "outputs": [],
   "source": [
    "accept_cookies()"
   ]
  },
  {
   "cell_type": "code",
   "execution_count": 15,
   "id": "8cd0cfcc",
   "metadata": {},
   "outputs": [],
   "source": [
    "click_button()\n",
    "get_all_playlists_discover()"
   ]
  },
  {
   "cell_type": "code",
   "execution_count": 16,
   "id": "470e9b11",
   "metadata": {},
   "outputs": [],
   "source": [
    "parse_users_tracks_per_genre()"
   ]
  },
  {
   "cell_type": "code",
   "execution_count": 25,
   "id": "5d5e520f",
   "metadata": {},
   "outputs": [
    {
     "ename": "KeyboardInterrupt",
     "evalue": "",
     "output_type": "error",
     "traceback": [
      "\u001b[0;31m---------------------------------------------------------------------------\u001b[0m",
      "\u001b[0;31mKeyboardInterrupt\u001b[0m                         Traceback (most recent call last)",
      "\u001b[0;32m<ipython-input-25-992e482c252e>\u001b[0m in \u001b[0;36m<module>\u001b[0;34m\u001b[0m\n\u001b[0;32m----> 1\u001b[0;31m \u001b[0mparse_playlists_per_genre\u001b[0m\u001b[0;34m(\u001b[0m\u001b[0;34m)\u001b[0m\u001b[0;34m\u001b[0m\u001b[0;34m\u001b[0m\u001b[0m\n\u001b[0m",
      "\u001b[0;32m<ipython-input-13-470dfba75735>\u001b[0m in \u001b[0;36mparse_playlists_per_genre\u001b[0;34m()\u001b[0m\n\u001b[1;32m      3\u001b[0m         \u001b[0mbrowser\u001b[0m\u001b[0;34m.\u001b[0m\u001b[0mexecute_script\u001b[0m\u001b[0;34m(\u001b[0m\u001b[0;34m'window.open(\"{link}\");'\u001b[0m\u001b[0;34m.\u001b[0m\u001b[0mformat\u001b[0m\u001b[0;34m(\u001b[0m\u001b[0mlink\u001b[0m \u001b[0;34m=\u001b[0m \u001b[0murl\u001b[0m\u001b[0;34m)\u001b[0m\u001b[0;34m)\u001b[0m\u001b[0;34m;\u001b[0m\u001b[0;34m\u001b[0m\u001b[0;34m\u001b[0m\u001b[0m\n\u001b[1;32m      4\u001b[0m         \u001b[0mbrowser\u001b[0m\u001b[0;34m.\u001b[0m\u001b[0mswitch_to\u001b[0m\u001b[0;34m.\u001b[0m\u001b[0mwindow\u001b[0m\u001b[0;34m(\u001b[0m\u001b[0mbrowser\u001b[0m\u001b[0;34m.\u001b[0m\u001b[0mwindow_handles\u001b[0m\u001b[0;34m[\u001b[0m\u001b[0;36m1\u001b[0m\u001b[0;34m]\u001b[0m\u001b[0;34m)\u001b[0m\u001b[0;34m\u001b[0m\u001b[0;34m\u001b[0m\u001b[0m\n\u001b[0;32m----> 5\u001b[0;31m         \u001b[0mtime\u001b[0m\u001b[0;34m.\u001b[0m\u001b[0msleep\u001b[0m\u001b[0;34m(\u001b[0m\u001b[0;36m2\u001b[0m\u001b[0;34m)\u001b[0m\u001b[0;34m\u001b[0m\u001b[0;34m\u001b[0m\u001b[0m\n\u001b[0m\u001b[1;32m      6\u001b[0m         \u001b[0mget_all_playlists_user\u001b[0m\u001b[0;34m(\u001b[0m\u001b[0;34m)\u001b[0m\u001b[0;34m\u001b[0m\u001b[0;34m\u001b[0m\u001b[0m\n\u001b[1;32m      7\u001b[0m         \u001b[0mtime\u001b[0m\u001b[0;34m.\u001b[0m\u001b[0msleep\u001b[0m\u001b[0;34m(\u001b[0m\u001b[0;36m1\u001b[0m\u001b[0;34m)\u001b[0m\u001b[0;34m\u001b[0m\u001b[0;34m\u001b[0m\u001b[0m\n",
      "\u001b[0;31mKeyboardInterrupt\u001b[0m: "
     ]
    }
   ],
   "source": [
    "parse_playlists_per_genre()"
   ]
  },
  {
   "cell_type": "code",
   "execution_count": null,
   "id": "e35cbc76",
   "metadata": {},
   "outputs": [],
   "source": [
    "browser.quit()"
   ]
  },
  {
   "cell_type": "markdown",
   "id": "c6f6641b",
   "metadata": {},
   "source": [
    "**Lưu data vào file tsv**"
   ]
  },
  {
   "cell_type": "code",
   "execution_count": 17,
   "id": "78d32657",
   "metadata": {},
   "outputs": [],
   "source": [
    "outputFile = \"Crawl_data/user.csv\"\n",
    "list_to_tsv_csv(users, outputFile)\n",
    "outputFile = \"Crawl_data/track.csv\"\n",
    "list_to_tsv_csv(tracks, outputFile)\n",
    "outputFile = \"Crawl_data/playlist.csv\"\n",
    "list_to_tsv_csv(playlists, outputFile)"
   ]
  },
  {
   "cell_type": "code",
   "execution_count": 26,
   "id": "3a212193",
   "metadata": {
    "scrolled": true
   },
   "outputs": [
    {
     "name": "stdout",
     "output_type": "stream",
     "text": [
      "1281\n",
      "1852\n",
      "331\n"
     ]
    }
   ],
   "source": [
    "print(len(users))\n",
    "print(len(tracks))\n",
    "print(len(playlists))"
   ]
  },
  {
   "cell_type": "code",
   "execution_count": null,
   "id": "521618c2",
   "metadata": {},
   "outputs": [],
   "source": []
  }
 ],
 "metadata": {
  "kernelspec": {
   "display_name": "Python 3",
   "language": "python",
   "name": "python3"
  },
  "language_info": {
   "codemirror_mode": {
    "name": "ipython",
    "version": 3
   },
   "file_extension": ".py",
   "mimetype": "text/x-python",
   "name": "python",
   "nbconvert_exporter": "python",
   "pygments_lexer": "ipython3",
   "version": "3.8.8"
  }
 },
 "nbformat": 4,
 "nbformat_minor": 5
}
