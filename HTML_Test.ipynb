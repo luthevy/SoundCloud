{
 "cells": [
  {
   "cell_type": "code",
   "execution_count": null,
   "id": "18e04d33",
   "metadata": {},
   "outputs": [],
   "source": [
    "import requests\n",
    "import requests_cache\n",
    "from bs4 import BeautifulSoup\n",
    "import time\n",
    "import json\n",
    "import re\n",
    "import pandas as pd # Dùng để đọc và hiển thị file csv/tsv\n",
    "from selenium import webdriver\n",
    "from selenium.webdriver.common.keys import Keys\n",
    "from selenium.webdriver.support.ui import WebDriverWait\n",
    "from selenium.webdriver.support import expected_conditions as EC\n",
    "from selenium.webdriver.common.by import By\n",
    "from requests_html import HTML"
   ]
  },
  {
   "cell_type": "markdown",
   "id": "f88fef10",
   "metadata": {},
   "source": [
    "________________________________________"
   ]
  },
  {
   "cell_type": "code",
   "execution_count": null,
   "id": "a17a43cc",
   "metadata": {},
   "outputs": [],
   "source": [
    "url = \"https://soundcloud.com/discover\""
   ]
  },
  {
   "cell_type": "code",
   "execution_count": null,
   "id": "760e4b44",
   "metadata": {},
   "outputs": [],
   "source": [
    "browser1 = webdriver.Chrome()\n",
    "browser1.get(url)\n",
    "browser2 = webdriver.Chrome()\n",
    "browser2.get(url)"
   ]
  },
  {
   "cell_type": "code",
   "execution_count": null,
   "id": "46065ecf",
   "metadata": {},
   "outputs": [],
   "source": [
    "# Lưu user\n",
    "users = []\n",
    "# Lưu track\n",
    "playlists = []\n",
    "# Lưu playlist\n",
    "tracks = []\n",
    "# Lưu link playlist của producer\n",
    "urls_user_playlist = []\n",
    "# Lưu link playlist của discover\n",
    "urls_playlist = []"
   ]
  },
  {
   "cell_type": "markdown",
   "id": "410992f6",
   "metadata": {},
   "source": [
    "**Chuyển từ list sang csv/tsv**"
   ]
  },
  {
   "cell_type": "code",
   "execution_count": null,
   "id": "b2bdf052",
   "metadata": {},
   "outputs": [],
   "source": [
    "def list_to_tsv_csv(listItem, outputFile):\n",
    "    df = pd.DataFrame(listItem)\n",
    "    df.to_csv(outputFile, sep='\\t')"
   ]
  },
  {
   "cell_type": "markdown",
   "id": "3e9f51dd",
   "metadata": {},
   "source": [
    "**Bấm để đồng ý cookies**"
   ]
  },
  {
   "cell_type": "code",
   "execution_count": null,
   "id": "0e12cbce",
   "metadata": {},
   "outputs": [],
   "source": [
    "# Đồng ý cookies\n",
    "def accept_cookies(browser):\n",
    "    soup = BeautifulSoup(browser.page_source)\n",
    "    cookies = browser.find_element(By.XPATH,\"//button[@id='onetrust-accept-btn-handler']\")\n",
    "    cookies.click()"
   ]
  },
  {
   "cell_type": "markdown",
   "id": "0421a2df",
   "metadata": {},
   "source": [
    "**Bấm vào các nút > đến hết ở trang discover**"
   ]
  },
  {
   "cell_type": "code",
   "execution_count": null,
   "id": "7c22e1c5",
   "metadata": {},
   "outputs": [],
   "source": [
    "# bấm nút > đến hết\n",
    "def click_button(browser):\n",
    "    soup = BeautifulSoup(browser.page_source)\n",
    "    genres = soup.find_all(\"li\", \"mixedModularHome__item\")\n",
    "\n",
    "    for i in range(len(genres)):\n",
    "        lists = genres[i].find_all(\"div\", \"tileGallery__sliderPanelSlide\")\n",
    "        j = 4\n",
    "        while True:\n",
    "            if j > len(lists):\n",
    "                break\n",
    "            browser.find_elements(By.XPATH,\"//button[contains(.,'forward')]\")[i].click()\n",
    "            j += 4"
   ]
  },
  {
   "cell_type": "markdown",
   "id": "1ae660cf",
   "metadata": {},
   "source": [
    "**Lấy hết tất cả playlists ở trang discover**"
   ]
  },
  {
   "cell_type": "code",
   "execution_count": null,
   "id": "38e1ed59",
   "metadata": {},
   "outputs": [],
   "source": [
    "def get_all_playlists_discover(browser):\n",
    "    soup = BeautifulSoup(browser.page_source)  \n",
    "    genres = soup.find_all(\"li\", \"mixedModularHome__item\")\n",
    "\n",
    "    for i in range(len(genres)):\n",
    "        lists = genres[i].find_all(\"div\", \"tileGallery__sliderPanelSlide\")\n",
    "        for pl in lists:\n",
    "            title = pl.find(\"a\", \"playableTile__heading\").get_text().strip()\n",
    "            link = pl.find(\"a\", \"playableTile__artworkLink\")[\"href\"]\n",
    "            if title not in playlists:\n",
    "                playlists.append(title)\n",
    "                urls_playlist.append(\"https://soundcloud.com\" + link)"
   ]
  },
  {
   "cell_type": "markdown",
   "id": "439f6312",
   "metadata": {},
   "source": [
    "**Kéo xuống đến hết trang**"
   ]
  },
  {
   "cell_type": "code",
   "execution_count": null,
   "id": "57cc0a3f",
   "metadata": {},
   "outputs": [],
   "source": [
    "# nên check lại bởi vì vài lần chưa scroll hết :<\n",
    "def scroll_down(browser):\n",
    "    # Loop 2 lần cho chắc ăn (có thể cho 3 lần)\n",
    "    for i in range(2):\n",
    "        lenOfPage = browser.execute_script(\"window.scrollTo(0, document.body.scrollHeight);var lenOfPage=document.body.scrollHeight;return lenOfPage;\")\n",
    "        lastCount = 0\n",
    "        match = False\n",
    "        \n",
    "        while(match == False):\n",
    "            time.sleep(3)\n",
    "            lenOfPage = browser.execute_script(\"window.scrollTo(0, document.body.scrollHeight);var lenOfPage=document.body.scrollHeight;return lenOfPage;\")\n",
    "            if lastCount == lenOfPage: \n",
    "                match = True\n",
    "            else: \n",
    "                lastCount = lenOfPage"
   ]
  },
  {
   "cell_type": "markdown",
   "id": "aeafda39",
   "metadata": {},
   "source": [
    "**Lấy tất cả users và tracks của một playlist**"
   ]
  },
  {
   "cell_type": "code",
   "execution_count": null,
   "id": "79ad584d",
   "metadata": {},
   "outputs": [],
   "source": [
    "def get_all_users_tracks_playlist(): \n",
    "    scroll_down()\n",
    "    \n",
    "    soup = BeautifulSoup(browser.page_source)\n",
    "\n",
    "    # Trích xuất user và track trong 1 playlist\n",
    "    search = soup.find_all(\"li\", \"systemPlaylistTrackList__item\")\n",
    "    for producer in search:\n",
    "        user = producer.find(\"a\", \"trackItem__username\").get_text()\n",
    "        url = producer.find(\"a\", \"trackItem__username\").get('href')\n",
    "        track = producer.find(\"a\", \"trackItem__trackTitle\").get_text()\n",
    "        if user not in users:\n",
    "            users.append(user)\n",
    "            urls_user_playlist.append(\"https://soundcloud.com\" + url + \"/sets\")\n",
    "        if track not in tracks:\n",
    "            tracks.append(track)"
   ]
  },
  {
   "cell_type": "markdown",
   "id": "f7f9b7b0",
   "metadata": {},
   "source": [
    "**Lấy tất cả playlists của một user**"
   ]
  },
  {
   "cell_type": "code",
   "execution_count": null,
   "id": "349ec01b",
   "metadata": {},
   "outputs": [],
   "source": [
    "def get_all_playlists_user():\n",
    "    soup = BeautifulSoup(browser.page_source)\n",
    "    \n",
    "    posts = soup.find_all(\"li\", \"soundList__item\")\n",
    "    \n",
    "    # kiểm tra có playlist hay không, nếu có chạy dưới, nếu không bỏ qua\n",
    "    if len(posts) != 0:\n",
    "        if len(posts) > 4:\n",
    "            scroll_down()\n",
    "            soup = BeautifulSoup(browser.page_source)\n",
    "        \n",
    "        for post in posts:\n",
    "            title = post.find(\"a\", \"soundTitle__title\").get_text().strip\n",
    "            if title not in playlists:\n",
    "                playlists.append(title)"
   ]
  },
  {
   "cell_type": "code",
   "execution_count": null,
   "id": "89bffa5d",
   "metadata": {},
   "outputs": [],
   "source": [
    "def parse_users_tracks_per_genre():\n",
    "    for url in urls_playlist:\n",
    "        browser1.execute_script('window.open(\"{link}\");'.format(link = url));\n",
    "        browser1.switch_to.window(browser.window_handles[1])\n",
    "        time.sleep(2)\n",
    "        get_all_users_tracks_playlist()\n",
    "        time.sleep(1)\n",
    "        browser1.close()\n",
    "        browser1.switch_to.window(browser1.window_handles[0])"
   ]
  },
  {
   "cell_type": "code",
   "execution_count": null,
   "id": "1ffdc31c",
   "metadata": {},
   "outputs": [],
   "source": [
    "def parse_playlists_per_genre():\n",
    "    for url in urls_user_playlist:\n",
    "        browser2.execute_script('window.open(\"{link}\");'.format(link = url));\n",
    "        browser2.switch_to.window(browser2.window_handles[1])\n",
    "        time.sleep(2)\n",
    "        get_all_playlists_user()\n",
    "        time.sleep(1)\n",
    "        browser2.close()\n",
    "        browser2.switch_to.window(browser2.window_handles[0])"
   ]
  },
  {
   "cell_type": "code",
   "execution_count": null,
   "id": "540460eb",
   "metadata": {},
   "outputs": [],
   "source": [
    "accept_cookies(browser1)\n",
    "accept_cookies(browser2)"
   ]
  },
  {
   "cell_type": "code",
   "execution_count": null,
   "id": "73f0b97a",
   "metadata": {},
   "outputs": [],
   "source": [
    "click_button(browser1)\n",
    "get_all_playlists_discover(browser1)"
   ]
  },
  {
   "cell_type": "code",
   "execution_count": null,
   "id": "7a5b8f86",
   "metadata": {},
   "outputs": [],
   "source": [
    "parse_users_tracks_per_genre()"
   ]
  },
  {
   "cell_type": "code",
   "execution_count": null,
   "id": "52a519cf",
   "metadata": {},
   "outputs": [],
   "source": [
    "parse_playlists_per_genre()"
   ]
  },
  {
   "cell_type": "code",
   "execution_count": null,
   "id": "6ebe0bb0",
   "metadata": {},
   "outputs": [],
   "source": [
    "browser1.quit()\n",
    "browser2.quit()"
   ]
  },
  {
   "cell_type": "markdown",
   "id": "f053cff5",
   "metadata": {},
   "source": [
    "**Lưu data vào file tsv**"
   ]
  },
  {
   "cell_type": "code",
   "execution_count": null,
   "id": "6df82984",
   "metadata": {},
   "outputs": [],
   "source": [
    "outputFile = \"user.tsv\"\n",
    "list_to_tsv_csv(users, outputFile)\n",
    "outputFile = \"track.tsv\"\n",
    "list_to_tsv_csv(tracks, outputFile)\n",
    "outputFile = \"playlist.tsv\"\n",
    "list_to_tsv_csv(playlists, outputFile)"
   ]
  },
  {
   "cell_type": "code",
   "execution_count": null,
   "id": "69192db7",
   "metadata": {},
   "outputs": [],
   "source": [
    "print(len(users))\n",
    "print(len(tracks))\n",
    "print(len(playlists))"
   ]
  }
 ],
 "metadata": {
  "kernelspec": {
   "display_name": "Python 3",
   "language": "python",
   "name": "python3"
  },
  "language_info": {
   "codemirror_mode": {
    "name": "ipython",
    "version": 3
   },
   "file_extension": ".py",
   "mimetype": "text/x-python",
   "name": "python",
   "nbconvert_exporter": "python",
   "pygments_lexer": "ipython3",
   "version": "3.8.8"
  }
 },
 "nbformat": 4,
 "nbformat_minor": 5
}
