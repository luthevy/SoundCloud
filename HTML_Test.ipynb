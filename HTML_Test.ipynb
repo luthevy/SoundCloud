{
 "cells": [
  {
   "cell_type": "code",
   "execution_count": 1,
   "id": "d80405e1",
   "metadata": {},
   "outputs": [],
   "source": [
    "import requests\n",
    "import requests_cache\n",
    "from bs4 import BeautifulSoup\n",
    "import time\n",
    "import json\n",
    "import re\n",
    "import pandas as pd # Dùng để đọc và hiển thị file csv/tsv\n",
    "from selenium import webdriver\n",
    "from selenium.webdriver.common.keys import Keys\n",
    "from selenium.webdriver.support.ui import WebDriverWait\n",
    "from selenium.webdriver.support import expected_conditions as EC\n",
    "from selenium.webdriver.common.by import By\n",
    "from requests_html import HTML"
   ]
  },
  {
   "cell_type": "markdown",
   "id": "518a130a",
   "metadata": {},
   "source": [
    "________________________________________"
   ]
  },
  {
   "cell_type": "code",
   "execution_count": 2,
   "id": "b529609c",
   "metadata": {},
   "outputs": [],
   "source": [
    "url = \"https://soundcloud.com/discover\""
   ]
  },
  {
   "cell_type": "code",
   "execution_count": 3,
   "id": "d784a629",
   "metadata": {},
   "outputs": [],
   "source": [
    "browser = webdriver.Chrome()\n",
    "browser.get(url)"
   ]
  },
  {
   "cell_type": "code",
   "execution_count": 4,
   "id": "2bcb8531",
   "metadata": {},
   "outputs": [],
   "source": [
    "soup = BeautifulSoup(browser.page_source)"
   ]
  },
  {
   "cell_type": "code",
   "execution_count": 5,
   "id": "2214a0c1",
   "metadata": {},
   "outputs": [],
   "source": [
    "tracks = []\n",
    "playlists = []\n",
    "users = []\n",
    "\n",
    "# Lưu link profile của producer\n",
    "urls_user = []\n",
    "# Lưu link của playlist\n",
    "urls_playlist = []"
   ]
  },
  {
   "cell_type": "code",
   "execution_count": 6,
   "id": "5f523618",
   "metadata": {},
   "outputs": [],
   "source": [
    "# nên check lại bởi vì vài lần chưa scroll hết :<\n",
    "def scroll_down():\n",
    "    # Loop 2 lần cho chắc ăn (có thể cho 3 lần)\n",
    "    for i in range(2):\n",
    "        lenOfPage = browser.execute_script(\"window.scrollTo(0, document.body.scrollHeight);var lenOfPage=document.body.scrollHeight;return lenOfPage;\")\n",
    "        lastCount = 0\n",
    "        match = False\n",
    "        \n",
    "        while(match == False):\n",
    "            time.sleep(3)\n",
    "            lenOfPage = browser.execute_script(\"window.scrollTo(0, document.body.scrollHeight);var lenOfPage=document.body.scrollHeight;return lenOfPage;\")\n",
    "            if lastCount == lenOfPage: \n",
    "                match = True\n",
    "            else: \n",
    "                lastCount = lenOfPage"
   ]
  },
  {
   "cell_type": "code",
   "execution_count": 7,
   "id": "fd013ccc",
   "metadata": {},
   "outputs": [],
   "source": [
    "# nên check lại bởi vì vài lần chưa scroll hết :<\n",
    "def scroll_up():\n",
    "    # Loop 2 lần cho chắc ăn (có thể cho 3 lần)\n",
    "    for i in range(2):\n",
    "        lenOfPage = browser.execute_script(\"window.scrollTo(document.body.scrollHeight, 0);var lenOfPage=document.body.scrollHeight;return lenOfPage;\")\n",
    "        lastCount = 0\n",
    "        match = False\n",
    "        \n",
    "        while(match == False):\n",
    "            time.sleep(3)\n",
    "            lenOfPage = browser.execute_script(\"window.scrollTo(document.body.scrollHeight,0);var lenOfPage=document.body.scrollHeight;return lenOfPage;\")\n",
    "            if lastCount == lenOfPage: \n",
    "                match = True\n",
    "            else: \n",
    "                lastCount = lenOfPage"
   ]
  },
  {
   "cell_type": "code",
   "execution_count": 8,
   "id": "1b2098f8",
   "metadata": {},
   "outputs": [],
   "source": [
    "def list_to_tsv_csv(listItem, outputFile):\n",
    "    df = pd.DataFrame(listItem)\n",
    "    df.to_csv(outputFile, sep='\\t')"
   ]
  },
  {
   "cell_type": "code",
   "execution_count": 9,
   "id": "50e8c954",
   "metadata": {},
   "outputs": [],
   "source": [
    "# Đồng ý cookies\n",
    "cookies = browser.find_element(By.XPATH,\"//button[@id='onetrust-accept-btn-handler']\")\n",
    "cookies.click()"
   ]
  },
  {
   "cell_type": "code",
   "execution_count": 10,
   "id": "eee7dd8b",
   "metadata": {},
   "outputs": [],
   "source": [
    "# bấm nút > đến hết\n",
    "soup = BeautifulSoup(browser.page_source)\n",
    "genres = soup.find_all(\"li\", \"mixedModularHome__item\")\n",
    "\n",
    "for i in range(len(genres)):\n",
    "    lists = genres[i].find_all(\"div\", \"tileGallery__sliderPanelSlide\")\n",
    "    j = 4\n",
    "    while True:\n",
    "        if j > len(lists):\n",
    "            break\n",
    "        browser.find_elements(By.XPATH,\"//button[contains(.,'forward')]\")[i].click()\n",
    "        j += 4"
   ]
  },
  {
   "cell_type": "code",
   "execution_count": 11,
   "id": "431b4a74",
   "metadata": {},
   "outputs": [],
   "source": [
    "# lấy hết tất cả playlists\n",
    "soup = BeautifulSoup(browser.page_source)  \n",
    "genres = soup.find_all(\"li\", \"mixedModularHome__item\")\n",
    "\n",
    "for i in range(len(genres)):\n",
    "    lists = genres[i].find_all(\"div\", \"tileGallery__sliderPanelSlide\")\n",
    "    for pl in lists:\n",
    "        title = pl.find(\"a\", \"playableTile__heading\").get_text().strip()\n",
    "        link = pl.find(\"a\", \"playableTile__artworkLink\")[\"href\"]\n",
    "        if title not in playlists:\n",
    "            playlists.append(title)\n",
    "            urls_playlist.append(\"https://soundcloud.com\" + link)"
   ]
  },
  {
   "cell_type": "raw",
   "id": "bb64505f",
   "metadata": {},
   "source": [
    " # Chọn một tab genre (demo)\n",
    "time.sleep(2)\n",
    "genre = browser.find_element(By.XPATH,\"//a[@class='playableTile__heading playableTile__mainHeading sc-truncate sc-type-light sc-text-secondary sc-font-light sc-link-dark sc-link-primary sc-text-h4']\")\n",
    "genre.click()\n",
    "\n",
    "time.sleep(2)\n",
    "scroll_down()"
   ]
  },
  {
   "cell_type": "markdown",
   "id": "ac6a5ed4",
   "metadata": {},
   "source": [
    "**Lấy tất cả users và tracks của một playlist**"
   ]
  },
  {
   "cell_type": "code",
   "execution_count": 12,
   "id": "9035fbb7",
   "metadata": {},
   "outputs": [],
   "source": [
    "def get_all_user_track_playlist(): \n",
    "    scroll_down()\n",
    "    \n",
    "    soup = BeautifulSoup(browser.page_source)\n",
    "\n",
    "    # Trích xuất user và track trong 1 playlist\n",
    "    search = soup.find_all(\"li\", \"systemPlaylistTrackList__item\")\n",
    "    for producer in search:\n",
    "        user = producer.find(\"a\", \"trackItem__username\").get_text()\n",
    "        url = producer.find(\"a\", \"trackItem__username\").get('href')\n",
    "        track = producer.find(\"a\", \"trackItem__trackTitle\").get_text()\n",
    "        if user not in users:\n",
    "            users.append(user)\n",
    "            urls_user.append(url)\n",
    "        if track not in tracks:\n",
    "            tracks.append(track)"
   ]
  },
  {
   "cell_type": "markdown",
   "id": "9f7626e6",
   "metadata": {},
   "source": [
    "**Lấy tất cả tracks của một user**"
   ]
  },
  {
   "cell_type": "raw",
   "id": "3209dd5b",
   "metadata": {},
   "source": [
    "def get_all_tracks():\n",
    "    scroll_down()\n",
    "    time.sleep(2)\n",
    "    soup = BeautifulSoup(browser.page_source)\n",
    "    \n",
    "    songs = soup.find_all(\"li\", \"soundList__item\")\n",
    "    for track in songs:\n",
    "        title = track.find(\"a\", \"soundTitle__title\").get_text().strip()\n",
    "        # kiểm tra có bị trùng\n",
    "        if title not in tracks:\n",
    "            tracks.append(title)"
   ]
  },
  {
   "cell_type": "markdown",
   "id": "8c0537da",
   "metadata": {},
   "source": [
    "**Lấy tất cả playlists của một user**"
   ]
  },
  {
   "cell_type": "code",
   "execution_count": null,
   "id": "1986deab",
   "metadata": {},
   "outputs": [],
   "source": [
    "def get_all_playlists_user():\n",
    "    soup = BeautifulSoup(browser.page_source)\n",
    "    \n",
    "    posts = soup.find_all(\"li\", \"soundList__item\")\n",
    "    \n",
    "    # kiểm tra có playlist hay không, nếu có chạy dưới, nếu không bỏ qua\n",
    "    if posts not is None:\n",
    "        scroll_down()\n",
    "        soup = BeautifulSoup(browser.page_source)\n",
    "        \n",
    "        for playlist in posts:\n",
    "            title = playlist.find(\"a\", \"soundTitle__title\")\n",
    "            if title is None:\n",
    "                break\n",
    "            playlists.append(title.get_text().strip())"
   ]
  },
  {
   "cell_type": "code",
   "execution_count": null,
   "id": "048d3d54",
   "metadata": {},
   "outputs": [],
   "source": [
    "def parse_playlist_per_genre():\n",
    "    for url in urls_user:\n",
    "        time.sleep(2)\n",
    "        browser.execute_script('window.open(\"{link}\");'.format(link = url));\n",
    "        browser.switch_to.window(browser.window_handles[1])\n",
    "        time.sleep(2)\n",
    "        get_all_playlists_user()\n",
    "        browser.close()\n",
    "        browser.switch_to.window(browser.window_handles[0])"
   ]
  },
  {
   "cell_type": "code",
   "execution_count": 13,
   "id": "cfb63877",
   "metadata": {},
   "outputs": [],
   "source": [
    "def parse_user_track_per_genre():\n",
    "    for url in urls_playlist:\n",
    "        time.sleep(2)\n",
    "        browser.execute_script('window.open(\"{link}\");'.format(link = url));\n",
    "        browser.switch_to.window(browser.window_handles[1])\n",
    "        time.sleep(2)\n",
    "        get_all_user_track_playlist()\n",
    "        browser.close()\n",
    "        browser.switch_to.window(browser.window_handles[0])"
   ]
  },
  {
   "cell_type": "code",
   "execution_count": 14,
   "id": "b79ed8a3",
   "metadata": {},
   "outputs": [],
   "source": [
    "parse_playlist_per_genre()"
   ]
  },
  {
   "cell_type": "code",
   "execution_count": null,
   "id": "1f535db5",
   "metadata": {},
   "outputs": [],
   "source": [
    "parse_user_track_per_genre()"
   ]
  },
  {
   "cell_type": "markdown",
   "id": "ada7efa0",
   "metadata": {},
   "source": [
    "**Lưu data vào file tsv**"
   ]
  },
  {
   "cell_type": "code",
   "execution_count": 16,
   "id": "5e39ffff",
   "metadata": {},
   "outputs": [],
   "source": [
    "outputFile = \"user.tsv\"\n",
    "list_to_tsv_csv(users, outputFile)\n",
    "outputFile = \"track.tsv\"\n",
    "list_to_tsv_csv(tracks, outputFile)\n",
    "outputFile = \"playlist.tsv\"\n",
    "list_to_tsv_csv(playlists, outputFile)"
   ]
  }
 ],
 "metadata": {
  "kernelspec": {
   "display_name": "Python 3",
   "language": "python",
   "name": "python3"
  },
  "language_info": {
   "codemirror_mode": {
    "name": "ipython",
    "version": 3
   },
   "file_extension": ".py",
   "mimetype": "text/x-python",
   "name": "python",
   "nbconvert_exporter": "python",
   "pygments_lexer": "ipython3",
   "version": "3.8.8"
  }
 },
 "nbformat": 4,
 "nbformat_minor": 5
}
