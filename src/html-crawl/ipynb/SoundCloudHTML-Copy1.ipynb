{
 "cells": [
  {
   "cell_type": "code",
   "execution_count": null,
   "id": "0c89b457",
   "metadata": {},
   "outputs": [],
   "source": [
    "import requests\n",
    "import requests_cache\n",
    "from bs4 import BeautifulSoup\n",
    "import time\n",
    "import json\n",
    "import re\n",
    "import pandas as pd # Dùng để đọc và hiển thị file csv/tsv\n",
    "from selenium import webdriver\n",
    "from selenium.webdriver.common.keys import Keys\n",
    "from selenium.webdriver.support.ui import WebDriverWait\n",
    "from selenium.webdriver.support import expected_conditions as EC\n",
    "from selenium.webdriver.common.by import By\n",
    "from requests_html import HTML"
   ]
  },
  {
   "cell_type": "markdown",
   "id": "1892dde7",
   "metadata": {},
   "source": [
    "________________________________________"
   ]
  },
  {
   "cell_type": "markdown",
   "id": "64e50e1d",
   "metadata": {},
   "source": [
    "**Bấm để đồng ý cookies**"
   ]
  },
  {
   "cell_type": "code",
   "execution_count": null,
   "id": "89512ff7",
   "metadata": {},
   "outputs": [],
   "source": [
    "# Đồng ý cookies\n",
    "def accept_cookies(browser):\n",
    "    cookies = browser.find_element(By.XPATH,\"//button[@id='onetrust-accept-btn-handler']\")\n",
    "    cookies.click()"
   ]
  },
  {
   "cell_type": "markdown",
   "id": "5ca17e23",
   "metadata": {},
   "source": [
    "**Kéo xuống đến cuối trang với số lần dựa theo limit (số playlists muốn parse tối đa)**"
   ]
  },
  {
   "cell_type": "code",
   "execution_count": null,
   "id": "bf96b190",
   "metadata": {},
   "outputs": [],
   "source": [
    "def scroll_down(browser, limit):\n",
    "    # số tracks hiện lên mỗi lần scroll đến cuối trang\n",
    "    tracks_per_scroll = 10\n",
    "    # số lần scroll xuống cuối trang\n",
    "    scrolls = limit // tracks_per_scroll\n",
    "    for i in range(scrolls - 1):\n",
    "        browser.execute_script(\"window.scrollTo(0, document.body.scrollHeight)\")\n",
    "        time.sleep(3)"
   ]
  },
  {
   "cell_type": "markdown",
   "id": "4b787e9b",
   "metadata": {},
   "source": [
    "**Lấy tất cả users và tracks**"
   ]
  },
  {
   "cell_type": "code",
   "execution_count": null,
   "id": "80cd9953",
   "metadata": {},
   "outputs": [],
   "source": [
    "def get_all_users_tracks(soup):\n",
    "    songs = soup.find_all(\"li\", \"compactTrackList__item\")\n",
    "    for song in songs:\n",
    "        # lấy user của track\n",
    "        user = song.find(\"span\", \"compactTrackListItem__user\")\n",
    "        # kiểm tra nếu không có text\n",
    "        if user is not None:\n",
    "            userTitle = user.get_text().replace(\"-\",\"\").strip()\n",
    "            users.add(userTitle)\n",
    "                \n",
    "        # lấy track của playlist\n",
    "        track = song.find(\"span\", \"compactTrackListItem__trackTitle\")\n",
    "        # kiểm tra nếu không có text\n",
    "        if track is not None:\n",
    "            trackTitle = track.get_text().strip()\n",
    "            # kiểm tra bị trùng\n",
    "            if trackTitle not in tracks[\"track\"]:\n",
    "                tracks[\"track\"].append(trackTitle)\n",
    "                # kiểm tra nếu track không có user ở kế bên thì lấy user của playlist\n",
    "                userTitle = soup.find(\"span\", \"soundTitle__usernameText\").get_text().strip() if (user is None) else user.get_text().replace(\"-\",\"\").strip()\n",
    "                tracks[\"user\"].append(userTitle)"
   ]
  },
  {
   "cell_type": "markdown",
   "id": "8e1fb4dc",
   "metadata": {},
   "source": [
    "**Lấy tất cả thông tin (users, tracks, playlists)**"
   ]
  },
  {
   "cell_type": "code",
   "execution_count": null,
   "id": "9a1544e4",
   "metadata": {},
   "outputs": [],
   "source": [
    "def get_all(browser):\n",
    "    soup = BeautifulSoup(browser.page_source)\n",
    "    # trích xuất playlist\n",
    "    posts = soup.find_all(\"li\", \"searchList__item\")\n",
    "    for post in posts:\n",
    "        # lấy user của playlist\n",
    "        user = post.find(\"span\", \"soundTitle__usernameText\").get_text().strip()\n",
    "        users.add(user)\n",
    "        playlists[\"user\"].append(user)\n",
    "        \n",
    "        # lấy tên playlist\n",
    "        playlist = post.find(\"a\", \"soundTitle__title\").get_text().strip()\n",
    "        playlists[\"playlist\"].append(playlist)\n",
    "        \n",
    "        # lấy tất cả tracks và users có trong playlist\n",
    "        get_all_users_tracks(post)\n",
    "        \n",
    "        # lấy Id của các tracks có trong playlist theo index\n",
    "        track_list = post.find_all(\"span\", \"compactTrackListItem__trackTitle\")\n",
    "        # lưu index của track\n",
    "        trackIds = []\n",
    "        for item in track_list:\n",
    "            # lấy index của track\n",
    "            trackIds.append(tracks[\"track\"].index(item.get_text().strip()))\n",
    "        playlists[\"tracks\"].append(trackIds)"
   ]
  },
  {
   "cell_type": "markdown",
   "id": "19182c27",
   "metadata": {},
   "source": [
    "**Chuyển từ list sang csv/tsv**"
   ]
  },
  {
   "cell_type": "code",
   "execution_count": null,
   "id": "98a6b7f6",
   "metadata": {},
   "outputs": [],
   "source": [
    "def list_to_tsv_csv(listItem, outputFile):\n",
    "    df = pd.DataFrame(listItem)\n",
    "    df.to_csv(outputFile, sep='\\t')"
   ]
  },
  {
   "cell_type": "markdown",
   "id": "31113cf6",
   "metadata": {},
   "source": [
    "**Main**"
   ]
  },
  {
   "cell_type": "code",
   "execution_count": null,
   "id": "89e49b8e",
   "metadata": {},
   "outputs": [],
   "source": [
    "def main(limit):\n",
    "    alphabet = ['a','b','c','d','e','f','g','h','i','j','k','l','m','n','o','p','q','r','s','t','u','v','w','x','y','z']\n",
    "    # lặp cho từng chữ cái\n",
    "    for letter in alphabet:\n",
    "        # mỗi chữ cái sẽ mở 1 browser Chrome mới, sau khi lấy hết xong thì tắt.\n",
    "        url = \"https://soundcloud.com/search/sets?q=\" + letter\n",
    "        browser = webdriver.Chrome()\n",
    "        browser.get(url)\n",
    "        \n",
    "        # đồng ý cookies\n",
    "#         time.sleep(5)\n",
    "#         accept_cookies(browser)\n",
    "        \n",
    "        # scroll xuống theo limit cho phép\n",
    "        time.sleep(1)\n",
    "        scroll_down(browser, limit)\n",
    "        \n",
    "        # lấy hết tất cả (user, track, playlist)\n",
    "        time.sleep(1)\n",
    "        get_all(browser)\n",
    "        \n",
    "        # tắt browser\n",
    "        time.sleep(1)\n",
    "        browser.quit()"
   ]
  },
  {
   "cell_type": "markdown",
   "id": "ad090f36",
   "metadata": {},
   "source": [
    "**Khởi tạo các list để lưu thông tin**"
   ]
  },
  {
   "cell_type": "code",
   "execution_count": null,
   "id": "8f5fada5",
   "metadata": {},
   "outputs": [],
   "source": [
    "# Lưu user\n",
    "users = set()\n",
    "# Lưu track\n",
    "tracks = {\"track\":[], \"user\":[]}\n",
    "# Lưu playlist\n",
    "playlists = {\"playlist\":[], \"user\":[], \"tracks\":[]}"
   ]
  },
  {
   "cell_type": "code",
   "execution_count": null,
   "id": "fa7668b1",
   "metadata": {},
   "outputs": [],
   "source": [
    "# giới hạn lấy playlist cho các chữ cái\n",
    "limit = 200\n",
    "main(limit)"
   ]
  },
  {
   "cell_type": "markdown",
   "id": "c6f6641b",
   "metadata": {},
   "source": [
    "**Lưu data vào file tsv**"
   ]
  },
  {
   "cell_type": "code",
   "execution_count": null,
   "id": "78d32657",
   "metadata": {},
   "outputs": [],
   "source": [
    "outputFile = \"Crawl_data/user1.csv\"\n",
    "list_to_tsv_csv(users, outputFile)\n",
    "outputFile = \"Crawl_data/track1.csv\"\n",
    "list_to_tsv_csv(tracks, outputFile)\n",
    "outputFile = \"Crawl_data/playlist1.csv\"\n",
    "list_to_tsv_csv(playlists, outputFile)"
   ]
  },
  {
   "cell_type": "code",
   "execution_count": null,
   "id": "3a212193",
   "metadata": {},
   "outputs": [],
   "source": [
    "print(len(users))\n",
    "print(len(tracks[\"user\"]))\n",
    "print(len(playlists[\"playlist\"]))"
   ]
  },
  {
   "cell_type": "code",
   "execution_count": null,
   "id": "873d7e41-1e5c-4c8b-8ed2-3855c16dcba8",
   "metadata": {},
   "outputs": [],
   "source": []
  }
 ],
 "metadata": {
  "kernelspec": {
   "display_name": "Python 3",
   "language": "python",
   "name": "python3"
  },
  "language_info": {
   "codemirror_mode": {
    "name": "ipython",
    "version": 3
   },
   "file_extension": ".py",
   "mimetype": "text/x-python",
   "name": "python",
   "nbconvert_exporter": "python",
   "pygments_lexer": "ipython3",
   "version": "3.8.8"
  }
 },
 "nbformat": 4,
 "nbformat_minor": 5
}
