{
 "cells": [
  {
   "cell_type": "code",
   "execution_count": null,
   "id": "0c89b457",
   "metadata": {},
   "outputs": [],
   "source": [
    "import requests\n",
    "import requests_cache\n",
    "from bs4 import BeautifulSoup\n",
    "import time\n",
    "import json\n",
    "import re\n",
    "import pandas as pd # Dùng để đọc và hiển thị file csv/tsv\n",
    "from selenium import webdriver\n",
    "from selenium.webdriver.common.keys import Keys\n",
    "from selenium.webdriver.support.ui import WebDriverWait\n",
    "from selenium.webdriver.support import expected_conditions as EC\n",
    "from selenium.webdriver.common.by import By\n",
    "from requests_html import HTML"
   ]
  },
  {
   "cell_type": "markdown",
   "id": "1892dde7",
   "metadata": {},
   "source": [
    "________________________________________"
   ]
  },
  {
   "cell_type": "code",
   "execution_count": null,
   "id": "463ae9a9",
   "metadata": {},
   "outputs": [],
   "source": [
    "# Lưu user\n",
    "users = set()\n",
    "# Lưu track\n",
    "tracks = {\"track\":[], \"user\":[]}\n",
    "# Lưu playlist\n",
    "playlists = {\"playlist\":[], \"user\":[], \"tracks\":[]}\n",
    "# Lưu link playlist của producer\n",
    "urls_user_playlist = set()\n",
    "# Lưu link playlist của discover\n",
    "urls_playlist = []"
   ]
  },
  {
   "cell_type": "markdown",
   "id": "bfd85a6d",
   "metadata": {},
   "source": [
    "**Chuyển từ list sang csv/tsv**"
   ]
  },
  {
   "cell_type": "code",
   "execution_count": null,
   "id": "86f97935",
   "metadata": {},
   "outputs": [],
   "source": [
    "def list_to_tsv_csv(listItem, outputFile):\n",
    "    df = pd.DataFrame(listItem)\n",
    "    df.to_csv(outputFile, sep='\\t')"
   ]
  },
  {
   "cell_type": "markdown",
   "id": "64e50e1d",
   "metadata": {},
   "source": [
    "**Bấm để đồng ý cookies**"
   ]
  },
  {
   "cell_type": "code",
   "execution_count": null,
   "id": "89512ff7",
   "metadata": {},
   "outputs": [],
   "source": [
    "def accept_cookies():\n",
    "    soup = BeautifulSoup(browser.page_source)\n",
    "    cookies = browser.find_element(By.XPATH,\"//button[@id='onetrust-accept-btn-handler']\")\n",
    "    cookies.click()"
   ]
  },
  {
   "cell_type": "markdown",
   "id": "b2f8f536",
   "metadata": {},
   "source": [
    "**Bấm vào các nút > đến hết ở trang discover**"
   ]
  },
  {
   "cell_type": "code",
   "execution_count": null,
   "id": "359da670",
   "metadata": {},
   "outputs": [],
   "source": [
    "def click_button():\n",
    "    soup = BeautifulSoup(browser.page_source)\n",
    "    genres = soup.find_all(\"li\", \"mixedModularHome__item\")\n",
    "\n",
    "    for i in range(len(genres)):\n",
    "        lists = genres[i].find_all(\"div\", \"tileGallery__sliderPanelSlide\")\n",
    "        j = 4\n",
    "        while True:\n",
    "            if j > len(lists):\n",
    "                break\n",
    "            browser.find_elements(By.XPATH,\"//button[contains(.,'forward')]\")[i].click()\n",
    "            j += 4"
   ]
  },
  {
   "cell_type": "markdown",
   "id": "a5a4af69",
   "metadata": {},
   "source": [
    "**Lấy hết tất cả playlists ở trang discover**"
   ]
  },
  {
   "cell_type": "code",
   "execution_count": null,
   "id": "6c513bf4",
   "metadata": {},
   "outputs": [],
   "source": [
    "def get_all_playlists_discover():\n",
    "    soup = BeautifulSoup(browser.page_source)  \n",
    "    genres = soup.find_all(\"li\", \"mixedModularHome__item\")\n",
    "\n",
    "    for i in range(len(genres)):\n",
    "        lists = genres[i].find_all(\"div\", \"tileGallery__sliderPanelSlide\")\n",
    "        for pl in lists:\n",
    "            title = pl.find(\"a\", \"playableTile__heading\").get_text().strip()\n",
    "            user = pl.find(\"a\", \"playableTile__usernameHeading\").get_text().strip()\n",
    "            link = pl.find(\"a\", \"playableTile__artworkLink\")[\"href\"]\n",
    "            if title not in playlists:\n",
    "                playlists[\"playlist\"].append(title)\n",
    "                playlists[\"user\"].append(user)\n",
    "                urls_playlist.append(\"https://soundcloud.com\" + link)"
   ]
  },
  {
   "cell_type": "markdown",
   "id": "5ca17e23",
   "metadata": {},
   "source": [
    "**Kéo xuống đến hết trang**"
   ]
  },
  {
   "cell_type": "code",
   "execution_count": null,
   "id": "bf96b190",
   "metadata": {},
   "outputs": [],
   "source": [
    "def scroll_down():\n",
    "    soup = BeautifulSoup(browser.page_source)\n",
    "    \n",
    "    count = int(soup.find(\"div\", \"genericTrackCount__title\").get_text())\n",
    "    \n",
    "    i = 15\n",
    "    while i < count:\n",
    "        browser.execute_script(\"window.scrollTo(0, document.body.scrollHeight)\")\n",
    "        time.sleep(3)\n",
    "        i += 15"
   ]
  },
  {
   "cell_type": "markdown",
   "id": "4b787e9b",
   "metadata": {},
   "source": [
    "**Lấy tất cả users và tracks của một playlist**"
   ]
  },
  {
   "cell_type": "code",
   "execution_count": null,
   "id": "80cd9953",
   "metadata": {},
   "outputs": [],
   "source": [
    "def get_all_users_tracks_playlist():\n",
    "    scroll_down()\n",
    "    \n",
    "    soup = BeautifulSoup(browser.page_source)\n",
    "    search = soup.find_all(\"li\", \"systemPlaylistTrackList__item\")\n",
    "    if len(search) == 0:\n",
    "        search = soup.find_all(\"li\", \"trackList__item\")\n",
    "\n",
    "    # Trích xuất user và track trong 1 playlist\n",
    "    trackIds = []\n",
    "    for producer in search:\n",
    "        user = producer.find(\"a\", \"trackItem__username\").get_text()\n",
    "        url = producer.find(\"a\", \"trackItem__username\").get('href')\n",
    "        track = producer.find(\"a\", \"trackItem__trackTitle\").get_text()\n",
    "        \n",
    "        users.add(user)\n",
    "        urls_user_playlist.add(\"https://soundcloud.com\" + url + \"/sets\")\n",
    "        \n",
    "        if track not in tracks[\"track\"]:\n",
    "            tracks[\"track\"].append(track)\n",
    "            tracks[\"user\"].append(user)\n",
    "        trackIds.append(tracks[\"track\"].index(track))\n",
    "        \n",
    "    playlists[\"tracks\"].append(trackIds)"
   ]
  },
  {
   "cell_type": "markdown",
   "id": "b2bc4585",
   "metadata": {},
   "source": [
    "**Lấy tất cả playlists của một user**"
   ]
  },
  {
   "cell_type": "code",
   "execution_count": null,
   "id": "31fb6c76",
   "metadata": {},
   "outputs": [],
   "source": [
    "def get_all_playlists_user(browser):\n",
    "    soup = BeautifulSoup(browser.page_source)\n",
    "    posts = soup.find_all(\"li\", \"soundList__item\")\n",
    "    \n",
    "    # kiểm tra có playlist hay không, nếu có chạy dưới, nếu không bỏ qua\n",
    "    if len(posts) != 0:\n",
    "        # nếu số playlists lớn hơn 4 thì sẽ scroll\n",
    "        if len(posts) > 4:\n",
    "            scroll_down2()\n",
    "            soup = BeautifulSoup(browser.page_source)\n",
    "            \n",
    "        # trích xuất playlist\n",
    "        for post in posts:\n",
    "            # lấy tên playlist\n",
    "            title = post.find(\"a\", \"soundTitle__title\").get_text().strip()\n",
    "            playlists[\"playlist\"].append(title)\n",
    "            \n",
    "            # lấy user của playlist\n",
    "            user = post.find(\"a\", \"soundTitle__usernameText\").get_text().strip()\n",
    "            playlists[\"user\"].append(user)\n",
    "\n",
    "            # lấy Id của các tracks có trong playlist theo index\n",
    "            songs = post.find_all(\"li\", \"compactTrackList__item\")\n",
    "            # lưu index của track\n",
    "            trackIds = []\n",
    "            for song in songs:\n",
    "                trackTitle = song.get_text().strip()\n",
    "                # nếu có track mới\n",
    "                if trackTitle not in tracks:\n",
    "                    tracks[\"track\"].append(trackTitle)\n",
    "                # lấy index của track\n",
    "                trackIds.append(tracks[\"track\"].index(trackTitle))\n",
    "            playlists[\"user\"].append(trackIds)"
   ]
  },
  {
   "cell_type": "code",
   "execution_count": null,
   "id": "f6510ac6",
   "metadata": {},
   "outputs": [],
   "source": [
    "def parse_users_tracks_per_genre():\n",
    "    for url in urls_playlist:\n",
    "        browser.execute_script('window.open(\"{link}\");'.format(link = url));\n",
    "        browser.switch_to.window(browser.window_handles[1])\n",
    "        time.sleep(2)\n",
    "        get_all_users_tracks_playlist()\n",
    "        time.sleep(1)\n",
    "        browser.close()\n",
    "        browser.switch_to.window(browser.window_handles[0])"
   ]
  },
  {
   "cell_type": "code",
   "execution_count": null,
   "id": "5ac63bc9",
   "metadata": {},
   "outputs": [],
   "source": [
    "def parse_playlists_per_genre():\n",
    "    for url in urls_user_playlist:\n",
    "        browser.execute_script('window.open(\"{link}\");'.format(link = url));\n",
    "        browser.switch_to.window(browser.window_handles[1])\n",
    "        time.sleep(2)\n",
    "        get_all_playlists_user()\n",
    "        time.sleep(1)\n",
    "        browser.close()\n",
    "        browser.switch_to.window(browser.window_handles[0])"
   ]
  },
  {
   "cell_type": "code",
   "execution_count": null,
   "id": "21dd151a",
   "metadata": {},
   "outputs": [],
   "source": [
    "browser = webdriver.Chrome()\n",
    "browser.get(\"https://soundcloud.com/discover\")\n",
    "\n",
    "accept_cookies()\n",
    "\n",
    "click_button()\n",
    "get_all_playlists_discover()\n",
    "\n",
    "parse_users_tracks_per_genre()\n",
    "\n",
    "browser.quit()"
   ]
  },
  {
   "cell_type": "code",
   "execution_count": null,
   "id": "707c0ae9",
   "metadata": {},
   "outputs": [],
   "source": [
    "# nên check lại bởi vì vài lần chưa scroll hết :<\n",
    "def scroll_down2():\n",
    "    soup = BeautifulSoup(browser.page_source)\n",
    "    \n",
    "    for i in range(4):\n",
    "        browser.execute_script(\"window.scrollTo(0, document.body.scrollHeight)\")\n",
    "        time.sleep(3)"
   ]
  },
  {
   "cell_type": "code",
   "execution_count": null,
   "id": "5d5e520f",
   "metadata": {},
   "outputs": [],
   "source": [
    "browser = webdriver.Chrome()\n",
    "browser.get(\"https://soundcloud.com/discover\")\n",
    "\n",
    "time.sleep(5)\n",
    "accept_cookies()\n",
    "\n",
    "parse_playlists_per_genre()"
   ]
  },
  {
   "cell_type": "markdown",
   "id": "c6f6641b",
   "metadata": {},
   "source": [
    "**Lưu data vào file tsv**"
   ]
  },
  {
   "cell_type": "code",
   "execution_count": null,
   "id": "78d32657",
   "metadata": {},
   "outputs": [],
   "source": [
    "outputFile = \"Crawl_data/user.csv\"\n",
    "list_to_tsv_csv(users, outputFile)\n",
    "outputFile = \"Crawl_data/track.csv\"\n",
    "list_to_tsv_csv(tracks, outputFile)\n",
    "outputFile = \"Crawl_data/playlist.csv\"\n",
    "list_to_tsv_csv(playlists, outputFile)"
   ]
  },
  {
   "cell_type": "code",
   "execution_count": null,
   "id": "3a212193",
   "metadata": {
    "scrolled": true
   },
   "outputs": [],
   "source": [
    "print(len(users))\n",
    "print(len(tracks[\"user\"]))\n",
    "print(len(playlists))"
   ]
  },
  {
   "cell_type": "code",
   "execution_count": null,
   "id": "2a61093b",
   "metadata": {},
   "outputs": [],
   "source": []
  },
  {
   "cell_type": "code",
   "execution_count": null,
   "id": "59504479",
   "metadata": {},
   "outputs": [],
   "source": []
  }
 ],
 "metadata": {
  "kernelspec": {
   "display_name": "Python 3",
   "language": "python",
   "name": "python3"
  },
  "language_info": {
   "codemirror_mode": {
    "name": "ipython",
    "version": 3
   },
   "file_extension": ".py",
   "mimetype": "text/x-python",
   "name": "python",
   "nbconvert_exporter": "python",
   "pygments_lexer": "ipython3",
   "version": "3.8.8"
  }
 },
 "nbformat": 4,
 "nbformat_minor": 5
}
