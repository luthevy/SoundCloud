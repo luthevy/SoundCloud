{
 "cells": [
  {
   "cell_type": "markdown",
   "id": "5fa72895-5416-431e-b10d-807290b20e53",
   "metadata": {},
   "source": [
    "### libraries"
   ]
  },
  {
   "cell_type": "code",
   "execution_count": null,
   "id": "fe0261b5-a58b-441a-8355-ff571c02dfd6",
   "metadata": {},
   "outputs": [],
   "source": [
    "import pandas as pd\n",
    "import numpy as np\n",
    "from pandas import json_normalize\n",
    "from datetime import datetime\n",
    "import seaborn as sns\n",
    "import matplotlib.pyplot as plt\n",
    "import json\n",
    "import scipy.stats as stats\n"
   ]
  },
  {
   "cell_type": "markdown",
   "id": "28897aa0-eb7e-4789-94b4-232e1450062f",
   "metadata": {},
   "source": [
    "### read csv to dataframe"
   ]
  },
  {
   "cell_type": "code",
   "execution_count": null,
   "id": "cfd9ce3e-2d5c-4ec0-9dd7-3eed4423ba9a",
   "metadata": {},
   "outputs": [],
   "source": [
    "df = pd.read_csv (r'tracks_file.csv',sep='\\t')"
   ]
  },
  {
   "cell_type": "markdown",
   "id": "365cc4ac-6f70-4e69-b83b-576eb4a9bfc7",
   "metadata": {},
   "source": [
    "_________________"
   ]
  },
  {
   "cell_type": "markdown",
   "id": "347e5c9d-69f6-4add-96ec-11c2a7018d02",
   "metadata": {},
   "source": [
    "### Histogram: created_at"
   ]
  },
  {
   "cell_type": "code",
   "execution_count": null,
   "id": "2dbe810c-9ac3-4fdc-83f2-595c28ab25c1",
   "metadata": {},
   "outputs": [],
   "source": [
    "df['created_at'] = pd.to_datetime(df['created_at']) # convert string data to datetime object\n",
    "df['created_at']"
   ]
  },
  {
   "cell_type": "code",
   "execution_count": null,
   "id": "ac2b8075-8162-4ba1-8560-c9b4b1187ab1",
   "metadata": {},
   "outputs": [],
   "source": [
    "sns.set(style=\"darkgrid\")\n",
    "sns.histplot(data=df['created_at'].dt.year, kde=False, color='red', bins=10)\n",
    "sns.set(rc={'figure.figsize':(10,8)})\n",
    "plt.title('Artwork Uploading Year Distribution', fontsize=18)\n",
    "plt.xlabel('Years', fontsize=16)\n",
    "plt.ylabel('Frequency', fontsize=16)\n",
    "plt.show()\n",
    "plt.clf()"
   ]
  },
  {
   "cell_type": "markdown",
   "id": "a8dfd3b6-ce31-49c4-8d47-5608edfadfc0",
   "metadata": {},
   "source": [
    "### Scatter: duration Vs. playback_count"
   ]
  },
  {
   "cell_type": "code",
   "execution_count": null,
   "id": "9d925d14-d789-447d-b91d-06399b58bbad",
   "metadata": {},
   "outputs": [],
   "source": [
    "# fig = plt.figure()\n",
    "sns.set(style='whitegrid')\n",
    "ax = sns.relplot(x=df['duration'] / 1000/ 60, y=df['playback_count'], kind='scatter',\n",
    "            height=6, aspect=2)\n",
    "ax.set(xlim=(0, 400)) # adjust this line or comment this line\n",
    "plt.xlabel('Track Duration by minutes')\n",
    "plt.ylabel('Playback Times')\n",
    "plt.title('Scatter plot showing relationship between Track Duration and Playback Count ')\n",
    "plt.ticklabel_format(style='plain', axis='y')\n",
    "# fig.subplots_adjust(right=2.000,bottom=-1.000)\n",
    "plt.show()\n",
    "plt.clf()"
   ]
  },
  {
   "cell_type": "markdown",
   "id": "26365ec0",
   "metadata": {},
   "source": [
    "### Distplot: Duration"
   ]
  },
  {
   "cell_type": "code",
   "execution_count": null,
   "id": "f49bb8c0",
   "metadata": {},
   "outputs": [],
   "source": [
    "ax = sns.displot(x=df['duration'] / 1000 / 60)\n",
    "ax.set(xlim=(0, 10)) # adjust this value\n",
    "sns.set(style=\"darkgrid\")\n",
    "plt.ticklabel_format(style='plain', axis='x')\n",
    "plt.xlabel('Minutes', fontsize=16)\n",
    "plt.ylabel('Frequency', fontsize=16)\n",
    "plt.title('Distplot showing distribution of duration by minutes')\n",
    "plt.show()\n",
    "plt.clf()\n"
   ]
  },
  {
   "cell_type": "markdown",
   "id": "bb374b7e",
   "metadata": {},
   "source": [
    "### joinplot: Like and repost of a track"
   ]
  },
  {
   "cell_type": "code",
   "execution_count": null,
   "id": "e6123d05",
   "metadata": {
    "scrolled": true
   },
   "outputs": [],
   "source": [
    "sns.set(style='whitegrid')\n",
    "ax = sns.scatterplot(x=df['reposts_count'], y=df['likes_count']) \n",
    "\n",
    "plt.xlabel('Repost', fontsize=16)\n",
    "plt.ylabel('Like', fontsize=16)\n",
    "plt.title('Scatter plot showing relationship between Like count and Repost count ')\n",
    "plt.show()\n",
    "plt.clf()\n"
   ]
  },
  {
   "cell_type": "markdown",
   "id": "51bb7961",
   "metadata": {},
   "source": [
    "### Boxplot: playback, comment, like, repost"
   ]
  },
  {
   "cell_type": "code",
   "execution_count": null,
   "id": "93f8dd01",
   "metadata": {},
   "outputs": [],
   "source": [
    "sns.boxplot(x=df['playback_count']);"
   ]
  },
  {
   "cell_type": "markdown",
   "id": "0a136fd2",
   "metadata": {},
   "source": [
    "### Correlation matrix: comment, duration, like, repost, download, playback"
   ]
  },
  {
   "cell_type": "code",
   "execution_count": null,
   "id": "8290d193",
   "metadata": {},
   "outputs": [],
   "source": [
    "df1 = df[['comment_count','duration','likes_count','reposts_count','download_count','playback_count']]\n",
    "sns.heatmap(df1.corr())\n",
    "plt.title('Correlation matrix showing relationship between numeric-data-type columns of track');"
   ]
  },
  {
   "cell_type": "markdown",
   "id": "5da72185",
   "metadata": {},
   "source": [
    "### Jointplot: duration vs. likes_count"
   ]
  },
  {
   "cell_type": "code",
   "execution_count": null,
   "id": "39c6e07f",
   "metadata": {},
   "outputs": [],
   "source": [
    "# Plot the jointplot\n",
    "sns.set_style('darkgrid');\n",
    "p = sns.jointplot(x='duration',y='likes_count',data=df,kind='kde')\n",
    "\n",
    "# JointGrid has a convenience function\n",
    "p.set_axis_labels('Duration', 'Likes count', fontsize=16)\n",
    "  \n",
    "# Set title for plot\n",
    "p.fig.suptitle( \"How does duration affect the likes count?\" , size = 24 )\n",
    "  \n",
    "# Display figure\n",
    "plt.tight_layout()"
   ]
  },
  {
   "cell_type": "code",
   "execution_count": null,
   "id": "8f50a350",
   "metadata": {},
   "outputs": [],
   "source": []
  }
 ],
 "metadata": {
  "kernelspec": {
   "display_name": "Python 3 (ipykernel)",
   "language": "python",
   "name": "python3"
  },
  "language_info": {
   "codemirror_mode": {
    "name": "ipython",
    "version": 3
   },
   "file_extension": ".py",
   "mimetype": "text/x-python",
   "name": "python",
   "nbconvert_exporter": "python",
   "pygments_lexer": "ipython3",
   "version": "3.9.7"
  }
 },
 "nbformat": 4,
 "nbformat_minor": 5
}
