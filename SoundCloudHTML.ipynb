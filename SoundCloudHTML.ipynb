{
 "cells": [
  {
   "cell_type": "code",
   "execution_count": 1,
   "id": "eca4eca5",
   "metadata": {},
   "outputs": [],
   "source": [
    "import requests\n",
    "import requests_cache\n",
    "from bs4 import BeautifulSoup\n",
    "import time\n",
    "import json\n",
    "import re\n",
    "import pandas as pd # Dùng để đọc và hiển thị file csv/tsv\n",
    "from selenium import webdriver\n",
    "from selenium.webdriver.common.keys import Keys\n",
    "from selenium.webdriver.support.ui import WebDriverWait\n",
    "from selenium.webdriver.support import expected_conditions as EC\n",
    "from selenium.webdriver.common.by import By\n",
    "from requests_html import HTML"
   ]
  },
  {
   "cell_type": "markdown",
   "id": "d0a0d411-7e76-4fce-aa34-86705bb293b8",
   "metadata": {},
   "source": [
    "________________________________________"
   ]
  },
  {
   "cell_type": "code",
   "execution_count": 2,
   "id": "efaa3cc4-9202-44d8-af16-e9921ab620d7",
   "metadata": {},
   "outputs": [],
   "source": [
    "url = \"https://soundcloud.com/discover\""
   ]
  },
  {
   "cell_type": "code",
   "execution_count": 3,
   "id": "83f94c9f-8a21-4e34-b9bf-5ec2f3852861",
   "metadata": {},
   "outputs": [],
   "source": [
    "browser = webdriver.Chrome()\n",
    "browser.get(url)"
   ]
  },
  {
   "cell_type": "code",
   "execution_count": 4,
   "id": "3db69f4e-ac5d-4f39-b1e2-2a88c78b5a8b",
   "metadata": {},
   "outputs": [],
   "source": [
    "soup = BeautifulSoup(browser.page_source)"
   ]
  },
  {
   "cell_type": "code",
   "execution_count": 5,
   "id": "83bf9438-e5d2-4eea-8eb0-fdea5e714dcc",
   "metadata": {},
   "outputs": [],
   "source": [
    "tracks = []\n",
    "playlists = []\n",
    "users = []\n",
    "\n",
    "# Lưu link profile của producer\n",
    "urls_user = []"
   ]
  },
  {
   "cell_type": "code",
   "execution_count": 12,
   "id": "9990116f-0b8d-4f68-9d2d-0f9badd7438f",
   "metadata": {},
   "outputs": [],
   "source": [
    "# nên check lại bởi vì vài lần chưa scroll hết :<\n",
    "def scroll_down():\n",
    "    # Loop 2 lần cho chắc ăn (có thể cho 3 lần)\n",
    "    for i in range(2):\n",
    "        lenOfPage = browser.execute_script(\"window.scrollTo(0, document.body.scrollHeight);var lenOfPage=document.body.scrollHeight;return lenOfPage;\")\n",
    "        lastCount = 0\n",
    "        match = False\n",
    "        \n",
    "        while(match == False):\n",
    "            time.sleep(3)\n",
    "            lenOfPage = browser.execute_script(\"window.scrollTo(0, document.body.scrollHeight);var lenOfPage=document.body.scrollHeight;return lenOfPage;\")\n",
    "            if lastCount == lenOfPage: \n",
    "                match = True\n",
    "            else: \n",
    "                lastCount = lenOfPage"
   ]
  },
  {
   "cell_type": "code",
   "execution_count": null,
   "id": "4810afd1-cb75-4b2f-9a91-5255433ad995",
   "metadata": {},
   "outputs": [],
   "source": [
    "# nên check lại bởi vì vài lần chưa scroll hết :<\n",
    "def scroll_up():\n",
    "    # Loop 2 lần cho chắc ăn (có thể cho 3 lần)\n",
    "    for i in range(2):\n",
    "        lenOfPage = browser.execute_script(\"window.scrollTo(document.body.scrollHeight, 0);var lenOfPage=document.body.scrollHeight;return lenOfPage;\")\n",
    "        lastCount = 0\n",
    "        match = False\n",
    "        \n",
    "        while(match == False):\n",
    "            time.sleep(3)\n",
    "            lenOfPage = browser.execute_script(\"window.scrollTo(document.body.scrollHeight,0);var lenOfPage=document.body.scrollHeight;return lenOfPage;\")\n",
    "            if lastCount == lenOfPage: \n",
    "                match = True\n",
    "            else: \n",
    "                lastCount = lenOfPage"
   ]
  },
  {
   "cell_type": "code",
   "execution_count": null,
   "id": "5b06012f-2b2d-42b3-b13d-90adea5d530a",
   "metadata": {},
   "outputs": [],
   "source": [
    "def list_to_tsv_csv(listItem, outputFile):\n",
    "    df = pd.DataFrame(listItem)\n",
    "    df.to_csv(outputFile, sep='\\t')"
   ]
  },
  {
   "cell_type": "code",
   "execution_count": null,
   "id": "8bb1151d-fc49-4b19-a1b4-27d4131941b7",
   "metadata": {},
   "outputs": [],
   "source": [
    "# Đồng ý cookies\n",
    "cookies = browser.find_element(By.XPATH,\"//button[@id='onetrust-accept-btn-handler']\")\n",
    "cookies.click()\n",
    "    \n",
    "# Chọn một tab genre (demo)\n",
    "time.sleep(2)\n",
    "genre = browser.find_element(By.XPATH,\"//a[@class='playableTile__heading playableTile__mainHeading sc-truncate sc-type-light sc-text-secondary sc-font-light sc-link-dark sc-link-primary sc-text-h4']\")\n",
    "genre.click()\n",
    "\n",
    "time.sleep(2)\n",
    "scroll_down_till_end()"
   ]
  },
  {
   "cell_type": "code",
   "execution_count": null,
   "id": "7e77878b",
   "metadata": {},
   "outputs": [],
   "source": [
    "# bấm nút > đến hết\n",
    "soup = BeautifulSoup(browser.page_source)\n",
    "genres = soup.find_all(\"li\", \"mixedModularHome__item\")\n",
    "\n",
    "for i in range(len(genres)):\n",
    "    lists = genres[i].find_all(\"div\", \"tileGallery__sliderPanelSlide\")\n",
    "    j = 4\n",
    "    while True:\n",
    "        if j > len(lists):\n",
    "            break\n",
    "        browser.find_elements(By.XPATH,\"//button[contains(.,'forward')]\")[i].click()\n",
    "        j += 4"
   ]
  },
  {
   "cell_type": "code",
   "execution_count": null,
   "id": "8097bac3",
   "metadata": {},
   "outputs": [],
   "source": [
    "# lấy hết tất cả playlists\n",
    "soup = BeautifulSoup(browser.page_source)  \n",
    "genres = soup.find_all(\"li\", \"mixedModularHome__item\")\n",
    "links = []\n",
    "\n",
    "for i in range(len(genres)):\n",
    "    lists = genres[i].find_all(\"div\", \"tileGallery__sliderPanelSlide\")\n",
    "    for pl in lists:\n",
    "        title = pl.find(\"a\", \"playableTile__heading\").get_text().strip()\n",
    "        playlists.append(title)\n",
    "        link = pl.find(\"a\", \"playableTile__artworkLink\")[\"href\"]\n",
    "        links.append(\"https://soundcloud.com\" + link)"
   ]
  },
  {
   "cell_type": "code",
   "execution_count": null,
   "id": "7d003bae-4972-46a9-8549-fcac41427b9c",
   "metadata": {},
   "outputs": [],
   "source": [
    "soup = BeautifulSoup(browser.page_source)\n",
    "\n",
    "# Trích xuất link profile của các producer có mặt trong 1 tab genre\n",
    "time.sleep(3)\n",
    "search = soup.find_all(\"li\", \"systemPlaylistTrackList__item\")\n",
    "# time.sleep(3)\n",
    "for producer in search:\n",
    "    user = producer.find(\"a\", \"trackItem__username\").get_text()\n",
    "    url = producer.find(\"a\", \"trackItem__username\").get('href')\n",
    "    # print(name.get('href'))\n",
    "    users.append(user)\n",
    "    urls_user.append(url)"
   ]
  },
  {
   "cell_type": "markdown",
   "id": "a446931d-375e-4c72-b1d7-e7e14a774916",
   "metadata": {},
   "source": [
    "**Lấy tất cả tracks của một user**"
   ]
  },
  {
   "cell_type": "code",
   "execution_count": null,
   "id": "18f72304-54bb-450e-8e90-6fa8a0be444b",
   "metadata": {},
   "outputs": [],
   "source": [
    "def get_all_tracks():\n",
    "    scroll_down()\n",
    "    time.sleep(2)\n",
    "    soup = BeautifulSoup(browser.page_source)\n",
    "    \n",
    "    songs = soup.find_all(\"li\", \"soundList__item\")\n",
    "    for track in songs:\n",
    "        title = track.find(\"a\", \"soundTitle__title\").get_text().strip()\n",
    "        # kiểm tra có bị trùng\n",
    "        if title not in tracks:\n",
    "            tracks.append(title)"
   ]
  },
  {
   "cell_type": "markdown",
   "id": "9e6135e7-cd54-4116-ad40-4e6cab17cb21",
   "metadata": {},
   "source": [
    "**Lấy tất cả playlists của một user**"
   ]
  },
  {
   "cell_type": "code",
   "execution_count": 7,
   "id": "7b135c4d-003f-47b6-a84e-edccb831cc17",
   "metadata": {},
   "outputs": [],
   "source": [
    "def get_all_playlists():\n",
    "    time.sleep(3)\n",
    "    tab_playlists = browser.find_element(By.XPATH,'//a[contains(@href,\"/sets\")]')\n",
    "    tab_playlists.click()\n",
    "    \n",
    "    time.sleep(3)\n",
    "    scroll_down()\n",
    "    soup = BeautifulSoup(browser.page_source)\n",
    "    \n",
    "    playlists = soup.find_all(\"li\", \"soundList__item\")\n",
    "    for playlist in playlists:\n",
    "        title = playlist.find(\"a\", \"soundTitle__title\")\n",
    "        if title is None:\n",
    "            break\n",
    "        print(title.get_text())\n",
    "        playlists.append(title.get_text().strip())"
   ]
  },
  {
   "cell_type": "code",
   "execution_count": null,
   "id": "250abd19-bec1-4475-be46-efcdda9bb654",
   "metadata": {},
   "outputs": [],
   "source": [
    "def parse_tracks_per_genre():\n",
    "    for url in urls_user:   \n",
    "        browser.execute_script('window.open(\"{link}\");'.format(link = url));\n",
    "        browser.switch_to.window(browser.window_handles[1])\n",
    "        get_all_tracks()\n",
    "        time.sleep(2)\n",
    "#         get_all_playlists()\n",
    "#         time.sleep(2)\n",
    "        browser.close()\n",
    "        browser.switch_to.window(browser.window_handles[0])"
   ]
  },
  {
   "cell_type": "code",
   "execution_count": null,
   "id": "bed0493e-7741-4070-a22a-370d235fa64d",
   "metadata": {},
   "outputs": [],
   "source": [
    "parse_tracks_per_genre()"
   ]
  },
  {
   "cell_type": "markdown",
   "id": "55ad88c6-e39d-4f5e-b275-3d3b5c91c130",
   "metadata": {},
   "source": [
    "**Lưu data vào file tsv**"
   ]
  },
  {
   "cell_type": "code",
   "execution_count": null,
   "id": "042ccb1b-0847-4a5c-a421-8ce67a9b0863",
   "metadata": {},
   "outputs": [],
   "source": [
    "outputFile = \"playlists.tsv\"\n",
    "list_to_tsv_csv(playlists, outputFile)\n",
    "print(len(playlists))"
   ]
  },
  {
   "cell_type": "code",
   "execution_count": null,
   "id": "aadcde26",
   "metadata": {},
   "outputs": [],
   "source": []
  }
 ],
 "metadata": {
  "kernelspec": {
   "display_name": "Python 3",
   "language": "python",
   "name": "python3"
  },
  "language_info": {
   "codemirror_mode": {
    "name": "ipython",
    "version": 3
   },
   "file_extension": ".py",
   "mimetype": "text/x-python",
   "name": "python",
   "nbconvert_exporter": "python",
   "pygments_lexer": "ipython3",
   "version": "3.8.8"
  }
 },
 "nbformat": 4,
 "nbformat_minor": 5
}
