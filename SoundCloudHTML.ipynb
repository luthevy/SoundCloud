{
 "cells": [
  {
   "cell_type": "code",
   "execution_count": 1,
   "id": "0c89b457",
   "metadata": {},
   "outputs": [],
   "source": [
    "import requests\n",
    "import requests_cache\n",
    "from bs4 import BeautifulSoup\n",
    "import time\n",
    "import json\n",
    "import re\n",
    "import pandas as pd\n",
    "from selenium import webdriver\n",
    "from selenium.webdriver.common.keys import Keys\n",
    "from selenium.webdriver.support.ui import WebDriverWait\n",
    "from selenium.webdriver.support import expected_conditions as EC\n",
    "from selenium.webdriver.common.by import By\n",
    "from requests_html import HTML"
   ]
  },
  {
   "cell_type": "markdown",
   "id": "1892dde7",
   "metadata": {},
   "source": [
    "________________________________________"
   ]
  },
  {
   "cell_type": "markdown",
   "id": "3043551b",
   "metadata": {},
   "source": [
    "# **Functions**"
   ]
  },
  {
   "cell_type": "markdown",
   "id": "64e50e1d",
   "metadata": {},
   "source": [
    "**Bấm để đồng ý cookies**"
   ]
  },
  {
   "cell_type": "code",
   "execution_count": 2,
   "id": "89512ff7",
   "metadata": {},
   "outputs": [],
   "source": [
    "def accept_cookies(browser):\n",
    "    cookies = browser.find_element(By.XPATH,\"//button[@id='onetrust-accept-btn-handler']\")\n",
    "    cookies.click()"
   ]
  },
  {
   "cell_type": "markdown",
   "id": "b2f8f536",
   "metadata": {},
   "source": [
    "**Bấm vào các nút > đến hết ở trang discover**"
   ]
  },
  {
   "cell_type": "code",
   "execution_count": 3,
   "id": "359da670",
   "metadata": {},
   "outputs": [],
   "source": [
    "def click_button(browser):\n",
    "    soup = BeautifulSoup(browser.page_source)\n",
    "    # lấy tất cả thể loại ở trang discover\n",
    "    genres = soup.find_all(\"li\", \"mixedModularHome__item\")\n",
    "\n",
    "    # chạy lặp hết tất cả thể loại\n",
    "    for i in range(len(genres)):\n",
    "        # lấy tất cả playlists của 1 thể loại\n",
    "        lists = genres[i].find_all(\"div\", \"tileGallery__sliderPanelSlide\")\n",
    "        j = 4   # j: số playlists hiện lên (có thể parse) sau mỗi lần click button\n",
    "        # lặp đến khi j > số playlists của thể loại đó\n",
    "        while True:\n",
    "            if j > len(lists):\n",
    "                break\n",
    "            # click vào button\n",
    "            browser.find_elements(By.XPATH,\"//button[contains(.,'forward')]\")[i].click()\n",
    "            j += 4"
   ]
  },
  {
   "cell_type": "markdown",
   "id": "a5a4af69",
   "metadata": {},
   "source": [
    "**Lấy hết tất cả playlists ở trang discover**"
   ]
  },
  {
   "cell_type": "code",
   "execution_count": 4,
   "id": "6c513bf4",
   "metadata": {},
   "outputs": [],
   "source": [
    "def get_all_playlists_discover(browser):\n",
    "    soup = BeautifulSoup(browser.page_source)\n",
    "    # lấy tất cả thể loại ở trang discover\n",
    "    genres = soup.find_all(\"li\", \"mixedModularHome__item\")\n",
    "\n",
    "    # chạy lặp hết tất cả thể loại\n",
    "    for i in range(len(genres)):\n",
    "        # lấy tất cả playlists của 1 thể loại\n",
    "        lists = genres[i].find_all(\"div\", \"tileGallery__sliderPanelSlide\")\n",
    "        # trích xuất playlist và url của playlist đó\n",
    "        for pl in lists:\n",
    "            title = pl.find(\"a\", \"playableTile__heading\").get_text().strip()\n",
    "            user = pl.find(\"a\", \"playableTile__usernameHeading\")\n",
    "            link = pl.find(\"a\", \"playableTile__artworkLink\")[\"href\"]\n",
    "            # kiểm tra nếu có bị trùng tên\n",
    "            if title not in playlists:\n",
    "                playlists[\"playlist\"].append(title)\n",
    "                if user is None:  \n",
    "                    playlists[\"user\"].append(\"Discover\")\n",
    "                else:\n",
    "                    playlists[\"user\"].append(user.get_text().strip())\n",
    "                urls_playlist.append(\"https://soundcloud.com\" + link)"
   ]
  },
  {
   "cell_type": "markdown",
   "id": "5ca17e23",
   "metadata": {},
   "source": [
    "**Kéo xuống đến hết trang**"
   ]
  },
  {
   "cell_type": "code",
   "execution_count": 5,
   "id": "bf96b190",
   "metadata": {},
   "outputs": [],
   "source": [
    "def scroll_down(browser):\n",
    "    # chạy lặp 2 lần (có thể tăng số lần để đảm bảo scroll hết)\n",
    "    for i in range(2):\n",
    "        lenOfPage = browser.execute_script(\"window.scrollTo(0, document.body.scrollHeight);var lenOfPage=document.body.scrollHeight;return lenOfPage;\")\n",
    "        lastCount = 0\n",
    "        match = False\n",
    "        \n",
    "        while(match == False):\n",
    "            time.sleep(3)\n",
    "            lenOfPage = browser.execute_script(\"window.scrollTo(0, document.body.scrollHeight);var lenOfPage=document.body.scrollHeight;return lenOfPage;\")\n",
    "            if lastCount == lenOfPage: \n",
    "                match = True\n",
    "            else: \n",
    "                lastCount = lenOfPage"
   ]
  },
  {
   "cell_type": "markdown",
   "id": "4b787e9b",
   "metadata": {},
   "source": [
    "**Lấy tất cả users và tracks của một playlist**"
   ]
  },
  {
   "cell_type": "code",
   "execution_count": 6,
   "id": "80cd9953",
   "metadata": {},
   "outputs": [],
   "source": [
    "def get_all_users_tracks_playlist(browser):\n",
    "    soup = BeautifulSoup(browser.page_source)\n",
    "    \n",
    "    # số tracks của 1 playlist\n",
    "    count = int(soup.find(\"div\", \"genericTrackCount__title\").get_text())\n",
    "    \n",
    "    # isUserPlaylist: điều kiện có phải playlist của user hay không\n",
    "    # playlist của discover và playlist của user tuy nhìn giống nhau nhưng điều kiện lấy lại khác nhau\n",
    "    isUserPlaylist = False\n",
    "    \n",
    "    # tìm hết tất cả tracks của playlist\n",
    "    # nếu len(search) bằng 0 (không có) thì playlist này là playlist của user\n",
    "    search = soup.find_all(\"li\", \"systemPlaylistTrackList__item\")\n",
    "    if len(search) == 0:\n",
    "        isUserPlaylist = True\n",
    "    \n",
    "    if isUserPlaylist == False:\n",
    "        # playlist của discover có thể parse 20 tracks khi không cần scroll\n",
    "        # nếu lớn hơn sẽ scroll xuống (tiết kiệm thời gian scroll)\n",
    "        if count > 20:\n",
    "            scroll_down()\n",
    "            soup = BeautifulSoup(browser.page_source)\n",
    "        search = soup.find_all(\"li\", \"systemPlaylistTrackList__item\")\n",
    "            \n",
    "    elif isUserPlaylist == True:\n",
    "        # playlist của user có thể parse 15 tracks khi không cần scroll\n",
    "        # nếu lớn hơn sẽ scroll xuống (tiết kiệm thời gian scroll)\n",
    "        if count > 15:\n",
    "            scroll_down()\n",
    "            soup = BeautifulSoup(browser.page_source)\n",
    "        search = soup.find_all(\"li\", \"trackList__item\")\n",
    "\n",
    "    trackIds = []\n",
    "    # trích xuất user và track trong 1 playlist\n",
    "    for producer in search:\n",
    "        user = producer.find(\"a\", \"trackItem__username\").get_text()\n",
    "        url = producer.find(\"a\", \"trackItem__username\").get('href')\n",
    "        track = producer.find(\"a\", \"trackItem__trackTitle\").get_text()\n",
    "        \n",
    "        users.add(user)\n",
    "        urls_user_playlist.add(\"https://soundcloud.com\" + url + \"/sets\")\n",
    "        \n",
    "        # kiểm tra nếu có bị trùng tên\n",
    "        if track not in tracks[\"track\"]:\n",
    "            tracks[\"track\"].append(track)\n",
    "            tracks[\"user\"].append(user)\n",
    "        trackIds.append(tracks[\"track\"].index(track))\n",
    "        \n",
    "    playlists[\"tracks\"].append(trackIds)"
   ]
  },
  {
   "cell_type": "markdown",
   "id": "b2bc4585",
   "metadata": {},
   "source": [
    "**Lấy tất cả playlists của một user**"
   ]
  },
  {
   "cell_type": "code",
   "execution_count": 7,
   "id": "31fb6c76",
   "metadata": {},
   "outputs": [],
   "source": [
    "def get_all_playlists_user(browser):\n",
    "    soup = BeautifulSoup(browser.page_source)\n",
    "    posts = soup.find_all(\"li\", \"soundList__item\")\n",
    "    \n",
    "    # kiểm tra có playlist hay không, nếu có chạy dưới, nếu không bỏ qua\n",
    "    if len(posts) != 0:\n",
    "        # nếu số playlists lớn hơn 4 thì sẽ scroll\n",
    "        if len(posts) > 4:\n",
    "            scroll_down()\n",
    "            soup = BeautifulSoup(browser.page_source)\n",
    "            \n",
    "        # trích xuất playlist\n",
    "        for post in posts:\n",
    "            # lấy tên playlist\n",
    "            title = post.find(\"a\", \"soundTitle__title\").get_text().strip()\n",
    "            playlists[\"playlist\"].append(title)\n",
    "            \n",
    "            # lấy user của playlist\n",
    "            user = post.find(\"a\", \"soundTitle__usernameText\").get_text().strip()\n",
    "            playlists[\"user\"].append(user)\n",
    "\n",
    "            # lấy Id của các tracks có trong playlist theo index\n",
    "            songs = post.find_all(\"li\", \"compactTrackList__item\")\n",
    "            # lưu index của track\n",
    "            trackIds = []\n",
    "            for song in songs:\n",
    "                trackTitle = song.get_text().strip()\n",
    "                # nếu có track mới\n",
    "                if trackTitle not in tracks:\n",
    "                    tracks[\"track\"].append(trackTitle)\n",
    "                # lấy index của track\n",
    "                trackIds.append(tracks[\"track\"].index(trackTitle))\n",
    "            playlists[\"user\"].append(trackIds)"
   ]
  },
  {
   "cell_type": "markdown",
   "id": "62805411",
   "metadata": {},
   "source": [
    "**Lấy hết tất cả users và tracks của tất cả playlists trích xuất được từ trang discover**"
   ]
  },
  {
   "cell_type": "code",
   "execution_count": 8,
   "id": "f6510ac6",
   "metadata": {},
   "outputs": [],
   "source": [
    "def parse_users_tracks_per_genre(browser):\n",
    "    for url in urls_playlist:\n",
    "        # mở tab mới\n",
    "        browser.execute_script('window.open(\"{link}\");'.format(link = url));\n",
    "        # chuyển browser về tab mới\n",
    "        browser.switch_to.window(browser.window_handles[1])\n",
    "        time.sleep(2)\n",
    "        # thực hiện lấy users và tracks\n",
    "        get_all_users_tracks_playlist()\n",
    "        time.sleep(1)\n",
    "        # đóng tab\n",
    "        browser.close()\n",
    "        # chuyển browser về tab discover\n",
    "        browser.switch_to.window(browser.window_handles[0])"
   ]
  },
  {
   "cell_type": "markdown",
   "id": "4a62a92f",
   "metadata": {},
   "source": [
    "**Lấy tất cả playlists của một user**"
   ]
  },
  {
   "cell_type": "code",
   "execution_count": 9,
   "id": "5ac63bc9",
   "metadata": {},
   "outputs": [],
   "source": [
    "def parse_playlists_per_genre(browser):\n",
    "    for url in urls_user_playlist:\n",
    "        # mở tab mới\n",
    "        browser.execute_script('window.open(\"{link}\");'.format(link = url));\n",
    "        # chuyển browser về tab mới\n",
    "        browser.switch_to.window(browser.window_handles[1])\n",
    "        time.sleep(2)\n",
    "        # thực hiện lấy users và tracks\n",
    "        get_all_playlists_user()\n",
    "        time.sleep(1)\n",
    "        # đóng tab\n",
    "        browser.close()\n",
    "        # chuyển browser về tab discover\n",
    "        browser.switch_to.window(browser.window_handles[0])"
   ]
  },
  {
   "cell_type": "markdown",
   "id": "2fb2710c",
   "metadata": {},
   "source": [
    "**Chuyển từ list sang csv/tsv**"
   ]
  },
  {
   "cell_type": "code",
   "execution_count": 10,
   "id": "1c284b73",
   "metadata": {},
   "outputs": [],
   "source": [
    "def list_to_tsv_csv(listItem, outputFile):\n",
    "    df = pd.DataFrame(listItem)\n",
    "    df.to_csv(outputFile, sep='\\t')"
   ]
  },
  {
   "cell_type": "markdown",
   "id": "ccf60d3b",
   "metadata": {},
   "source": [
    "________________________________________"
   ]
  },
  {
   "cell_type": "markdown",
   "id": "4a79fc32",
   "metadata": {},
   "source": [
    "# **Main**"
   ]
  },
  {
   "cell_type": "markdown",
   "id": "f0b3e49e",
   "metadata": {},
   "source": [
    "**Khởi tạo các list để lưu thông tin**"
   ]
  },
  {
   "cell_type": "code",
   "execution_count": 11,
   "id": "defd4bd8",
   "metadata": {},
   "outputs": [],
   "source": [
    "# Lưu user\n",
    "users = set()\n",
    "# Lưu track\n",
    "tracks = {\"track\":[], \"user\":[]}\n",
    "# Lưu playlist\n",
    "playlists = {\"playlist\":[], \"user\":[], \"tracks\":[]}\n",
    "# Lưu link playlist của producer\n",
    "urls_user_playlist = set()\n",
    "# Lưu link playlist của discover\n",
    "urls_playlist = []"
   ]
  },
  {
   "cell_type": "code",
   "execution_count": 12,
   "id": "fa48d42b",
   "metadata": {},
   "outputs": [
    {
     "ename": "NoSuchElementException",
     "evalue": "Message: no such element: Unable to locate element: {\"method\":\"xpath\",\"selector\":\"//button[@id='onetrust-accept-btn-handler']\"}\n  (Session info: chrome=95.0.4638.69)\nStacktrace:\n0   chromedriver                        0x00000001018d9c99 __gxx_personality_v0 + 579209\n1   chromedriver                        0x00000001018655f3 __gxx_personality_v0 + 102371\n2   chromedriver                        0x000000010142b288 chromedriver + 172680\n3   chromedriver                        0x000000010146025c chromedriver + 389724\n4   chromedriver                        0x0000000101492104 chromedriver + 594180\n5   chromedriver                        0x000000010147d3cd chromedriver + 508877\n6   chromedriver                        0x000000010148feab chromedriver + 585387\n7   chromedriver                        0x000000010147d693 chromedriver + 509587\n8   chromedriver                        0x0000000101453b7e chromedriver + 338814\n9   chromedriver                        0x0000000101454ea5 chromedriver + 343717\n10  chromedriver                        0x000000010189577f __gxx_personality_v0 + 299375\n11  chromedriver                        0x00000001018ac68a __gxx_personality_v0 + 393338\n12  chromedriver                        0x00000001018b28eb __gxx_personality_v0 + 418523\n13  chromedriver                        0x00000001018ada2a __gxx_personality_v0 + 398362\n14  chromedriver                        0x000000010188a34c __gxx_personality_v0 + 253244\n15  chromedriver                        0x00000001018c9c48 __gxx_personality_v0 + 513592\n16  chromedriver                        0x00000001018c9dd1 __gxx_personality_v0 + 513985\n17  chromedriver                        0x00000001018e10c8 __gxx_personality_v0 + 608952\n18  libsystem_pthread.dylib             0x00007fff203be8fc _pthread_start + 224\n19  libsystem_pthread.dylib             0x00007fff203ba443 thread_start + 15\n",
     "output_type": "error",
     "traceback": [
      "\u001b[0;31m---------------------------------------------------------------------------\u001b[0m",
      "\u001b[0;31mNoSuchElementException\u001b[0m                    Traceback (most recent call last)",
      "\u001b[0;32m<ipython-input-12-7ff79c1e0bdb>\u001b[0m in \u001b[0;36m<module>\u001b[0;34m\u001b[0m\n\u001b[1;32m      3\u001b[0m \u001b[0;34m\u001b[0m\u001b[0m\n\u001b[1;32m      4\u001b[0m \u001b[0mtime\u001b[0m\u001b[0;34m.\u001b[0m\u001b[0msleep\u001b[0m\u001b[0;34m(\u001b[0m\u001b[0;36m3\u001b[0m\u001b[0;34m)\u001b[0m\u001b[0;34m\u001b[0m\u001b[0;34m\u001b[0m\u001b[0m\n\u001b[0;32m----> 5\u001b[0;31m \u001b[0maccept_cookies\u001b[0m\u001b[0;34m(\u001b[0m\u001b[0mbrowser\u001b[0m\u001b[0;34m)\u001b[0m\u001b[0;34m\u001b[0m\u001b[0;34m\u001b[0m\u001b[0m\n\u001b[0m\u001b[1;32m      6\u001b[0m \u001b[0;34m\u001b[0m\u001b[0m\n\u001b[1;32m      7\u001b[0m \u001b[0mtime\u001b[0m\u001b[0;34m.\u001b[0m\u001b[0msleep\u001b[0m\u001b[0;34m(\u001b[0m\u001b[0;36m1\u001b[0m\u001b[0;34m)\u001b[0m\u001b[0;34m\u001b[0m\u001b[0;34m\u001b[0m\u001b[0m\n",
      "\u001b[0;32m<ipython-input-2-a5c6cfe871d1>\u001b[0m in \u001b[0;36maccept_cookies\u001b[0;34m(browser)\u001b[0m\n\u001b[1;32m      1\u001b[0m \u001b[0;32mdef\u001b[0m \u001b[0maccept_cookies\u001b[0m\u001b[0;34m(\u001b[0m\u001b[0mbrowser\u001b[0m\u001b[0;34m)\u001b[0m\u001b[0;34m:\u001b[0m\u001b[0;34m\u001b[0m\u001b[0;34m\u001b[0m\u001b[0m\n\u001b[0;32m----> 2\u001b[0;31m     \u001b[0mcookies\u001b[0m \u001b[0;34m=\u001b[0m \u001b[0mbrowser\u001b[0m\u001b[0;34m.\u001b[0m\u001b[0mfind_element\u001b[0m\u001b[0;34m(\u001b[0m\u001b[0mBy\u001b[0m\u001b[0;34m.\u001b[0m\u001b[0mXPATH\u001b[0m\u001b[0;34m,\u001b[0m\u001b[0;34m\"//button[@id='onetrust-accept-btn-handler']\"\u001b[0m\u001b[0;34m)\u001b[0m\u001b[0;34m\u001b[0m\u001b[0;34m\u001b[0m\u001b[0m\n\u001b[0m\u001b[1;32m      3\u001b[0m     \u001b[0mcookies\u001b[0m\u001b[0;34m.\u001b[0m\u001b[0mclick\u001b[0m\u001b[0;34m(\u001b[0m\u001b[0;34m)\u001b[0m\u001b[0;34m\u001b[0m\u001b[0;34m\u001b[0m\u001b[0m\n",
      "\u001b[0;32m~/opt/anaconda3/lib/python3.8/site-packages/selenium/webdriver/remote/webdriver.py\u001b[0m in \u001b[0;36mfind_element\u001b[0;34m(self, by, value)\u001b[0m\n\u001b[1;32m   1236\u001b[0m             \u001b[0mvalue\u001b[0m \u001b[0;34m=\u001b[0m \u001b[0;34m'[name=\"%s\"]'\u001b[0m \u001b[0;34m%\u001b[0m \u001b[0mvalue\u001b[0m\u001b[0;34m\u001b[0m\u001b[0;34m\u001b[0m\u001b[0m\n\u001b[1;32m   1237\u001b[0m \u001b[0;34m\u001b[0m\u001b[0m\n\u001b[0;32m-> 1238\u001b[0;31m         return self.execute(Command.FIND_ELEMENT, {\n\u001b[0m\u001b[1;32m   1239\u001b[0m             \u001b[0;34m'using'\u001b[0m\u001b[0;34m:\u001b[0m \u001b[0mby\u001b[0m\u001b[0;34m,\u001b[0m\u001b[0;34m\u001b[0m\u001b[0;34m\u001b[0m\u001b[0m\n\u001b[1;32m   1240\u001b[0m             'value': value})['value']\n",
      "\u001b[0;32m~/opt/anaconda3/lib/python3.8/site-packages/selenium/webdriver/remote/webdriver.py\u001b[0m in \u001b[0;36mexecute\u001b[0;34m(self, driver_command, params)\u001b[0m\n\u001b[1;32m    416\u001b[0m         \u001b[0mresponse\u001b[0m \u001b[0;34m=\u001b[0m \u001b[0mself\u001b[0m\u001b[0;34m.\u001b[0m\u001b[0mcommand_executor\u001b[0m\u001b[0;34m.\u001b[0m\u001b[0mexecute\u001b[0m\u001b[0;34m(\u001b[0m\u001b[0mdriver_command\u001b[0m\u001b[0;34m,\u001b[0m \u001b[0mparams\u001b[0m\u001b[0;34m)\u001b[0m\u001b[0;34m\u001b[0m\u001b[0;34m\u001b[0m\u001b[0m\n\u001b[1;32m    417\u001b[0m         \u001b[0;32mif\u001b[0m \u001b[0mresponse\u001b[0m\u001b[0;34m:\u001b[0m\u001b[0;34m\u001b[0m\u001b[0;34m\u001b[0m\u001b[0m\n\u001b[0;32m--> 418\u001b[0;31m             \u001b[0mself\u001b[0m\u001b[0;34m.\u001b[0m\u001b[0merror_handler\u001b[0m\u001b[0;34m.\u001b[0m\u001b[0mcheck_response\u001b[0m\u001b[0;34m(\u001b[0m\u001b[0mresponse\u001b[0m\u001b[0;34m)\u001b[0m\u001b[0;34m\u001b[0m\u001b[0;34m\u001b[0m\u001b[0m\n\u001b[0m\u001b[1;32m    419\u001b[0m             response['value'] = self._unwrap_value(\n\u001b[1;32m    420\u001b[0m                 response.get('value', None))\n",
      "\u001b[0;32m~/opt/anaconda3/lib/python3.8/site-packages/selenium/webdriver/remote/errorhandler.py\u001b[0m in \u001b[0;36mcheck_response\u001b[0;34m(self, response)\u001b[0m\n\u001b[1;32m    241\u001b[0m                 \u001b[0malert_text\u001b[0m \u001b[0;34m=\u001b[0m \u001b[0mvalue\u001b[0m\u001b[0;34m[\u001b[0m\u001b[0;34m'alert'\u001b[0m\u001b[0;34m]\u001b[0m\u001b[0;34m.\u001b[0m\u001b[0mget\u001b[0m\u001b[0;34m(\u001b[0m\u001b[0;34m'text'\u001b[0m\u001b[0;34m)\u001b[0m\u001b[0;34m\u001b[0m\u001b[0;34m\u001b[0m\u001b[0m\n\u001b[1;32m    242\u001b[0m             \u001b[0;32mraise\u001b[0m \u001b[0mexception_class\u001b[0m\u001b[0;34m(\u001b[0m\u001b[0mmessage\u001b[0m\u001b[0;34m,\u001b[0m \u001b[0mscreen\u001b[0m\u001b[0;34m,\u001b[0m \u001b[0mstacktrace\u001b[0m\u001b[0;34m,\u001b[0m \u001b[0malert_text\u001b[0m\u001b[0;34m)\u001b[0m  \u001b[0;31m# type: ignore[call-arg]  # mypy is not smart enough here\u001b[0m\u001b[0;34m\u001b[0m\u001b[0;34m\u001b[0m\u001b[0m\n\u001b[0;32m--> 243\u001b[0;31m         \u001b[0;32mraise\u001b[0m \u001b[0mexception_class\u001b[0m\u001b[0;34m(\u001b[0m\u001b[0mmessage\u001b[0m\u001b[0;34m,\u001b[0m \u001b[0mscreen\u001b[0m\u001b[0;34m,\u001b[0m \u001b[0mstacktrace\u001b[0m\u001b[0;34m)\u001b[0m\u001b[0;34m\u001b[0m\u001b[0;34m\u001b[0m\u001b[0m\n\u001b[0m\u001b[1;32m    244\u001b[0m \u001b[0;34m\u001b[0m\u001b[0m\n\u001b[1;32m    245\u001b[0m     \u001b[0;32mdef\u001b[0m \u001b[0m_value_or_default\u001b[0m\u001b[0;34m(\u001b[0m\u001b[0mself\u001b[0m\u001b[0;34m,\u001b[0m \u001b[0mobj\u001b[0m\u001b[0;34m:\u001b[0m \u001b[0mMapping\u001b[0m\u001b[0;34m[\u001b[0m\u001b[0m_KT\u001b[0m\u001b[0;34m,\u001b[0m \u001b[0m_VT\u001b[0m\u001b[0;34m]\u001b[0m\u001b[0;34m,\u001b[0m \u001b[0mkey\u001b[0m\u001b[0;34m:\u001b[0m \u001b[0m_KT\u001b[0m\u001b[0;34m,\u001b[0m \u001b[0mdefault\u001b[0m\u001b[0;34m:\u001b[0m \u001b[0m_VT\u001b[0m\u001b[0;34m)\u001b[0m \u001b[0;34m->\u001b[0m \u001b[0m_VT\u001b[0m\u001b[0;34m:\u001b[0m\u001b[0;34m\u001b[0m\u001b[0;34m\u001b[0m\u001b[0m\n",
      "\u001b[0;31mNoSuchElementException\u001b[0m: Message: no such element: Unable to locate element: {\"method\":\"xpath\",\"selector\":\"//button[@id='onetrust-accept-btn-handler']\"}\n  (Session info: chrome=95.0.4638.69)\nStacktrace:\n0   chromedriver                        0x00000001018d9c99 __gxx_personality_v0 + 579209\n1   chromedriver                        0x00000001018655f3 __gxx_personality_v0 + 102371\n2   chromedriver                        0x000000010142b288 chromedriver + 172680\n3   chromedriver                        0x000000010146025c chromedriver + 389724\n4   chromedriver                        0x0000000101492104 chromedriver + 594180\n5   chromedriver                        0x000000010147d3cd chromedriver + 508877\n6   chromedriver                        0x000000010148feab chromedriver + 585387\n7   chromedriver                        0x000000010147d693 chromedriver + 509587\n8   chromedriver                        0x0000000101453b7e chromedriver + 338814\n9   chromedriver                        0x0000000101454ea5 chromedriver + 343717\n10  chromedriver                        0x000000010189577f __gxx_personality_v0 + 299375\n11  chromedriver                        0x00000001018ac68a __gxx_personality_v0 + 393338\n12  chromedriver                        0x00000001018b28eb __gxx_personality_v0 + 418523\n13  chromedriver                        0x00000001018ada2a __gxx_personality_v0 + 398362\n14  chromedriver                        0x000000010188a34c __gxx_personality_v0 + 253244\n15  chromedriver                        0x00000001018c9c48 __gxx_personality_v0 + 513592\n16  chromedriver                        0x00000001018c9dd1 __gxx_personality_v0 + 513985\n17  chromedriver                        0x00000001018e10c8 __gxx_personality_v0 + 608952\n18  libsystem_pthread.dylib             0x00007fff203be8fc _pthread_start + 224\n19  libsystem_pthread.dylib             0x00007fff203ba443 thread_start + 15\n"
     ]
    }
   ],
   "source": [
    "browser = webdriver.Chrome()\n",
    "browser.get(\"https://soundcloud.com/discover\")\n",
    "\n",
    "time.sleep(5)\n",
    "accept_cookies(browser)\n",
    "\n",
    "time.sleep(1)\n",
    "click_button(browser)\n",
    "get_all_playlists_discover(browser)\n",
    "\n",
    "parse_users_tracks_per_genre(browser)\n",
    "\n",
    "browser.quit()"
   ]
  },
  {
   "cell_type": "code",
   "execution_count": null,
   "id": "c16e6569",
   "metadata": {},
   "outputs": [],
   "source": [
    "browser = webdriver.Chrome()\n",
    "browser.get(\"https://soundcloud.com/discover\")\n",
    "\n",
    "time.sleep(5)\n",
    "accept_cookies(browser)\n",
    "\n",
    "parse_playlists_per_genre(browser)\n",
    "\n",
    "browser.quit()"
   ]
  },
  {
   "cell_type": "markdown",
   "id": "c6f6641b",
   "metadata": {},
   "source": [
    "**Lưu data vào file tsv**"
   ]
  },
  {
   "cell_type": "code",
   "execution_count": null,
   "id": "78d32657",
   "metadata": {},
   "outputs": [],
   "source": [
    "outputFile = \"Crawl_data/user.csv\"\n",
    "list_to_tsv_csv(users, outputFile)\n",
    "outputFile = \"Crawl_data/track.csv\"\n",
    "list_to_tsv_csv(tracks, outputFile)\n",
    "outputFile = \"Crawl_data/playlist.csv\"\n",
    "list_to_tsv_csv(playlists, outputFile)"
   ]
  }
 ],
 "metadata": {
  "kernelspec": {
   "display_name": "Python 3",
   "language": "python",
   "name": "python3"
  },
  "language_info": {
   "codemirror_mode": {
    "name": "ipython",
    "version": 3
   },
   "file_extension": ".py",
   "mimetype": "text/x-python",
   "name": "python",
   "nbconvert_exporter": "python",
   "pygments_lexer": "ipython3",
   "version": "3.8.8"
  }
 },
 "nbformat": 4,
 "nbformat_minor": 5
}
