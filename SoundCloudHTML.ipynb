{
 "cells": [
  {
   "cell_type": "code",
   "execution_count": 2,
   "id": "0c89b457",
   "metadata": {},
   "outputs": [],
   "source": [
    "import requests\n",
    "import requests_cache\n",
    "from bs4 import BeautifulSoup\n",
    "import time\n",
    "import json\n",
    "import re\n",
    "import pandas as pd\n",
    "from selenium import webdriver\n",
    "from selenium.webdriver.common.keys import Keys\n",
    "from selenium.webdriver.support.ui import WebDriverWait\n",
    "from selenium.webdriver.support import expected_conditions as EC\n",
    "from selenium.webdriver.common.by import By\n",
    "from requests_html import HTML"
   ]
  },
  {
   "cell_type": "markdown",
   "id": "1892dde7",
   "metadata": {},
   "source": [
    "________________________________________"
   ]
  },
  {
   "cell_type": "markdown",
   "id": "3043551b",
   "metadata": {},
   "source": [
    "# **Functions**"
   ]
  },
  {
   "cell_type": "markdown",
   "id": "64e50e1d",
   "metadata": {},
   "source": [
    "**Bấm để đồng ý cookies**"
   ]
  },
  {
   "cell_type": "code",
   "execution_count": 3,
   "id": "89512ff7",
   "metadata": {},
   "outputs": [],
   "source": [
    "def accept_cookies(browser):\n",
    "    cookies = browser.find_element(By.XPATH,\"//button[@id='onetrust-accept-btn-handler']\")\n",
    "    cookies.click()"
   ]
  },
  {
   "cell_type": "markdown",
   "id": "b2f8f536",
   "metadata": {},
   "source": [
    "**Bấm vào các nút > đến hết ở trang discover**"
   ]
  },
  {
   "cell_type": "code",
   "execution_count": 4,
   "id": "359da670",
   "metadata": {},
   "outputs": [],
   "source": [
    "def click_button(browser):\n",
    "    soup = BeautifulSoup(browser.page_source)\n",
    "    # lấy tất cả thể loại ở trang discover\n",
    "    genres = soup.find_all(\"li\", \"mixedModularHome__item\")\n",
    "\n",
    "    # chạy lặp hết tất cả thể loại\n",
    "    for i in range(len(genres)):\n",
    "        # lấy tất cả playlists của 1 thể loại\n",
    "        lists = genres[i].find_all(\"div\", \"tileGallery__sliderPanelSlide\")\n",
    "        j = 4   # j: số playlists hiện lên (có thể parse) sau mỗi lần click button\n",
    "        # lặp đến khi j > số playlists của thể loại đó\n",
    "        while True:\n",
    "            if j > len(lists):\n",
    "                break\n",
    "            # click vào button\n",
    "            browser.find_elements(By.XPATH,\"//button[contains(.,'forward')]\")[i].click()\n",
    "            j += 4"
   ]
  },
  {
   "cell_type": "markdown",
   "id": "a5a4af69",
   "metadata": {},
   "source": [
    "**Lấy hết tất cả playlists ở trang discover**"
   ]
  },
  {
   "cell_type": "code",
   "execution_count": 5,
   "id": "6c513bf4",
   "metadata": {},
   "outputs": [],
   "source": [
    "def get_all_playlists_discover(browser):\n",
    "    soup = BeautifulSoup(browser.page_source)\n",
    "    # lấy tất cả thể loại ở trang discover\n",
    "    genres = soup.find_all(\"li\", \"mixedModularHome__item\")\n",
    "\n",
    "    # chạy lặp hết tất cả thể loại\n",
    "    for i in range(len(genres)):\n",
    "        # lấy tất cả playlists của 1 thể loại\n",
    "        lists = genres[i].find_all(\"div\", \"tileGallery__sliderPanelSlide\")\n",
    "        # trích xuất playlist và url của playlist đó\n",
    "        for pl in lists:\n",
    "            title = pl.find(\"a\", \"playableTile__heading\").get_text().strip()\n",
    "            link = pl.find(\"a\", \"playableTile__artworkLink\")[\"href\"]\n",
    "            # kiểm tra nếu có bị trùng tên\n",
    "            if title not in playlists:\n",
    "                playlists.append(title)\n",
    "                urls_playlist.append(\"https://soundcloud.com\" + link)"
   ]
  },
  {
   "cell_type": "markdown",
   "id": "5ca17e23",
   "metadata": {},
   "source": [
    "**Kéo xuống đến hết trang**"
   ]
  },
  {
   "cell_type": "code",
   "execution_count": 6,
   "id": "bf96b190",
   "metadata": {},
   "outputs": [],
   "source": [
    "def scroll_down(browser):\n",
    "    # chạy lặp 2 lần (có thể tăng số lần để đảm bảo scroll hết)\n",
    "    for i in range(2):\n",
    "        lenOfPage = browser.execute_script(\"window.scrollTo(0, document.body.scrollHeight);var lenOfPage=document.body.scrollHeight;return lenOfPage;\")\n",
    "        lastCount = 0\n",
    "        match = False\n",
    "        \n",
    "        while(match == False):\n",
    "            time.sleep(3)\n",
    "            lenOfPage = browser.execute_script(\"window.scrollTo(0, document.body.scrollHeight);var lenOfPage=document.body.scrollHeight;return lenOfPage;\")\n",
    "            if lastCount == lenOfPage: \n",
    "                match = True\n",
    "            else: \n",
    "                lastCount = lenOfPage"
   ]
  },
  {
   "cell_type": "markdown",
   "id": "4b787e9b",
   "metadata": {},
   "source": [
    "**Lấy tất cả users và tracks của một playlist**"
   ]
  },
  {
   "cell_type": "code",
   "execution_count": 7,
   "id": "80cd9953",
   "metadata": {},
   "outputs": [],
   "source": [
    "def get_all_users_tracks_playlist(browser):\n",
    "    soup = BeautifulSoup(browser.page_source)\n",
    "    \n",
    "    # số tracks của 1 playlist\n",
    "    count = int(soup.find(\"div\", \"genericTrackCount__title\").get_text())\n",
    "    \n",
    "    # isUserPlaylist: điều kiện có phải playlist của user hay không\n",
    "    # playlist của discover và playlist của user tuy nhìn giống nhau nhưng điều kiện lấy lại khác nhau\n",
    "    isUserPlaylist = False\n",
    "    \n",
    "    # tìm hết tất cả tracks của playlist\n",
    "    # nếu len(search) bằng 0 (không có) thì playlist này là playlist của user\n",
    "    search = soup.find_all(\"li\", \"systemPlaylistTrackList__item\")\n",
    "    if len(search) == 0:\n",
    "        isUserPlaylist = True\n",
    "    \n",
    "    if isUserPlaylist == False:\n",
    "        # playlist của discover có thể parse 20 tracks khi không cần scroll\n",
    "        # nếu lớn hơn sẽ scroll xuống (tiết kiệm thời gian scroll)\n",
    "        if count > 20:\n",
    "            scroll_down()\n",
    "            soup = BeautifulSoup(browser.page_source)\n",
    "        search = soup.find_all(\"li\", \"systemPlaylistTrackList__item\")\n",
    "            \n",
    "    elif isUserPlaylist == True:\n",
    "        # playlist của user có thể parse 15 tracks khi không cần scroll\n",
    "        # nếu lớn hơn sẽ scroll xuống (tiết kiệm thời gian scroll)\n",
    "        if count > 15:\n",
    "            scroll_down()\n",
    "            soup = BeautifulSoup(browser.page_source)\n",
    "        search = soup.find_all(\"li\", \"trackList__item\")\n",
    "\n",
    "    # trích xuất user và track trong 1 playlist\n",
    "    for producer in search:\n",
    "        user = producer.find(\"a\", \"trackItem__username\").get_text()\n",
    "        url = producer.find(\"a\", \"trackItem__username\").get('href')\n",
    "        track = producer.find(\"a\", \"trackItem__trackTitle\").get_text()\n",
    "        # kiểm tra nếu có bị trùng tên\n",
    "        if user not in users:\n",
    "            users.append(user)\n",
    "            urls_user_playlist.append(\"https://soundcloud.com\" + url + \"/sets\")\n",
    "        # kiểm tra nếu có bị trùng tên\n",
    "        if track not in tracks[\"track\"]:\n",
    "            tracks[\"track\"].append(track)\n",
    "            tracks[\"user\"].append(user)"
   ]
  },
  {
   "cell_type": "markdown",
   "id": "b2bc4585",
   "metadata": {},
   "source": [
    "**Lấy tất cả playlists của một user**"
   ]
  },
  {
   "cell_type": "code",
   "execution_count": 8,
   "id": "31fb6c76",
   "metadata": {},
   "outputs": [],
   "source": [
    "def get_all_playlists_user(browser):\n",
    "    soup = BeautifulSoup(browser.page_source)\n",
    "    posts = soup.find_all(\"li\", \"soundList__item\")\n",
    "    \n",
    "    # kiểm tra có playlist hay không, nếu có chạy dưới, nếu không bỏ qua\n",
    "    if len(posts) != 0:\n",
    "        # nếu số playlists lớn hơn 4 thì sẽ scroll\n",
    "        if len(posts) > 4:\n",
    "            scroll_down()\n",
    "            soup = BeautifulSoup(browser.page_source)\n",
    "            \n",
    "        # trích xuất playlist\n",
    "        for post in posts:\n",
    "            title = post.find(\"a\", \"soundTitle__title\").get_text().strip\n",
    "            if title not in playlists:\n",
    "                playlists.append(title)"
   ]
  },
  {
   "cell_type": "markdown",
   "id": "62805411",
   "metadata": {},
   "source": [
    "**Lấy hết tất cả users và tracks của tất cả playlists trích xuất được từ trang discover**"
   ]
  },
  {
   "cell_type": "code",
   "execution_count": 9,
   "id": "f6510ac6",
   "metadata": {},
   "outputs": [],
   "source": [
    "def parse_users_tracks_per_genre(browser):\n",
    "    for url in urls_playlist:\n",
    "        # mở tab mới\n",
    "        browser.execute_script('window.open(\"{link}\");'.format(link = url));\n",
    "        # chuyển browser về tab mới\n",
    "        browser.switch_to.window(browser.window_handles[1])\n",
    "        time.sleep(2)\n",
    "        # thực hiện lấy users và tracks\n",
    "        get_all_users_tracks_playlist()\n",
    "        time.sleep(1)\n",
    "        # đóng tab\n",
    "        browser.close()\n",
    "        # chuyển browser về tab discover\n",
    "        browser.switch_to.window(browser.window_handles[0])"
   ]
  },
  {
   "cell_type": "markdown",
   "id": "4a62a92f",
   "metadata": {},
   "source": [
    "**Lấy tất cả playlists của một user**"
   ]
  },
  {
   "cell_type": "code",
   "execution_count": 10,
   "id": "5ac63bc9",
   "metadata": {},
   "outputs": [],
   "source": [
    "def parse_playlists_per_genre(browser):\n",
    "    for url in urls_user_playlist:\n",
    "        # mở tab mới\n",
    "        browser.execute_script('window.open(\"{link}\");'.format(link = url));\n",
    "        # chuyển browser về tab mới\n",
    "        browser.switch_to.window(browser.window_handles[1])\n",
    "        time.sleep(2)\n",
    "        # thực hiện lấy users và tracks\n",
    "        get_all_playlists_user()\n",
    "        time.sleep(1)\n",
    "        # đóng tab\n",
    "        browser.close()\n",
    "        # chuyển browser về tab discover\n",
    "        browser.switch_to.window(browser.window_handles[0])"
   ]
  },
  {
   "cell_type": "markdown",
   "id": "2fb2710c",
   "metadata": {},
   "source": [
    "**Chuyển từ list sang csv/tsv**"
   ]
  },
  {
   "cell_type": "code",
   "execution_count": 11,
   "id": "1c284b73",
   "metadata": {},
   "outputs": [],
   "source": [
    "def list_to_tsv_csv(listItem, outputFile):\n",
    "    df = pd.DataFrame(listItem)\n",
    "    df.to_csv(outputFile, sep='\\t')"
   ]
  },
  {
   "cell_type": "markdown",
   "id": "ccf60d3b",
   "metadata": {},
   "source": [
    "________________________________________"
   ]
  },
  {
   "cell_type": "markdown",
   "id": "4a79fc32",
   "metadata": {},
   "source": [
    "# **Main**"
   ]
  },
  {
   "cell_type": "markdown",
   "id": "f0b3e49e",
   "metadata": {},
   "source": [
    "**Khởi tạo các list để lưu thông tin**"
   ]
  },
  {
   "cell_type": "code",
   "execution_count": 12,
   "id": "defd4bd8",
   "metadata": {},
   "outputs": [],
   "source": [
    "# Lưu user\n",
    "users = []\n",
    "# Lưu track\n",
    "tracks = {\"track\":[], \"user\":[]}\n",
    "# Lưu playlist\n",
    "playlists = []\n",
    "# Lưu link playlist của producer\n",
    "urls_user_playlist = []\n",
    "# Lưu link playlist của discover\n",
    "urls_playlist = []"
   ]
  },
  {
   "cell_type": "code",
   "execution_count": 13,
   "id": "fa48d42b",
   "metadata": {},
   "outputs": [],
   "source": [
    "browser = webdriver.Chrome()\n",
    "browser.get(\"https://soundcloud.com/discover\")"
   ]
  },
  {
   "cell_type": "code",
   "execution_count": 14,
   "id": "b201dce7",
   "metadata": {},
   "outputs": [],
   "source": [
    "time.sleep(3)\n",
    "accept_cookies(browser)\n",
    "\n",
    "time.sleep(1)\n",
    "click_button(browser)\n",
    "get_all_playlists_discover(browser)"
   ]
  },
  {
   "cell_type": "code",
   "execution_count": null,
   "id": "470e9b11",
   "metadata": {},
   "outputs": [],
   "source": [
    "parse_users_tracks_per_genre(browser)"
   ]
  },
  {
   "cell_type": "code",
   "execution_count": null,
   "id": "5d5e520f",
   "metadata": {},
   "outputs": [],
   "source": [
    "parse_playlists_per_genre(browser)"
   ]
  },
  {
   "cell_type": "code",
   "execution_count": null,
   "id": "e35cbc76",
   "metadata": {},
   "outputs": [],
   "source": [
    "browser.quit()"
   ]
  },
  {
   "cell_type": "markdown",
   "id": "c6f6641b",
   "metadata": {},
   "source": [
    "**Lưu data vào file tsv**"
   ]
  },
  {
   "cell_type": "code",
   "execution_count": null,
   "id": "78d32657",
   "metadata": {},
   "outputs": [],
   "source": [
    "outputFile = \"Crawl_data/user.csv\"\n",
    "list_to_tsv_csv(users, outputFile)\n",
    "outputFile = \"Crawl_data/track.csv\"\n",
    "list_to_tsv_csv(tracks, outputFile)\n",
    "outputFile = \"Crawl_data/playlist.csv\"\n",
    "list_to_tsv_csv(playlists, outputFile)"
   ]
  }
 ],
 "metadata": {
  "kernelspec": {
   "display_name": "Python 3",
   "language": "python",
   "name": "python3"
  },
  "language_info": {
   "codemirror_mode": {
    "name": "ipython",
    "version": 3
   },
   "file_extension": ".py",
   "mimetype": "text/x-python",
   "name": "python",
   "nbconvert_exporter": "python",
   "pygments_lexer": "ipython3",
   "version": "3.8.8"
  }
 },
 "nbformat": 4,
 "nbformat_minor": 5
}
