{
 "cells": [
  {
   "cell_type": "code",
   "execution_count": 37,
   "id": "eca4eca5",
   "metadata": {},
   "outputs": [],
   "source": [
    "import requests\n",
    "import requests_cache\n",
    "from bs4 import BeautifulSoup\n",
    "import time\n",
    "import json\n",
    "import re\n",
    "import pandas as pd # Dùng để đọc và hiển thị file csv/tsv\n",
    "from selenium import webdriver\n",
    "from selenium.webdriver.common.keys import Keys\n",
    "from requests_html import HTML"
   ]
  },
  {
   "cell_type": "code",
   "execution_count": 38,
   "id": "6d18623a",
   "metadata": {},
   "outputs": [],
   "source": [
    "def filter_by_response(response) -> bool:\n",
    "    return ('\\\"incomplete_results\\\":true' not in response.text)\n",
    "requests_cache.install_cache(expire_after=None, filter_fn=filter_by_response)"
   ]
  },
  {
   "cell_type": "code",
   "execution_count": 39,
   "id": "e8d2babe",
   "metadata": {},
   "outputs": [],
   "source": [
    "url = \"https://soundcloud.com/discover/sets/charts-top:all-music:vn\"\n",
    "outputFile = \"/Users/lanmac/Study/output.tsv\""
   ]
  },
  {
   "cell_type": "code",
   "execution_count": 40,
   "id": "69fefdb3",
   "metadata": {},
   "outputs": [],
   "source": [
    "browser = webdriver.Chrome()\n",
    "browser.get(url)\n",
    "browser.execute_script(\"window.scrollTo(0, document.body.scrollHeight);\")"
   ]
  },
  {
   "cell_type": "code",
   "execution_count": 41,
   "id": "2aeb5a7a",
   "metadata": {},
   "outputs": [],
   "source": [
    "html = browser.page_source"
   ]
  },
  {
   "cell_type": "code",
   "execution_count": 42,
   "id": "be4dcf67",
   "metadata": {},
   "outputs": [],
   "source": [
    "soup = BeautifulSoup(html)"
   ]
  },
  {
   "cell_type": "code",
   "execution_count": 43,
   "id": "2458c2c9",
   "metadata": {},
   "outputs": [
    {
     "name": "stdout",
     "output_type": "stream",
     "text": [
      "Hustlang Winno 🐉🐍\n",
      "Tell Ur Mom II - Winno (ft Heily)\n",
      "YC\n",
      "Lạc - Rhymastic\n",
      "THINHHO\n",
      "PHI HÀNH GIA - RENJA x SLOW T x LIL WUYN x KAIN x SUGAR CANE\n",
      "𝘂𝗺𝗰𝗻𝗴𝗱𝗰 🎶\n",
      "không phải tại nó // lạc - mai ngô ft rhymastic\n",
      "Hieu Tran Music Producer\n",
      "Nếu mai chia tay ( Hieu Tran Chill RnB Version) - Monstar Ft. Amee\n",
      "L2Share♫140\n",
      "LeeHi (이하이) - ONLY\n",
      "Đặng Gia Linh\n",
      "Obito Ft. Hnhngan Live YOUR SMILE - Emma X Seachains X Obito\n",
      "Lkang\n",
      "[DCOD] NGTANOISE (Người ta nói - remake) | VSOUL x MFREE x TUYEN VO|\n",
      "Nan Kohsoom Ho\n",
      "Biết em - Lynk Nguyễn\n",
      "Ronniboi\n",
      "Khi co don em nho ai\n",
      "yafu\n",
      "GPS - NIDEBIG ft BINQANG , PURR ( PROD : HS YAFU )\n",
      "VUX\n",
      "3107-3 (lofi ver. by VUX) - W/n x Nâu x Duongg x Titie\n",
      "VRT\n",
      "nit, sing - ôm em lần cuối | vrt lofi ver.\n",
      "𝚒 𝚑𝚊𝚟𝚎 𝚊 𝚜𝚕𝚘𝚠𝚎𝚍 𝚜𝚘𝚗𝚐\n",
      "𝙷𝚊𝚗𝚑 𝚙𝚑𝚞𝚌 𝚋𝚘 𝚛𝚘𝚒 𝚎𝚖_𝚜𝚕𝚘𝚠𝚎𝚍+𝚛𝚎𝚟𝚎𝚛𝚋\n",
      "Hiderway\n",
      "không phải tại nó - Rhymastic, Mai Ngô (Hiderway Lofi Edit)\n",
      "ShenlongZ\n",
      "THANH XUÂN LÀ ANH - N.Dien X 2T f.t Shenlongz\n",
      "Cofm ♫\n",
      "SOOBIN - THÁNG NĂM (SPECIAL VERSION) FT. SLIM V\n",
      "𝑪𝒂̀ 𝒑𝒉𝒆̂ 𝒔𝒖̛̃𝒂 (đá) ☕\n",
      "Thức Giấc - Da LAB\n",
      "𝚑𝚞𝚠𝚗𝚐\n",
      "Dịu dàng em đến (Lofi) || Erik x Quanvrox\n",
      "VRT\n",
      "HURRYKNG, HIEUTHUHAI, MANBO - 'HẸN GẶP EM DƯỚI ÁNH TRĂNG' | (VRT REMIX)\n",
      "Nyctophilia\n",
      "Dịu Dàng Yêu - Đào Duy Quý [FREE DOWNLOAD]\n",
      "TÙA\n",
      "Nếu Anh Thấy Lòng Mình Yếu Đuối - Tùa x CM1X\n",
      "TIEN TIEN\n",
      "DAU CAN MOT BAI CA TINH YEU\n",
      "RPT Phongkhin\n",
      "Tlinh - Thích Quá Rùi Nà ft. Trung Trần (prod by @rpt.phongkhin )\n",
      "punnas\n",
      "Cảm Nhận - OTD Seachain x Andiez\n",
      "Kimmese\n",
      "Kimmese ft JustaTee - Real Love ( Acoustic version ) Prod. by Touliver\n",
      "𝟹 𝟷 𝟶 𝟽\n",
      "Yêu Đừng Sợ Đau (Frexs Remix) | Ngô Lan Hương | Đừng Quay Mặt Đi Nước Mắt Rơi Thì Cứ Hot TikTok\n",
      "Rapital\n",
      "Rapitalove EP| Tay To - RPT MCK x RPT PhongKhin (Prod. by RPT PhongKhin)\n",
      "DARLING\n",
      "Ái Nộ - Masew x Khoi Vu( Vinniedepooh ft Darling remix ) Hot TikTok\n",
      "Hawys.\n",
      "Việt - Hơn Cả Mây Trời (lofi ver by hawys)\n",
      "Khoi Vu\n",
      "Berlin\n",
      "Kevinnnz\n",
      "Có Hẹn Với Thanh Xuân - Monstar\n",
      "Orion Bui\n",
      "Chờ Lời Anh Nói - IVY Ft Crou Produce By OrionB Final\n",
      "Vu Ngan My\n",
      "3107 3 và 1 không 2 | W/n x Nâu x Duongg x Titie | Cover by Vũ Ngân Mỹ\n",
      "ADED Music Group\n",
      "Phố Đã Lên Đèn - Huyền Tâm Môn (Cukak Remix) [Official]\n",
      "Hawys.\n",
      "HIEUTHUHAI - NGHE NHƯ TÌNH YÊU (FELIKS ALVIN REMIX) | HAWYS EDIT\n",
      "1967 Music\n",
      "Tell Ur Mom II (Remix)Winno ft Heily\n",
      "Rum\n",
      "Chỉ Vì Quá Yêu Em - RUM | COVER\n",
      "DeeYouSee\n",
      "Tháng Năm ﹝Freak D Remix & Slowed + Remastered by DeeYouSee ﹞- Soobin Hoàng Sơn\n",
      "TaylorDaClownn.\n",
      "Ở NHÀ CHÁN QUÓ (Prod. KanaBeats)\n",
      "fishy\n",
      "fishy ft Trí Dũng - Forget me now\n",
      "Trí Beat\n",
      "Cưới Thôi - Masew x Masiu x B Ray x TAP - Tik Tok\n",
      "Hawys.\n",
      "Orange x Hoàng Dũng - Khi Em Lớn (Lo-fi ver by Hawys)\n",
      "Vu Ngan My\n",
      "Lần Hẹn Hò Đầu Tiên + Phố Đã Lên Đèn - Huyền Tâm Môn | Lo-Fi nhà làm\n",
      "Cloud 5\n",
      "Em Là Hoàng Hôn - Vang x CLoud 5\n",
      "BeeBB\n",
      "Obito - LOST (BeeBB Remix)\n",
      "YC\n",
      "Yeu 4\n",
      "𝚑𝚞𝚠𝚗𝚐\n",
      "Phố Đã Lên Đèn ||「Lofi Version by 1 9 6 7」\n",
      "𝟹 𝟷 𝟶 𝟽\n",
      "Như Một Người Dưng (Ciray Remix) | Nguyễn Thạc Bảo Ngọc | Từng ngày anh vẫn bên em thế nhưng\n",
      "49\n"
     ]
    }
   ],
   "source": [
    "posts = soup.find_all(\"li\", \"systemPlaylistTrackList__item\")\n",
    "\n",
    "for post in posts:\n",
    "    user = post.find(\"a\", \"trackItem__username\").get_text()\n",
    "    print(user)\n",
    "    \n",
    "    track = post.find(\"a\", \"trackItem__trackTitle\").get_text()\n",
    "    print(track)\n",
    "print(len(posts))"
   ]
  },
  {
   "cell_type": "code",
   "execution_count": 36,
   "id": "87caad0f",
   "metadata": {},
   "outputs": [],
   "source": []
  },
  {
   "cell_type": "code",
   "execution_count": null,
   "id": "52e3d760",
   "metadata": {},
   "outputs": [],
   "source": []
  }
 ],
 "metadata": {
  "kernelspec": {
   "display_name": "Python [conda env:min_ds-env] *",
   "language": "python",
   "name": "conda-env-min_ds-env-py"
  },
  "language_info": {
   "codemirror_mode": {
    "name": "ipython",
    "version": 3
   },
   "file_extension": ".py",
   "mimetype": "text/x-python",
   "name": "python",
   "nbconvert_exporter": "python",
   "pygments_lexer": "ipython3",
   "version": "3.8.8"
  }
 },
 "nbformat": 4,
 "nbformat_minor": 5
}
