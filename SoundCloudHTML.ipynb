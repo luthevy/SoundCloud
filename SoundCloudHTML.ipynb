{
 "cells": [
  {
   "cell_type": "code",
   "execution_count": 20,
   "id": "eca4eca5",
   "metadata": {},
   "outputs": [],
   "source": [
    "import requests\n",
    "import requests_cache\n",
    "from bs4 import BeautifulSoup\n",
    "import time\n",
    "import json\n",
    "import re\n",
    "import pandas as pd # Dùng để đọc và hiển thị file csv/tsv\n",
    "from selenium import webdriver\n",
    "from selenium.webdriver.common.keys import Keys\n",
    "from selenium.webdriver.common.by import By\n",
    "from requests_html import HTML"
   ]
  },
  {
   "cell_type": "code",
   "execution_count": null,
   "id": "6d18623a",
   "metadata": {},
   "outputs": [],
   "source": [
    "def filter_by_response(response) -> bool:\n",
    "    return ('\\\"incomplete_results\\\":true' not in response.text)\n",
    "requests_cache.install_cache(expire_after=None, filter_fn=filter_by_response)"
   ]
  },
  {
   "cell_type": "code",
   "execution_count": null,
   "id": "e8d2babe",
   "metadata": {},
   "outputs": [],
   "source": [
    "url = \"https://soundcloud.com/discover/sets/charts-top:all-music:vn\"\n",
    "outputFile = \"/Users/lanmac/Study/output.tsv\""
   ]
  },
  {
   "cell_type": "code",
   "execution_count": null,
   "id": "69fefdb3",
   "metadata": {},
   "outputs": [],
   "source": [
    "browser = webdriver.Chrome()\n",
    "browser.get(url)\n",
    "browser.execute_script(\"window.scrollTo(0, document.body.scrollHeight);\")"
   ]
  },
  {
   "cell_type": "code",
   "execution_count": null,
   "id": "2aeb5a7a",
   "metadata": {},
   "outputs": [],
   "source": [
    "html = browser.page_source"
   ]
  },
  {
   "cell_type": "code",
   "execution_count": null,
   "id": "be4dcf67",
   "metadata": {},
   "outputs": [],
   "source": [
    "soup = BeautifulSoup(html)"
   ]
  },
  {
   "cell_type": "code",
   "execution_count": null,
   "id": "2458c2c9",
   "metadata": {},
   "outputs": [],
   "source": [
    "posts = soup.find_all(\"li\", \"systemPlaylistTrackList__item\")\n",
    "\n",
    "for post in posts:\n",
    "    user = post.find(\"a\", \"trackItem__username\").get_text()\n",
    "    print(user)\n",
    "    \n",
    "    track = post.find(\"a\", \"trackItem__trackTitle\").get_text()\n",
    "    print(track)\n",
    "print(len(posts))"
   ]
  },
  {
   "cell_type": "markdown",
   "id": "d0a0d411-7e76-4fce-aa34-86705bb293b8",
   "metadata": {},
   "source": [
    "________________________________________"
   ]
  },
  {
   "cell_type": "markdown",
   "id": "b303b47b-d236-4fb5-a53f-9d360cc89129",
   "metadata": {},
   "source": [
    "# Testing: truy cập vào user profile và trích xuất tracks"
   ]
  },
  {
   "cell_type": "code",
   "execution_count": 21,
   "id": "efaa3cc4-9202-44d8-af16-e9921ab620d7",
   "metadata": {},
   "outputs": [],
   "source": [
    "url = \"https://soundcloud.com/discover\""
   ]
  },
  {
   "cell_type": "code",
   "execution_count": 22,
   "id": "83f94c9f-8a21-4e34-b9bf-5ec2f3852861",
   "metadata": {},
   "outputs": [],
   "source": [
    "browser = webdriver.Chrome()\n",
    "browser.get(url)"
   ]
  },
  {
   "cell_type": "code",
   "execution_count": 23,
   "id": "3db69f4e-ac5d-4f39-b1e2-2a88c78b5a8b",
   "metadata": {},
   "outputs": [],
   "source": [
    "html = browser.page_source\n",
    "soup = BeautifulSoup(html)"
   ]
  },
  {
   "cell_type": "code",
   "execution_count": 24,
   "id": "a6ca70ab-9deb-4d1b-b7b0-1d23fb02ca93",
   "metadata": {},
   "outputs": [],
   "source": [
    "# Đồng ý cookies\n",
    "cookies = browser.find_element(By.XPATH,\"//button[@id='onetrust-accept-btn-handler']\")\n",
    "cookies.click()"
   ]
  },
  {
   "cell_type": "code",
   "execution_count": 25,
   "id": "87caad0f",
   "metadata": {},
   "outputs": [],
   "source": [
    "# Chọn một tab genre (demo)\n",
    "time.sleep(2)\n",
    "genre = browser.find_element(By.XPATH,\"//a[@class='playableTile__heading playableTile__mainHeading sc-truncate sc-type-light sc-text-secondary sc-font-light sc-link-dark sc-link-primary sc-text-h4']\")\n",
    "genre.click()\n",
    "\n",
    "time.sleep(2)\n",
    "html = browser.page_source\n",
    "soup = BeautifulSoup(html)\n",
    "\n",
    "# Click vào profile\n",
    "profile = browser.find_element(By.XPATH,\"//a[@class='trackItem__username sc-link-light sc-link-secondary']\")\n",
    "profile.click()\n"
   ]
  },
  {
   "cell_type": "code",
   "execution_count": 26,
   "id": "52e3d760",
   "metadata": {},
   "outputs": [],
   "source": [
    "# Chọn tab tracks của user đó\n",
    "time.sleep(2)\n",
    "tracks_list = browser.find_element(By.XPATH,\"//a[@class='g-tabs-link']\")\n",
    "tracks_list.click()"
   ]
  },
  {
   "cell_type": "code",
   "execution_count": 27,
   "id": "bd0c30e4-a7d2-4c3c-887e-ae230a9d0461",
   "metadata": {},
   "outputs": [],
   "source": [
    "lenOfPage = browser.execute_script(\"window.scrollTo(0, document.body.scrollHeight);var lenOfPage=document.body.scrollHeight;return lenOfPage;\")\n",
    "match=False\n",
    "while(match==False):\n",
    "    lastCount = lenOfPage\n",
    "    time.sleep(1)\n",
    "    lenOfPage = browser.execute_script(\"window.scrollTo(0, document.body.scrollHeight);var lenOfPage=document.body.scrollHeight;return lenOfPage;\")\n",
    "    if lastCount==lenOfPage:\n",
    "        match=True"
   ]
  },
  {
   "cell_type": "code",
   "execution_count": 28,
   "id": "7ce67557-a246-4d51-ae8f-fc7c2b5b942c",
   "metadata": {},
   "outputs": [
    {
     "name": "stdout",
     "output_type": "stream",
     "text": [
      "\n",
      "Tell Ur Mom II - Winno (ft Heily)\n",
      "\n",
      "\n",
      "Em 20 - Winno\n",
      "\n",
      "\n",
      "'tim em ko kó một đường nào' - Winno (ft Heily)\n",
      "\n",
      "\n",
      "Fancy - Winno (prod.aloha)\n",
      "\n",
      "\n",
      "Hai Tám Bốn - Winno\n",
      "\n",
      "\n",
      "Bốp 2 - Winno (Godthic dissin)\n",
      "\n",
      "\n",
      "Lil Thang - pu ekvw Ft Hashone\n",
      "\n",
      "\n",
      "Nghìn lẽ, một đêm - Winno (prodEast)\n",
      "\n",
      "\n",
      "Ta Muốn Thả - Winno\n",
      "\n",
      "\n",
      "Bounce - Winno (#PoppinChallenge)\n",
      "\n",
      "\n",
      "Làm - Butcher ft Winno (Prod Weedie)\n",
      "\n",
      "\n",
      "Bê Cálm Đòwn - DanhHuy x Riet x Winno\n",
      "\n",
      "\n",
      "DEMØ ₩ł₦₦Ø\n",
      "\n",
      "\n",
      "Bốp - Winno (Reply Zuyngusi)\n",
      "\n",
      "\n",
      "Mùa Xuân Cuối Cùng - Riet x Winno x Joe\n",
      "\n",
      "\n",
      "Em vui đi - Winno\n",
      "\n",
      "\n",
      "demo thoi khong co gi het\n",
      "\n",
      "\n",
      "Bounce. (remixbyPinkyMolly777)\n",
      "\n",
      "\n",
      "Diss sml Sinike\n",
      "\n",
      "\n",
      "Bounce. (remixbyMoTienSinh)\n",
      "\n",
      "\n",
      "[PP x Madsound] Perfect Sound - Winno x Obito\n",
      "\n",
      "\n",
      "YunMidside - Winno x WarC (Prod Lu)\n",
      "\n",
      "\n",
      "Demo Winno 1\n",
      "\n",
      "23\n"
     ]
    }
   ],
   "source": [
    "html = browser.page_source\n",
    "soup = BeautifulSoup(html)\n",
    "\n",
    "songs = soup.find_all(\"li\", \"soundList__item\")\n",
    "\n",
    "for track in songs:\n",
    "    title = track.find(\"a\", \"soundTitle__title\").get_text()\n",
    "    print(title)\n",
    "    \n",
    "print(len(songs))"
   ]
  },
  {
   "cell_type": "code",
   "execution_count": null,
   "id": "235d4e11-7c37-408a-9ae7-b43dd22e592d",
   "metadata": {},
   "outputs": [],
   "source": []
  },
  {
   "cell_type": "code",
   "execution_count": null,
   "id": "d3153627-1bff-4d94-a64d-5c2c2aeadca2",
   "metadata": {},
   "outputs": [],
   "source": []
  }
 ],
 "metadata": {
  "kernelspec": {
   "display_name": "Python 3",
   "language": "python",
   "name": "python3"
  },
  "language_info": {
   "codemirror_mode": {
    "name": "ipython",
    "version": 3
   },
   "file_extension": ".py",
   "mimetype": "text/x-python",
   "name": "python",
   "nbconvert_exporter": "python",
   "pygments_lexer": "ipython3",
   "version": "3.8.8"
  }
 },
 "nbformat": 4,
 "nbformat_minor": 5
}
