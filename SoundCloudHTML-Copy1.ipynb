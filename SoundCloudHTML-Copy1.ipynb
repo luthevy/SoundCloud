{
 "cells": [
  {
   "cell_type": "code",
   "execution_count": 1,
   "id": "0c89b457",
   "metadata": {},
   "outputs": [],
   "source": [
    "import requests\n",
    "import requests_cache\n",
    "from bs4 import BeautifulSoup\n",
    "import time\n",
    "import json\n",
    "import re\n",
    "import pandas as pd # Dùng để đọc và hiển thị file csv/tsv\n",
    "from selenium import webdriver\n",
    "from selenium.webdriver.common.keys import Keys\n",
    "from selenium.webdriver.support.ui import WebDriverWait\n",
    "from selenium.webdriver.support import expected_conditions as EC\n",
    "from selenium.webdriver.common.by import By\n",
    "from requests_html import HTML"
   ]
  },
  {
   "cell_type": "markdown",
   "id": "1892dde7",
   "metadata": {},
   "source": [
    "________________________________________"
   ]
  },
  {
   "cell_type": "markdown",
   "id": "64e50e1d",
   "metadata": {},
   "source": [
    "**Bấm để đồng ý cookies**"
   ]
  },
  {
   "cell_type": "code",
   "execution_count": 2,
   "id": "89512ff7",
   "metadata": {},
   "outputs": [],
   "source": [
    "# Đồng ý cookies\n",
    "def accept_cookies(browser):\n",
    "    cookies = browser.find_element(By.XPATH,\"//button[@id='onetrust-accept-btn-handler']\")\n",
    "    cookies.click()"
   ]
  },
  {
   "cell_type": "markdown",
   "id": "5ca17e23",
   "metadata": {},
   "source": [
    "**Kéo xuống đến cuối trang với số lần dựa theo limit (số playlists muốn parse tối đa)**"
   ]
  },
  {
   "cell_type": "code",
   "execution_count": 3,
   "id": "bf96b190",
   "metadata": {},
   "outputs": [],
   "source": [
    "def scroll_down(browser, limit):\n",
    "    # số tracks hiện lên mỗi lần scroll đến cuối trang\n",
    "    tracks_per_scroll = 10\n",
    "    # số lần scroll xuống cuối trang\n",
    "    scrolls = limit // tracks_per_scroll\n",
    "    for i in range(scrolls - 1):\n",
    "        browser.execute_script(\"window.scrollTo(0, document.body.scrollHeight)\")\n",
    "        time.sleep(3)"
   ]
  },
  {
   "cell_type": "markdown",
   "id": "4b787e9b",
   "metadata": {},
   "source": [
    "**Lấy tất cả users và tracks**"
   ]
  },
  {
   "cell_type": "code",
   "execution_count": 4,
   "id": "80cd9953",
   "metadata": {},
   "outputs": [],
   "source": [
    "def get_all_users_tracks(soup):\n",
    "    songs = soup.find_all(\"li\", \"compactTrackList__item\")\n",
    "    for song in songs:\n",
    "        # lấy user của track\n",
    "        user = song.find(\"span\", \"compactTrackListItem__user\")\n",
    "        # kiểm tra nếu không có text\n",
    "        if user is not None:\n",
    "            userTitle = user.get_text().replace(\"-\",\"\").strip()\n",
    "            users.add(userTitle)\n",
    "                \n",
    "        # lấy track của playlist\n",
    "        track = song.find(\"span\", \"compactTrackListItem__trackTitle\")\n",
    "        # kiểm tra nếu không có text\n",
    "        if track is not None:\n",
    "            trackTitle = track.get_text().strip()\n",
    "            # kiểm tra bị trùng\n",
    "            if trackTitle not in tracks[\"track\"]:\n",
    "                tracks[\"track\"].append(trackTitle)\n",
    "                # kiểm tra nếu track không có user ở kế bên thì lấy user của playlist\n",
    "                userTitle = soup.find(\"span\", \"soundTitle__usernameText\").get_text().strip() if (user is None) else user.get_text().replace(\"-\",\"\").strip()\n",
    "                tracks[\"user\"].append(userTitle)"
   ]
  },
  {
   "cell_type": "markdown",
   "id": "8e1fb4dc",
   "metadata": {},
   "source": [
    "**Lấy tất cả thông tin (users, tracks, playlists)**"
   ]
  },
  {
   "cell_type": "code",
   "execution_count": 10,
   "id": "9a1544e4",
   "metadata": {},
   "outputs": [],
   "source": [
    "def get_all(browser):\n",
    "    soup = BeautifulSoup(browser.page_source)\n",
    "    # trích xuất playlist\n",
    "    posts = soup.find_all(\"li\", \"searchList__item\")\n",
    "    for post in posts:\n",
    "        # lấy user của playlist\n",
    "        user = post.find(\"span\", \"soundTitle__usernameText\").get_text().strip()\n",
    "        users.add(user)\n",
    "        playlists[\"user\"].append(user)\n",
    "        \n",
    "        # lấy tên playlist\n",
    "        playlist = post.find(\"a\", \"soundTitle__title\").get_text().strip()\n",
    "        playlists[\"playlist\"].append(playlist)\n",
    "        \n",
    "        # lấy tất cả tracks và users có trong playlist\n",
    "        get_all_users_tracks(post)\n",
    "        \n",
    "        # lấy Id của các tracks có trong playlist theo index\n",
    "        track_list = post.find_all(\"span\", \"compactTrackListItem__trackTitle\")\n",
    "        # lưu index của track\n",
    "        trackIds = []\n",
    "        for item in track_list:\n",
    "            # lấy index của track\n",
    "            trackIds.append(tracks[\"track\"].index(item.get_text().strip()))\n",
    "        playlists[\"tracks\"].append(trackIds)"
   ]
  },
  {
   "cell_type": "markdown",
   "id": "19182c27",
   "metadata": {},
   "source": [
    "**Chuyển từ list sang csv/tsv**"
   ]
  },
  {
   "cell_type": "code",
   "execution_count": 6,
   "id": "98a6b7f6",
   "metadata": {},
   "outputs": [],
   "source": [
    "def list_to_tsv_csv(listItem, outputFile):\n",
    "    df = pd.DataFrame(listItem)\n",
    "    df.to_csv(outputFile, sep='\\t')"
   ]
  },
  {
   "cell_type": "markdown",
   "id": "31113cf6",
   "metadata": {},
   "source": [
    "**Main**"
   ]
  },
  {
   "cell_type": "code",
   "execution_count": 7,
   "id": "89e49b8e",
   "metadata": {},
   "outputs": [],
   "source": [
    "def main(limit):\n",
    "    alphabet = ['a','b','c','d','e','f','g','h','i','j','k','l','m','n','o','p','q','r','s','t','u','v','w','x','y','z']\n",
    "    # lặp cho từng chữ cái\n",
    "    for letter in alphabet:\n",
    "        # mỗi chữ cái sẽ mở 1 browser Chrome mới, sau khi lấy hết xong thì tắt.\n",
    "        url = \"https://soundcloud.com/search/sets?q=\" + letter\n",
    "        browser = webdriver.Chrome()\n",
    "        browser.get(url)\n",
    "        \n",
    "        # đồng ý cookies\n",
    "#         time.sleep(5)\n",
    "#         accept_cookies(browser)\n",
    "        \n",
    "        # scroll xuống theo limit cho phép\n",
    "        time.sleep(1)\n",
    "        scroll_down(browser, limit)\n",
    "        \n",
    "        # lấy hết tất cả (user, track, playlist)\n",
    "        time.sleep(1)\n",
    "        get_all(browser)\n",
    "        \n",
    "        # tắt browser\n",
    "        time.sleep(1)\n",
    "        browser.quit()"
   ]
  },
  {
   "cell_type": "markdown",
   "id": "ad090f36",
   "metadata": {},
   "source": [
    "**Khởi tạo các list để lưu thông tin**"
   ]
  },
  {
   "cell_type": "code",
   "execution_count": 8,
   "id": "8f5fada5",
   "metadata": {},
   "outputs": [],
   "source": [
    "# Lưu user\n",
    "users = set()\n",
    "# Lưu track\n",
    "tracks = {\"track\":[], \"user\":[]}\n",
    "# Lưu playlist\n",
    "playlists = {\"playlist\":[], \"user\":[], \"tracks\":[]}"
   ]
  },
  {
   "cell_type": "code",
   "execution_count": 11,
   "id": "fa7668b1",
   "metadata": {},
   "outputs": [
    {
     "ename": "WebDriverException",
     "evalue": "Message: disconnected: Unable to receive message from renderer\n  (Session info: chrome=95.0.4638.69)\nStacktrace:\n0   chromedriver                        0x000000010536ec99 __gxx_personality_v0 + 579209\n1   chromedriver                        0x00000001052fa5f3 __gxx_personality_v0 + 102371\n2   chromedriver                        0x0000000104ec0288 chromedriver + 172680\n3   chromedriver                        0x0000000104eab7c1 chromedriver + 88001\n4   chromedriver                        0x0000000104eaafd3 chromedriver + 85971\n5   chromedriver                        0x0000000104ec6bfa chromedriver + 199674\n6   chromedriver                        0x0000000104f252c1 chromedriver + 586433\n7   chromedriver                        0x0000000104f12693 chromedriver + 509587\n8   chromedriver                        0x0000000104ee8b7e chromedriver + 338814\n9   chromedriver                        0x0000000104ee9ea5 chromedriver + 343717\n10  chromedriver                        0x000000010532a77f __gxx_personality_v0 + 299375\n11  chromedriver                        0x000000010534168a __gxx_personality_v0 + 393338\n12  chromedriver                        0x00000001053478eb __gxx_personality_v0 + 418523\n13  chromedriver                        0x0000000105342a2a __gxx_personality_v0 + 398362\n14  chromedriver                        0x000000010531f34c __gxx_personality_v0 + 253244\n15  chromedriver                        0x000000010535ec48 __gxx_personality_v0 + 513592\n16  chromedriver                        0x000000010535edd1 __gxx_personality_v0 + 513985\n17  chromedriver                        0x00000001053760c8 __gxx_personality_v0 + 608952\n18  libsystem_pthread.dylib             0x00007fff203be8fc _pthread_start + 224\n19  libsystem_pthread.dylib             0x00007fff203ba443 thread_start + 15\n",
     "output_type": "error",
     "traceback": [
      "\u001b[0;31m---------------------------------------------------------------------------\u001b[0m",
      "\u001b[0;31mWebDriverException\u001b[0m                        Traceback (most recent call last)",
      "\u001b[0;32m<ipython-input-11-157ece0bbebb>\u001b[0m in \u001b[0;36m<module>\u001b[0;34m\u001b[0m\n\u001b[1;32m      1\u001b[0m \u001b[0;31m# giới hạn lấy playlist cho các chữ cái\u001b[0m\u001b[0;34m\u001b[0m\u001b[0;34m\u001b[0m\u001b[0;34m\u001b[0m\u001b[0m\n\u001b[1;32m      2\u001b[0m \u001b[0mlimit\u001b[0m \u001b[0;34m=\u001b[0m \u001b[0;36m10\u001b[0m\u001b[0;34m\u001b[0m\u001b[0;34m\u001b[0m\u001b[0m\n\u001b[0;32m----> 3\u001b[0;31m \u001b[0mmain\u001b[0m\u001b[0;34m(\u001b[0m\u001b[0mlimit\u001b[0m\u001b[0;34m)\u001b[0m\u001b[0;34m\u001b[0m\u001b[0;34m\u001b[0m\u001b[0m\n\u001b[0m",
      "\u001b[0;32m<ipython-input-7-5ec8441aaa65>\u001b[0m in \u001b[0;36mmain\u001b[0;34m(limit)\u001b[0m\n\u001b[1;32m      6\u001b[0m         \u001b[0murl\u001b[0m \u001b[0;34m=\u001b[0m \u001b[0;34m\"https://soundcloud.com/search/sets?q=\"\u001b[0m \u001b[0;34m+\u001b[0m \u001b[0mletter\u001b[0m\u001b[0;34m\u001b[0m\u001b[0;34m\u001b[0m\u001b[0m\n\u001b[1;32m      7\u001b[0m         \u001b[0mbrowser\u001b[0m \u001b[0;34m=\u001b[0m \u001b[0mwebdriver\u001b[0m\u001b[0;34m.\u001b[0m\u001b[0mChrome\u001b[0m\u001b[0;34m(\u001b[0m\u001b[0;34m)\u001b[0m\u001b[0;34m\u001b[0m\u001b[0;34m\u001b[0m\u001b[0m\n\u001b[0;32m----> 8\u001b[0;31m         \u001b[0mbrowser\u001b[0m\u001b[0;34m.\u001b[0m\u001b[0mget\u001b[0m\u001b[0;34m(\u001b[0m\u001b[0murl\u001b[0m\u001b[0;34m)\u001b[0m\u001b[0;34m\u001b[0m\u001b[0;34m\u001b[0m\u001b[0m\n\u001b[0m\u001b[1;32m      9\u001b[0m \u001b[0;34m\u001b[0m\u001b[0m\n\u001b[1;32m     10\u001b[0m         \u001b[0;31m# đồng ý cookies\u001b[0m\u001b[0;34m\u001b[0m\u001b[0;34m\u001b[0m\u001b[0;34m\u001b[0m\u001b[0m\n",
      "\u001b[0;32m~/opt/anaconda3/lib/python3.8/site-packages/selenium/webdriver/remote/webdriver.py\u001b[0m in \u001b[0;36mget\u001b[0;34m(self, url)\u001b[0m\n\u001b[1;32m    428\u001b[0m         \u001b[0mLoads\u001b[0m \u001b[0ma\u001b[0m \u001b[0mweb\u001b[0m \u001b[0mpage\u001b[0m \u001b[0;32min\u001b[0m \u001b[0mthe\u001b[0m \u001b[0mcurrent\u001b[0m \u001b[0mbrowser\u001b[0m \u001b[0msession\u001b[0m\u001b[0;34m.\u001b[0m\u001b[0;34m\u001b[0m\u001b[0;34m\u001b[0m\u001b[0m\n\u001b[1;32m    429\u001b[0m         \"\"\"\n\u001b[0;32m--> 430\u001b[0;31m         \u001b[0mself\u001b[0m\u001b[0;34m.\u001b[0m\u001b[0mexecute\u001b[0m\u001b[0;34m(\u001b[0m\u001b[0mCommand\u001b[0m\u001b[0;34m.\u001b[0m\u001b[0mGET\u001b[0m\u001b[0;34m,\u001b[0m \u001b[0;34m{\u001b[0m\u001b[0;34m'url'\u001b[0m\u001b[0;34m:\u001b[0m \u001b[0murl\u001b[0m\u001b[0;34m}\u001b[0m\u001b[0;34m)\u001b[0m\u001b[0;34m\u001b[0m\u001b[0;34m\u001b[0m\u001b[0m\n\u001b[0m\u001b[1;32m    431\u001b[0m \u001b[0;34m\u001b[0m\u001b[0m\n\u001b[1;32m    432\u001b[0m     \u001b[0;34m@\u001b[0m\u001b[0mproperty\u001b[0m\u001b[0;34m\u001b[0m\u001b[0;34m\u001b[0m\u001b[0m\n",
      "\u001b[0;32m~/opt/anaconda3/lib/python3.8/site-packages/selenium/webdriver/remote/webdriver.py\u001b[0m in \u001b[0;36mexecute\u001b[0;34m(self, driver_command, params)\u001b[0m\n\u001b[1;32m    416\u001b[0m         \u001b[0mresponse\u001b[0m \u001b[0;34m=\u001b[0m \u001b[0mself\u001b[0m\u001b[0;34m.\u001b[0m\u001b[0mcommand_executor\u001b[0m\u001b[0;34m.\u001b[0m\u001b[0mexecute\u001b[0m\u001b[0;34m(\u001b[0m\u001b[0mdriver_command\u001b[0m\u001b[0;34m,\u001b[0m \u001b[0mparams\u001b[0m\u001b[0;34m)\u001b[0m\u001b[0;34m\u001b[0m\u001b[0;34m\u001b[0m\u001b[0m\n\u001b[1;32m    417\u001b[0m         \u001b[0;32mif\u001b[0m \u001b[0mresponse\u001b[0m\u001b[0;34m:\u001b[0m\u001b[0;34m\u001b[0m\u001b[0;34m\u001b[0m\u001b[0m\n\u001b[0;32m--> 418\u001b[0;31m             \u001b[0mself\u001b[0m\u001b[0;34m.\u001b[0m\u001b[0merror_handler\u001b[0m\u001b[0;34m.\u001b[0m\u001b[0mcheck_response\u001b[0m\u001b[0;34m(\u001b[0m\u001b[0mresponse\u001b[0m\u001b[0;34m)\u001b[0m\u001b[0;34m\u001b[0m\u001b[0;34m\u001b[0m\u001b[0m\n\u001b[0m\u001b[1;32m    419\u001b[0m             response['value'] = self._unwrap_value(\n\u001b[1;32m    420\u001b[0m                 response.get('value', None))\n",
      "\u001b[0;32m~/opt/anaconda3/lib/python3.8/site-packages/selenium/webdriver/remote/errorhandler.py\u001b[0m in \u001b[0;36mcheck_response\u001b[0;34m(self, response)\u001b[0m\n\u001b[1;32m    241\u001b[0m                 \u001b[0malert_text\u001b[0m \u001b[0;34m=\u001b[0m \u001b[0mvalue\u001b[0m\u001b[0;34m[\u001b[0m\u001b[0;34m'alert'\u001b[0m\u001b[0;34m]\u001b[0m\u001b[0;34m.\u001b[0m\u001b[0mget\u001b[0m\u001b[0;34m(\u001b[0m\u001b[0;34m'text'\u001b[0m\u001b[0;34m)\u001b[0m\u001b[0;34m\u001b[0m\u001b[0;34m\u001b[0m\u001b[0m\n\u001b[1;32m    242\u001b[0m             \u001b[0;32mraise\u001b[0m \u001b[0mexception_class\u001b[0m\u001b[0;34m(\u001b[0m\u001b[0mmessage\u001b[0m\u001b[0;34m,\u001b[0m \u001b[0mscreen\u001b[0m\u001b[0;34m,\u001b[0m \u001b[0mstacktrace\u001b[0m\u001b[0;34m,\u001b[0m \u001b[0malert_text\u001b[0m\u001b[0;34m)\u001b[0m  \u001b[0;31m# type: ignore[call-arg]  # mypy is not smart enough here\u001b[0m\u001b[0;34m\u001b[0m\u001b[0;34m\u001b[0m\u001b[0m\n\u001b[0;32m--> 243\u001b[0;31m         \u001b[0;32mraise\u001b[0m \u001b[0mexception_class\u001b[0m\u001b[0;34m(\u001b[0m\u001b[0mmessage\u001b[0m\u001b[0;34m,\u001b[0m \u001b[0mscreen\u001b[0m\u001b[0;34m,\u001b[0m \u001b[0mstacktrace\u001b[0m\u001b[0;34m)\u001b[0m\u001b[0;34m\u001b[0m\u001b[0;34m\u001b[0m\u001b[0m\n\u001b[0m\u001b[1;32m    244\u001b[0m \u001b[0;34m\u001b[0m\u001b[0m\n\u001b[1;32m    245\u001b[0m     \u001b[0;32mdef\u001b[0m \u001b[0m_value_or_default\u001b[0m\u001b[0;34m(\u001b[0m\u001b[0mself\u001b[0m\u001b[0;34m,\u001b[0m \u001b[0mobj\u001b[0m\u001b[0;34m:\u001b[0m \u001b[0mMapping\u001b[0m\u001b[0;34m[\u001b[0m\u001b[0m_KT\u001b[0m\u001b[0;34m,\u001b[0m \u001b[0m_VT\u001b[0m\u001b[0;34m]\u001b[0m\u001b[0;34m,\u001b[0m \u001b[0mkey\u001b[0m\u001b[0;34m:\u001b[0m \u001b[0m_KT\u001b[0m\u001b[0;34m,\u001b[0m \u001b[0mdefault\u001b[0m\u001b[0;34m:\u001b[0m \u001b[0m_VT\u001b[0m\u001b[0;34m)\u001b[0m \u001b[0;34m->\u001b[0m \u001b[0m_VT\u001b[0m\u001b[0;34m:\u001b[0m\u001b[0;34m\u001b[0m\u001b[0;34m\u001b[0m\u001b[0m\n",
      "\u001b[0;31mWebDriverException\u001b[0m: Message: disconnected: Unable to receive message from renderer\n  (Session info: chrome=95.0.4638.69)\nStacktrace:\n0   chromedriver                        0x000000010536ec99 __gxx_personality_v0 + 579209\n1   chromedriver                        0x00000001052fa5f3 __gxx_personality_v0 + 102371\n2   chromedriver                        0x0000000104ec0288 chromedriver + 172680\n3   chromedriver                        0x0000000104eab7c1 chromedriver + 88001\n4   chromedriver                        0x0000000104eaafd3 chromedriver + 85971\n5   chromedriver                        0x0000000104ec6bfa chromedriver + 199674\n6   chromedriver                        0x0000000104f252c1 chromedriver + 586433\n7   chromedriver                        0x0000000104f12693 chromedriver + 509587\n8   chromedriver                        0x0000000104ee8b7e chromedriver + 338814\n9   chromedriver                        0x0000000104ee9ea5 chromedriver + 343717\n10  chromedriver                        0x000000010532a77f __gxx_personality_v0 + 299375\n11  chromedriver                        0x000000010534168a __gxx_personality_v0 + 393338\n12  chromedriver                        0x00000001053478eb __gxx_personality_v0 + 418523\n13  chromedriver                        0x0000000105342a2a __gxx_personality_v0 + 398362\n14  chromedriver                        0x000000010531f34c __gxx_personality_v0 + 253244\n15  chromedriver                        0x000000010535ec48 __gxx_personality_v0 + 513592\n16  chromedriver                        0x000000010535edd1 __gxx_personality_v0 + 513985\n17  chromedriver                        0x00000001053760c8 __gxx_personality_v0 + 608952\n18  libsystem_pthread.dylib             0x00007fff203be8fc _pthread_start + 224\n19  libsystem_pthread.dylib             0x00007fff203ba443 thread_start + 15\n"
     ]
    }
   ],
   "source": [
    "# giới hạn lấy playlist cho các chữ cái\n",
    "limit = 10\n",
    "main(limit)"
   ]
  },
  {
   "cell_type": "markdown",
   "id": "c6f6641b",
   "metadata": {},
   "source": [
    "**Lưu data vào file tsv**"
   ]
  },
  {
   "cell_type": "code",
   "execution_count": null,
   "id": "78d32657",
   "metadata": {},
   "outputs": [],
   "source": [
    "outputFile = \"Crawl_data/user1.csv\"\n",
    "list_to_tsv_csv(users, outputFile)\n",
    "outputFile = \"Crawl_data/track1.csv\"\n",
    "list_to_tsv_csv(tracks, outputFile)\n",
    "outputFile = \"Crawl_data/playlist1.csv\"\n",
    "list_to_tsv_csv(playlists, outputFile)"
   ]
  },
  {
   "cell_type": "code",
   "execution_count": 12,
   "id": "3a212193",
   "metadata": {},
   "outputs": [
    {
     "name": "stdout",
     "output_type": "stream",
     "text": [
      "84\n",
      "82\n",
      "20\n"
     ]
    }
   ],
   "source": [
    "print(len(users))\n",
    "print(len(tracks[\"user\"]))\n",
    "print(len(playlists[\"playlist\"]))"
   ]
  },
  {
   "cell_type": "code",
   "execution_count": 22,
   "id": "39c9c610",
   "metadata": {},
   "outputs": [
    {
     "data": {
      "text/plain": [
       "[[0, 1, 2, 3, 4],\n",
       " [5],\n",
       " [6, 7, 8, 9, 10],\n",
       " [11, 12, 13, 14, 15],\n",
       " [16, 17, 18, 19, 20],\n",
       " [21, 22, 23, 24, 25],\n",
       " [26, 27, 28, 29, 30],\n",
       " [31, 32, 33, 34, 35],\n",
       " [36, 37, 38, 39, 40],\n",
       " [41, 42, 43, 44, 45],\n",
       " [46, 47, 48, 49, 50],\n",
       " [],\n",
       " [51, 52, 53, 54, 55],\n",
       " [],\n",
       " [56, 57, 58, 59, 60],\n",
       " [61, 62, 63, 64, 65],\n",
       " [66, 67, 68, 69, 70],\n",
       " [71, 72, 73, 74, 75],\n",
       " [76, 77],\n",
       " [78, 79, 80, 81]]"
      ]
     },
     "execution_count": 22,
     "metadata": {},
     "output_type": "execute_result"
    }
   ],
   "source": [
    "playlists[\"tracks\"]"
   ]
  },
  {
   "cell_type": "code",
   "execution_count": null,
   "id": "82c9a64f",
   "metadata": {},
   "outputs": [],
   "source": []
  }
 ],
 "metadata": {
  "kernelspec": {
   "display_name": "Python 3",
   "language": "python",
   "name": "python3"
  },
  "language_info": {
   "codemirror_mode": {
    "name": "ipython",
    "version": 3
   },
   "file_extension": ".py",
   "mimetype": "text/x-python",
   "name": "python",
   "nbconvert_exporter": "python",
   "pygments_lexer": "ipython3",
   "version": "3.8.8"
  }
 },
 "nbformat": 4,
 "nbformat_minor": 5
}
