{
 "cells": [
  {
   "cell_type": "code",
   "execution_count": 1,
   "id": "0c89b457",
   "metadata": {},
   "outputs": [],
   "source": [
    "import requests\n",
    "import requests_cache\n",
    "from bs4 import BeautifulSoup\n",
    "import time\n",
    "import json\n",
    "import re\n",
    "import pandas as pd # Dùng để đọc và hiển thị file csv/tsv\n",
    "from selenium import webdriver\n",
    "from selenium.webdriver.common.keys import Keys\n",
    "from selenium.webdriver.support.ui import WebDriverWait\n",
    "from selenium.webdriver.support import expected_conditions as EC\n",
    "from selenium.webdriver.common.by import By\n",
    "from requests_html import HTML"
   ]
  },
  {
   "cell_type": "markdown",
   "id": "1892dde7",
   "metadata": {},
   "source": [
    "________________________________________"
   ]
  },
  {
   "cell_type": "code",
   "execution_count": 13,
   "id": "3106c159",
   "metadata": {},
   "outputs": [],
   "source": [
    "alphabet = ['a','b','c','d','e','f','g','h','i','j','k','l','m','n','o','p','q','r','s','t','u','v','w','x','y','z']"
   ]
  },
  {
   "cell_type": "code",
   "execution_count": 4,
   "id": "463ae9a9",
   "metadata": {},
   "outputs": [],
   "source": [
    "# Lưu user\n",
    "users = []\n",
    "# Lưu track\n",
    "tracks = []\n",
    "# Lưu playlist\n",
    "playlists = []"
   ]
  },
  {
   "cell_type": "markdown",
   "id": "bfd85a6d",
   "metadata": {},
   "source": [
    "**Chuyển từ list sang csv/tsv**"
   ]
  },
  {
   "cell_type": "code",
   "execution_count": 15,
   "id": "86f97935",
   "metadata": {},
   "outputs": [],
   "source": [
    "def list_to_tsv_csv(listItem, outputFile):\n",
    "    df = pd.DataFrame(listItem)\n",
    "    df.to_csv(outputFile, sep='\\t')"
   ]
  },
  {
   "cell_type": "markdown",
   "id": "64e50e1d",
   "metadata": {},
   "source": [
    "**Bấm để đồng ý cookies**"
   ]
  },
  {
   "cell_type": "code",
   "execution_count": 16,
   "id": "89512ff7",
   "metadata": {},
   "outputs": [],
   "source": [
    "# Đồng ý cookies\n",
    "def accept_cookies():\n",
    "    soup = BeautifulSoup(browser.page_source)\n",
    "    cookies = browser.find_element(By.XPATH,\"//button[@id='onetrust-accept-btn-handler']\")\n",
    "    cookies.click()"
   ]
  },
  {
   "cell_type": "markdown",
   "id": "5ca17e23",
   "metadata": {},
   "source": [
    "**Kéo xuống đến hết trang**"
   ]
  },
  {
   "cell_type": "code",
   "execution_count": 17,
   "id": "bf96b190",
   "metadata": {},
   "outputs": [],
   "source": [
    "# nên check lại bởi vì vài lần chưa scroll hết :<\n",
    "def scroll_down():\n",
    "    # Loop 2 lần cho chắc ăn (có thể cho 3 lần)\n",
    "    for i in range(2):\n",
    "        lenOfPage = browser.execute_script(\"window.scrollTo(0, document.body.scrollHeight);var lenOfPage=document.body.scrollHeight;return lenOfPage;\")\n",
    "        lastCount = 0\n",
    "        match = False\n",
    "        \n",
    "        while(match == False):\n",
    "            time.sleep(3)\n",
    "            lenOfPage = browser.execute_script(\"window.scrollTo(0, document.body.scrollHeight);var lenOfPage=document.body.scrollHeight;return lenOfPage;\")\n",
    "            if lastCount == lenOfPage: \n",
    "                match = True\n",
    "            else: \n",
    "                lastCount = lenOfPage"
   ]
  },
  {
   "cell_type": "markdown",
   "id": "4b787e9b",
   "metadata": {},
   "source": [
    "**Lấy tất cả users và tracks**"
   ]
  },
  {
   "cell_type": "code",
   "execution_count": 18,
   "id": "80cd9953",
   "metadata": {},
   "outputs": [],
   "source": [
    "def get_all_users_tracks():\n",
    "    scroll_down()\n",
    "    \n",
    "    soup = BeautifulSoup(browser.page_source)\n",
    "    \n",
    "    search = soup.find_all(\"div\", \"soundTitle__titleContainer\")\n",
    "    \n",
    "    for producer in search:\n",
    "        user = producer.find(\"a\", \"soundTitle__username\").get_text()\n",
    "        track = producer.find(\"a\", \"soundTitle__title\").get_text()\n",
    "        if user not in users:\n",
    "            users.append(user)\n",
    "        if track not in tracks:\n",
    "            tracks.append(track)"
   ]
  },
  {
   "cell_type": "markdown",
   "id": "63845ae9",
   "metadata": {},
   "source": [
    "**Lấy tất cả playlists**"
   ]
  },
  {
   "cell_type": "code",
   "execution_count": 19,
   "id": "73d81b1d",
   "metadata": {},
   "outputs": [],
   "source": [
    "def get_all_playlists():\n",
    "    scroll_down()\n",
    "    \n",
    "    soup = BeautifulSoup(browser.page_source)\n",
    "    \n",
    "    search = soup.find_all(\"div\", \"soundTitle__titleContainer\")\n",
    "    \n",
    "    for producer in search:\n",
    "        playlist = producer.find(\"a\", \"soundTitle__title\").get_text()\n",
    "        if playlist not in playlists:\n",
    "            users.append(user)"
   ]
  },
  {
   "cell_type": "code",
   "execution_count": 23,
   "id": "5d5e520f",
   "metadata": {},
   "outputs": [],
   "source": [
    "for letter in alphabet:\n",
    "    url = \"https://soundcloud.com/search/sounds?q=\" + letter\n",
    "    browser = webdriver.Chrome()\n",
    "    browser.get(url)\n",
    "    time.sleep(5)\n",
    "    accept_cookies()\n",
    "    time.sleep(1)\n",
    "    get_all_users_tracks()\n",
    "    time.sleep(1)\n",
    "    browser.quit()"
   ]
  },
  {
   "cell_type": "code",
   "execution_count": null,
   "id": "14b95035",
   "metadata": {},
   "outputs": [],
   "source": [
    "for letter in alphabet:\n",
    "    url = \"https://soundcloud.com/search/sets?q=\" + letter\n",
    "    browser = webdriver.Chrome()\n",
    "    browser.get(url)\n",
    "    time.sleep(5)\n",
    "    accept_cookies()\n",
    "    time.sleep(1)\n",
    "    get_all_playlists()\n",
    "    time.sleep(1)\n",
    "    browser.quit()"
   ]
  },
  {
   "cell_type": "markdown",
   "id": "c6f6641b",
   "metadata": {},
   "source": [
    "**Lưu data vào file tsv**"
   ]
  },
  {
   "cell_type": "code",
   "execution_count": 25,
   "id": "78d32657",
   "metadata": {},
   "outputs": [],
   "source": [
    "outputFile = \"Crawl_data/user1.csv\"\n",
    "list_to_tsv_csv(users, outputFile)\n",
    "outputFile = \"Crawl_data/track1.csv\"\n",
    "list_to_tsv_csv(tracks, outputFile)\n",
    "outputFile = \"Crawl_data/playlist1.csv\"\n",
    "list_to_tsv_csv(playlists, outputFile)"
   ]
  },
  {
   "cell_type": "code",
   "execution_count": 24,
   "id": "3a212193",
   "metadata": {},
   "outputs": [
    {
     "name": "stdout",
     "output_type": "stream",
     "text": [
      "5670\n",
      "6717\n",
      "0\n"
     ]
    }
   ],
   "source": [
    "print(len(users))\n",
    "print(len(tracks))\n",
    "print(len(playlists))"
   ]
  },
  {
   "cell_type": "code",
   "execution_count": null,
   "id": "78fcefa1",
   "metadata": {},
   "outputs": [],
   "source": []
  }
 ],
 "metadata": {
  "kernelspec": {
   "display_name": "Python 3",
   "language": "python",
   "name": "python3"
  },
  "language_info": {
   "codemirror_mode": {
    "name": "ipython",
    "version": 3
   },
   "file_extension": ".py",
   "mimetype": "text/x-python",
   "name": "python",
   "nbconvert_exporter": "python",
   "pygments_lexer": "ipython3",
   "version": "3.8.8"
  }
 },
 "nbformat": 4,
 "nbformat_minor": 5
}
