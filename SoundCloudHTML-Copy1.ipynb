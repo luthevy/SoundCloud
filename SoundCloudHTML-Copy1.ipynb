{
 "cells": [
  {
   "cell_type": "code",
   "execution_count": 2,
   "id": "0c89b457",
   "metadata": {},
   "outputs": [],
   "source": [
    "import requests\n",
    "import requests_cache\n",
    "from bs4 import BeautifulSoup\n",
    "import time\n",
    "import json\n",
    "import re\n",
    "import pandas as pd # Dùng để đọc và hiển thị file csv/tsv\n",
    "from selenium import webdriver\n",
    "from selenium.webdriver.common.keys import Keys\n",
    "from selenium.webdriver.support.ui import WebDriverWait\n",
    "from selenium.webdriver.support import expected_conditions as EC\n",
    "from selenium.webdriver.common.by import By\n",
    "from requests_html import HTML"
   ]
  },
  {
   "cell_type": "markdown",
   "id": "1892dde7",
   "metadata": {},
   "source": [
    "________________________________________"
   ]
  },
  {
   "cell_type": "markdown",
   "id": "64e50e1d",
   "metadata": {},
   "source": [
    "**Bấm để đồng ý cookies**"
   ]
  },
  {
   "cell_type": "code",
   "execution_count": 3,
   "id": "89512ff7",
   "metadata": {},
   "outputs": [],
   "source": [
    "# Đồng ý cookies\n",
    "def accept_cookies(browser):\n",
    "    cookies = browser.find_element(By.XPATH,\"//button[@id='onetrust-accept-btn-handler']\")\n",
    "    cookies.click()"
   ]
  },
  {
   "cell_type": "markdown",
   "id": "5ca17e23",
   "metadata": {},
   "source": [
    "**Kéo xuống đến cuối trang với số lần dựa theo limit (số tracks muốn parse tối đa)**"
   ]
  },
  {
   "cell_type": "code",
   "execution_count": 4,
   "id": "bf96b190",
   "metadata": {},
   "outputs": [],
   "source": [
    "def scroll_down(browser, limit):\n",
    "    # số tracks hiện lên mỗi lần scroll đến cuối trang\n",
    "    tracks_per_scroll = 10\n",
    "    # số lần scroll xuống cuối trang\n",
    "    scrolls = limit // tracks_per_scroll\n",
    "    for i in range(scrolls - 1):\n",
    "        browser.execute_script(\"window.scrollTo(0, document.body.scrollHeight)\")\n",
    "        time.sleep(3)"
   ]
  },
  {
   "cell_type": "markdown",
   "id": "4b787e9b",
   "metadata": {},
   "source": [
    "**Lấy tất cả users và tracks**"
   ]
  },
  {
   "cell_type": "code",
   "execution_count": 16,
   "id": "80cd9953",
   "metadata": {},
   "outputs": [],
   "source": [
    "def get_all_users_tracks(browser):\n",
    "    soup = BeautifulSoup(browser.page_source)\n",
    "    songs = soup.find_all(\"li\", \"compactTrackList__item\")\n",
    "    for song in songs:\n",
    "        user = song.find(\"span\", \"compactTrackListItem__user\")\n",
    "        if user is not None:\n",
    "            if user not in users:\n",
    "                users.append(user.get_text().strip())\n",
    "        track = song.find(\"span\", \"compactTrackListItem__trackTitle\").get_text().strip()\n",
    "        if track not in tracks[\"track\"]:\n",
    "            tracks[\"track\"].append(track)\n",
    "            tracks[\"user\"].append(user)"
   ]
  },
  {
   "cell_type": "markdown",
   "id": "004eb549",
   "metadata": {},
   "source": [
    "**Lấy tất cả playlists dựa theo limit**"
   ]
  },
  {
   "cell_type": "code",
   "execution_count": 6,
   "id": "ae870cc4",
   "metadata": {},
   "outputs": [],
   "source": [
    "def get_all_playlists(browser):\n",
    "    soup = BeautifulSoup(browser.page_source)\n",
    "    # trích xuất playlist\n",
    "    posts = soup.find_all(\"li\", \"searchList__item\")\n",
    "    for post in posts:\n",
    "        user = post.find(\"span\", \"soundTitle__usernameText\").get_text().strip()\n",
    "        playlist = post.find(\"a\", \"soundTitle__title\").get_text().strip()\n",
    "        if user not in users:\n",
    "            users.append(user)\n",
    "        playlists[\"user\"].append(user)\n",
    "        playlists[\"playlist\"].append(playlist)"
   ]
  },
  {
   "cell_type": "markdown",
   "id": "702c655b",
   "metadata": {},
   "source": [
    "**Chuyển từ list sang csv/tsv**"
   ]
  },
  {
   "cell_type": "code",
   "execution_count": 7,
   "id": "343320d9",
   "metadata": {},
   "outputs": [],
   "source": [
    "def list_to_tsv_csv(listItem, outputFile):\n",
    "    df = pd.DataFrame(listItem)\n",
    "    df.to_csv(outputFile, sep='\\t')"
   ]
  },
  {
   "cell_type": "markdown",
   "id": "1574e57b",
   "metadata": {},
   "source": [
    "**Main**"
   ]
  },
  {
   "cell_type": "code",
   "execution_count": 11,
   "id": "dc065e74",
   "metadata": {},
   "outputs": [],
   "source": [
    "def main(limit):\n",
    "    alphabet = ['a','b','c','d','e','f','g','h','i','j','k','l','m','n','o','p','q','r','s','t','u','v','w','x','y','z']\n",
    "    for letter in alphabet:\n",
    "        url = \"https://soundcloud.com/search/sets?q=\" + letter\n",
    "        browser = webdriver.Chrome()\n",
    "        browser.get(url)\n",
    "        \n",
    "        time.sleep(5)\n",
    "        accept_cookies(browser)\n",
    "        \n",
    "        time.sleep(1)\n",
    "        scroll_down(browser, limit)\n",
    "        \n",
    "        time.sleep(1)\n",
    "        get_all_users_tracks(browser)\n",
    "        get_all_playlists(browser)\n",
    "        \n",
    "        time.sleep(1)\n",
    "        browser.quit()"
   ]
  },
  {
   "cell_type": "markdown",
   "id": "becd2e07",
   "metadata": {},
   "source": [
    "**Khởi tạo các list để lưu thông tin**"
   ]
  },
  {
   "cell_type": "code",
   "execution_count": 9,
   "id": "b2063e63",
   "metadata": {},
   "outputs": [],
   "source": [
    "# Lưu user\n",
    "users = []\n",
    "# Lưu track\n",
    "tracks = {\"track\":[], \"user\":[]}\n",
    "# Lưu playlist\n",
    "# playlists = {\"playlist\":[], \"user\":[], \"tracks\":[]}\n",
    "playlists = {\"playlist\":[], \"user\":[]}"
   ]
  },
  {
   "cell_type": "code",
   "execution_count": 18,
   "id": "c4952958",
   "metadata": {},
   "outputs": [],
   "source": [
    "limit = 10\n",
    "main(limit)"
   ]
  },
  {
   "cell_type": "markdown",
   "id": "c6f6641b",
   "metadata": {},
   "source": [
    "**Lưu data vào file tsv**"
   ]
  },
  {
   "cell_type": "code",
   "execution_count": 21,
   "id": "78d32657",
   "metadata": {},
   "outputs": [],
   "source": [
    "outputFile = \"Crawl_data/user1.csv\"\n",
    "list_to_tsv_csv(users, outputFile)\n",
    "outputFile = \"Crawl_data/track1.csv\"\n",
    "list_to_tsv_csv(tracks, outputFile)\n",
    "outputFile = \"Crawl_data/playlist1.csv\"\n",
    "list_to_tsv_csv(playlists, outputFile)"
   ]
  },
  {
   "cell_type": "code",
   "execution_count": 20,
   "id": "3a212193",
   "metadata": {},
   "outputs": [
    {
     "name": "stdout",
     "output_type": "stream",
     "text": [
      "2327\n",
      "2148\n",
      "520\n"
     ]
    }
   ],
   "source": [
    "print(len(users))\n",
    "print(len(tracks[\"track\"]))\n",
    "print(len(playlists[\"playlist\"]))"
   ]
  },
  {
   "cell_type": "code",
   "execution_count": null,
   "id": "8d1fceec",
   "metadata": {},
   "outputs": [],
   "source": []
  }
 ],
 "metadata": {
  "kernelspec": {
   "display_name": "Python 3",
   "language": "python",
   "name": "python3"
  },
  "language_info": {
   "codemirror_mode": {
    "name": "ipython",
    "version": 3
   },
   "file_extension": ".py",
   "mimetype": "text/x-python",
   "name": "python",
   "nbconvert_exporter": "python",
   "pygments_lexer": "ipython3",
   "version": "3.8.8"
  }
 },
 "nbformat": 4,
 "nbformat_minor": 5
}
