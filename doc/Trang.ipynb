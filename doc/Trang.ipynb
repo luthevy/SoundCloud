{
 "cells": [
  {
   "cell_type": "code",
   "execution_count": 1,
   "id": "1ca76f2e",
   "metadata": {},
   "outputs": [],
   "source": [
    "import requests\n",
    "import time"
   ]
  },
  {
   "cell_type": "code",
   "execution_count": 2,
   "id": "e32026b9",
   "metadata": {},
   "outputs": [],
   "source": [
    "def request_url(url):\n",
    "    response = requests.get(url)\n",
    "    while(response.status_code != 200):\n",
    "        response = requests.get(url)\n",
    "        time.sleep(1)\n",
    "    response = response.json()\n",
    "    return response"
   ]
  },
  {
   "cell_type": "code",
   "execution_count": 3,
   "id": "1f578704",
   "metadata": {},
   "outputs": [],
   "source": [
    "def get_discover_tracks_id(CLIENT_ID):\n",
    "    result = set()\n",
    "    \n",
    "    url = f'https://api-v2.soundcloud.com/mixed-selections?client_id={CLIENT_ID}&limit=100&linked_partitioning=1'\n",
    "    while(1):\n",
    "        response = request_url(url)\n",
    "        collections = response['collection']    \n",
    "        for collection in collections:\n",
    "            items = collection['items']['collection']\n",
    "            for item in items:\n",
    "                try:\n",
    "                    tracks = item['tracks']\n",
    "                    for track in tracks:\n",
    "                        result.add(track['id'])\n",
    "                except:\n",
    "                    break\n",
    "        try:\n",
    "            url = response['next_href']+ '&client_id='+CLIENT_ID\n",
    "        except:\n",
    "            break\n",
    "    return result"
   ]
  },
  {
   "cell_type": "code",
   "execution_count": 4,
   "id": "5d066cdd",
   "metadata": {},
   "outputs": [
    {
     "data": {
      "text/plain": [
       "3410"
      ]
     },
     "execution_count": 4,
     "metadata": {},
     "output_type": "execute_result"
    }
   ],
   "source": [
    "CLIENT_ID='YxQYlFPNletSMSZ4b8Svv9FTYgbNbM79'\n",
    "\n",
    "result=get_discover_tracks_id(CLIENT_ID)\n",
    "len(result)"
   ]
  },
  {
   "cell_type": "code",
   "execution_count": 5,
   "id": "92b8acd3",
   "metadata": {},
   "outputs": [],
   "source": [
    "def get_discover_playlists_id(CLIENT_ID):\n",
    "    result = []\n",
    "    temp=set()\n",
    "    url = f'https://api-v2.soundcloud.com/mixed-selections?client_id={CLIENT_ID}&limit=100&linked_partitioning=1'\n",
    "    while(1):\n",
    "        response = request_url(url)\n",
    "        collections = response['collection']    \n",
    "        for collection in collections:\n",
    "            items = collection['items']['collection']\n",
    "            for item in items:\n",
    "                try:\n",
    "                    uri = item['uri']\n",
    "                    temp.add(uri)\n",
    "                except:\n",
    "                    break\n",
    "        try:\n",
    "            url = response['next_href']+ '&client_id='+CLIENT_ID\n",
    "        except:\n",
    "            break\n",
    "    new_temps=list(temp)\n",
    "    for new_temp in new_temps:\n",
    "        result.append(new_temp[37:])\n",
    "    return result"
   ]
  },
  {
   "cell_type": "code",
   "execution_count": 6,
   "id": "5d6167ec",
   "metadata": {},
   "outputs": [],
   "source": [
    "CLIENT_ID='YxQYlFPNletSMSZ4b8Svv9FTYgbNbM79'\n",
    "\n",
    "result = get_discover_playlists_id(CLIENT_ID)"
   ]
  },
  {
   "cell_type": "code",
   "execution_count": 7,
   "id": "438211ea",
   "metadata": {},
   "outputs": [
    {
     "data": {
      "text/plain": [
       "212"
      ]
     },
     "execution_count": 7,
     "metadata": {},
     "output_type": "execute_result"
    }
   ],
   "source": [
    "len(result)"
   ]
  },
  {
   "cell_type": "code",
   "execution_count": 8,
   "id": "fecfd9f0",
   "metadata": {},
   "outputs": [],
   "source": [
    "#user_id\n",
    "#https://api-v2.soundcloud.com/tracks/591945735?client_id=YxQYlFPNletSMSZ4b8Svv9FTYgbNbM79&limit=100&linked_partitioning=1\n",
    "#https://api-v2.soundcloud.com/tracks/591945735/related?client_id=YxQYlFPNletSMSZ4b8Svv9FTYgbNbM79&limit=100&linked_partitioning=1\n",
    "\n",
    "#https://api.soundcloud.com/users/\n",
    "#https://api-v2.soundcloud.com/tracks/591945735/likers?client_id=YxQYlFPNletSMSZ4b8Svv9FTYgbNbM79&limit=100&linked_partitioning=1\n",
    "#https://api-v2.soundcloud.com/tracks/591945735/playlists_without_albums?client_id=YxQYlFPNletSMSZ4b8Svv9FTYgbNbM79&limit=100&linked_partitioning=1\n",
    "#https://api-v2.soundcloud.com/tracks/197304661/albums?&client_id=YxQYlFPNletSMSZ4b8Svv9FTYgbNbM79&limit=100&linked_partitioning=1\n",
    "#https://api-v2.soundcloud.com/tracks/591945735/reposters?client_id=YxQYlFPNletSMSZ4b8Svv9FTYgbNbM79&limit=100&linked_partitioning=1(*)\n",
    "#https://api-v2.soundcloud.com/tracks/591945735/comments?threaded=0&filter_replies=0&client_id=YxQYlFPNletSMSZ4b8Svv9FTYgbNbM79&limit=100&linked_partitioning=1(*)\n"
   ]
  },
  {
   "cell_type": "code",
   "execution_count": 53,
   "id": "1675f6b6",
   "metadata": {},
   "outputs": [],
   "source": [
    "def get_track_url(TRACK_ID,CLIENT_ID,option):\n",
    "    head = 'https://api-v2.soundcloud.com/tracks/'+ TRACK_ID\n",
    "    tail = 'client_id=' + CLIENT_ID + '&limit=100&linked_partitioning=1'\n",
    "    middle =''\n",
    "    if(option == 'comments'):\n",
    "        middle = 'threaded=0&filter_replies=0&'\n",
    "    if(option):\n",
    "        option = '/'+option+'?'\n",
    "    else:\n",
    "        option = '?'\n",
    "      \n",
    "    url = head + option+ middle + tail\n",
    "    return url"
   ]
  },
  {
   "cell_type": "code",
   "execution_count": 58,
   "id": "52680a53",
   "metadata": {},
   "outputs": [],
   "source": [
    "def get_track_user(TRACK_ID,CLIENT_ID,option):\n",
    "    result=set()\n",
    "    url = get_track_url(TRACK_ID,CLIENT_ID,option)\n",
    "    if(option):   \n",
    "        while(1):\n",
    "            response = request_url(url)\n",
    "            collections = response['collection']\n",
    "            if(option=='comments'):\n",
    "                for collection in collections:\n",
    "                    result.add(collection['user']['id'])\n",
    "            else:\n",
    "                for collection in collections:\n",
    "                    result.add(collection['id'])\n",
    "            try:\n",
    "                url = response['next_href']+ '&client_id='+CLIENT_ID\n",
    "            except:\n",
    "                break\n",
    "    else:\n",
    "        response = request_url(url)\n",
    "        result.add(response['user']['id'])\n",
    "    return result"
   ]
  },
  {
   "cell_type": "code",
   "execution_count": 62,
   "id": "c3d08f4e",
   "metadata": {},
   "outputs": [
    {
     "data": {
      "text/plain": [
       "{587430921}"
      ]
     },
     "execution_count": 62,
     "metadata": {},
     "output_type": "execute_result"
    }
   ],
   "source": [
    "CLIENT_ID='YxQYlFPNletSMSZ4b8Svv9FTYgbNbM79'\n",
    "TRACK_ID='591945735'\n",
    "option =''\n",
    "\n",
    "result = get_track_user(TRACK_ID,CLIENT_ID,option)\n",
    "result"
   ]
  },
  {
   "cell_type": "code",
   "execution_count": 9,
   "id": "2d0dd439",
   "metadata": {},
   "outputs": [],
   "source": [
    "def track_info(TRACK_ID,CLIENT_ID):\n",
    "    #result = {}\n",
    "    #creator\n",
    "    creator=get_track_user(TRACK_ID,CLIENT_ID,'')\n",
    "    reposters=get_track_user(TRACK_ID,CLIENT_ID,'reposters')\n",
    "    likers=get_track_user(TRACK_ID,CLIENT_ID,'likers')\n",
    "    comments = get_track_user(TRACK_ID,CLIENT_ID,'comments')\n",
    "    return creator,reposters,likers,comments"
   ]
  }
 ],
 "metadata": {
  "kernelspec": {
   "display_name": "Python 3",
   "language": "python",
   "name": "python3"
  },
  "language_info": {
   "codemirror_mode": {
    "name": "ipython",
    "version": 3
   },
   "file_extension": ".py",
   "mimetype": "text/x-python",
   "name": "python",
   "nbconvert_exporter": "python",
   "pygments_lexer": "ipython3",
   "version": "3.8.8"
  }
 },
 "nbformat": 4,
 "nbformat_minor": 5
}
