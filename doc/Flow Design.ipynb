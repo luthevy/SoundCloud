{
 "cells": [
  {
   "cell_type": "code",
   "execution_count": 1,
   "id": "3f8789c5",
   "metadata": {},
   "outputs": [],
   "source": [
    "import requests\n",
    "import time"
   ]
  },
  {
   "cell_type": "code",
   "execution_count": 2,
   "id": "65210a2c",
   "metadata": {},
   "outputs": [],
   "source": [
    "def request_url(url):\n",
    "    response = requests.get(url)\n",
    "    while(response.status_code != 200):\n",
    "        response = requests.get(url)\n",
    "        time.sleep(1)\n",
    "    response = response.json()\n",
    "    return response"
   ]
  },
  {
   "cell_type": "markdown",
   "id": "6489df34",
   "metadata": {},
   "source": [
    "# Các hàm lấy data từ id"
   ]
  },
  {
   "cell_type": "code",
   "execution_count": 3,
   "id": "65322e3d",
   "metadata": {},
   "outputs": [],
   "source": [
    "# Function to search for id:\n",
    "def track_info(TRACK_ID,CLIENT_ID):\n",
    "    result = {}\n",
    "    \n",
    "    url = f'https://api-v2.soundcloud.com/tracks/{TRACK_ID}?client_id={CLIENT_ID}&limit=100&linked_partitioning=1'\n",
    "\n",
    "    \n",
    "    # TODO\n",
    "    return result"
   ]
  },
  {
   "cell_type": "markdown",
   "id": "5f68d3f2",
   "metadata": {},
   "source": [
    "`track_info` trả về các cột dữ liệu liên đến track, sử dụng triệt để (cân nhắc) các api trong api doc phần tìm data bằng id.\n",
    "Hàm này tương ứng với việc tìm 1 \"hàng\" dữ liệu trong file csv."
   ]
  },
  {
   "cell_type": "code",
   "execution_count": 4,
   "id": "7025c808",
   "metadata": {},
   "outputs": [],
   "source": [
    "def playlist_info(PLAYLIST_ID,CLIENT_ID):\n",
    "    result = {}\n",
    "    \n",
    "    url = f'https://api-v2.soundcloud.com/playlists/{PLAYLIST_ID}?client_id={CLIENT_ID}&limit=100&linked_partitioning=1'\n",
    "\n",
    "    \n",
    "    return result"
   ]
  },
  {
   "cell_type": "markdown",
   "id": "503b54f3",
   "metadata": {},
   "source": [
    "`playlist_info` tương tự như `track_info`, tuy nhiên cần lưu ý `album id` và `playlist id` đều dùng chung hàm này"
   ]
  },
  {
   "cell_type": "code",
   "execution_count": 5,
   "id": "81601000",
   "metadata": {},
   "outputs": [],
   "source": [
    "def user_info(USER_ID,CLIENT_ID):\n",
    "    result = {}\n",
    "    \n",
    "    url =f'https://api-v2.soundcloud.com/users/{USER_ID}?client_id={CLIENT_ID}&limit=100&linked_partitioning=1'\n",
    "    \n",
    "    return result"
   ]
  },
  {
   "cell_type": "markdown",
   "id": "1f203cd4",
   "metadata": {},
   "source": [
    "`user_info` tương tự như `track_info`"
   ]
  },
  {
   "cell_type": "markdown",
   "id": "0df87f1e",
   "metadata": {},
   "source": [
    "# Các hàm trả về các `row` dữ liệu ở các trang `generals`"
   ]
  },
  {
   "cell_type": "code",
   "execution_count": 6,
   "id": "49c9ea2b",
   "metadata": {},
   "outputs": [],
   "source": [
    "def get_discover_tracks_id(CLIENT_ID):\n",
    "    result = set()\n",
    "    \n",
    "    url = f'https://api-v2.soundcloud.com/mixed-selections?client_id={CLIENT_ID}&limit=100&linked_partitioning=1'\n",
    "    return result\n",
    "\n",
    "def get_discover_playlists_id(CLIENT_ID):\n",
    "    result = []\n",
    "    return result\n",
    "\n",
    "def get_discover(CLIENT_ID):\n",
    "    \n",
    "    tracks = get_discover_tracks_id(CLIENT_ID)\n",
    "    playlist = get_discover_playlists_id(CLIENT_ID)\n",
    "    \n",
    "    track_result = []\n",
    "    playlist_result = []\n",
    "    \n",
    "    for track_id in tracks:\n",
    "        track_result.append(track_info(track_id))\n",
    "    for playlist_id in playlists:\n",
    "        playlist_result.append(playlist_id)\n",
    "    "
   ]
  },
  {
   "cell_type": "markdown",
   "id": "4c8cb84a",
   "metadata": {},
   "source": [
    "`get_discover_tracks_id` trả về 1 list các tracks id trong page `discover`\n",
    "\n",
    "`get_discover_playlists_id` trả về 1 list các playlist id trong page discover\n",
    "\n",
    "`get_discover` sử dụng hai hàm `track_info` và `playlist_info` để lấy cấc `row` dữ liệu từ 2 list id trên và save vào 2(?) file khác nhau."
   ]
  },
  {
   "cell_type": "code",
   "execution_count": 7,
   "id": "e37e9861",
   "metadata": {},
   "outputs": [],
   "source": [
    "def get_charts_tracks_id(KIND_OPTION,GENRE_OPTION,CLIENT_ID):\n",
    "    result = []\n",
    "    \n",
    "    url=f'https://api-v2.soundcloud.com/charts?kind={KIND_OPTION}&genre={GENRE_OPTION}&client_id={CLIENT_ID}&limit=100&linked_partitioning=1'\n",
    "\n",
    "    \n",
    "    return result\n",
    "\n",
    "def get_charts(KIND_OPTION,GENRE_OPTION,CLIENT_ID):\n",
    "    tracks = get_charts_track_id(KIND_OPTION,GENRE_OPTION,CLIENT_ID)\n",
    "    track_result = []\n",
    "    for track_id in tracks:\n",
    "        track_result.append(track_info(track_id))"
   ]
  },
  {
   "cell_type": "markdown",
   "id": "08eaefc4",
   "metadata": {},
   "source": [
    "Tương tự với `get_discover` nhưng nằm ở page `charts`"
   ]
  },
  {
   "cell_type": "code",
   "execution_count": 8,
   "id": "bdb9e41f",
   "metadata": {},
   "outputs": [],
   "source": [
    "def get_featured_tracks_id(CLIENT_ID):\n",
    "    result = []\n",
    "    \n",
    "    url=f'https://api-v2.soundcloud.com/featured_tracks/top/all-music?linked_partitioning=1&client_id={CLIENT_ID}&limit=100'\n",
    "\n",
    "    \n",
    "    return result\n",
    "\n",
    "def get_featured():\n",
    "    tracks = get_featured_tracks_id()\n",
    "    track_result = []\n",
    "    for track_id in tracks:\n",
    "        track_result.append(track_info(track_id))"
   ]
  },
  {
   "cell_type": "markdown",
   "id": "4bfe514b",
   "metadata": {},
   "source": [
    "Tương tự `get_discover` nhưng nằm ở trang chủ."
   ]
  },
  {
   "cell_type": "markdown",
   "id": "b4190e74",
   "metadata": {},
   "source": [
    "# Các hàm lấy dữ liệu từ query\n"
   ]
  },
  {
   "cell_type": "code",
   "execution_count": 9,
   "id": "0abd6bac",
   "metadata": {},
   "outputs": [],
   "source": [
    "def get_users_id(YOUR_QUERY,YOUR_CLIENT_ID,QUERY_RESULT_LIMIT):\n",
    "    result = []\n",
    "    \n",
    "    url=f'https://api-v2.soundcloud.com/search/users?q={YOUR_QUERY}&client_id={YOUR_CLIENT_ID}&limit={QUERY_RESULT_LIMIT}&linked_partitioning=1'\n",
    "\n",
    "    \n",
    "    return result\n",
    "\n",
    "def get_users(YOUR_QUERY,YOUR_CLIENT_ID,QUERY_RESULT_LIMIT):\n",
    "    users = get_users_id(YOUR_QUERY,YOUR_CLIENT_ID,QUERY_RESULT_LIMIT)\n",
    "    result = []\n",
    "    for user_id in users:\n",
    "        result.append(user_info(user_id))\n",
    "    return result"
   ]
  },
  {
   "cell_type": "markdown",
   "id": "dadd7a4b",
   "metadata": {},
   "source": [
    "`get_users_id` trả về một list các user id với keyword cho trước"
   ]
  },
  {
   "cell_type": "code",
   "execution_count": 10,
   "id": "09548895",
   "metadata": {},
   "outputs": [],
   "source": [
    "def get_tracks_id(YOUR_QUERY,YOUR_CLIENT_ID,QUERY_RESULT_LIMIT):\n",
    "    result = []\n",
    "    \n",
    "    url=f'https://api-v2.soundcloud.com/search/tracks?q={YOUR_QUERY}&client_id={YOUR_CLIENT_ID}&limit={QUERY_RESULT_LIMIT}&linked_partitioning=1'\n",
    "    \n",
    "    return result\n",
    "def get_tracks(YOUR_QUERY,YOUR_CLIENT_ID,QUERY_RESULT_LIMIT):\n",
    "    pass"
   ]
  },
  {
   "cell_type": "markdown",
   "id": "4fe35191",
   "metadata": {},
   "source": [
    "Tương tự "
   ]
  },
  {
   "cell_type": "code",
   "execution_count": 11,
   "id": "bcb7bf64",
   "metadata": {},
   "outputs": [],
   "source": [
    "def get_playlists_id(YOUR_QUERY,YOUR_CLIENT_ID,QUERY_RESULT_LIMIT):\n",
    "    result = []\n",
    "    #Albums query\n",
    "    url1=f'https://api-v2.soundcloud.com/search/albums?q={YOUR_QUERY}&client_id={YOUR_CLIENT_ID}&limit={QUERY_RESULT_LIMIT}&linked_partitioning=1'\n",
    "    #Playlist without albums query\n",
    "    url2=f'https://api-v2.soundcloud.com/search/playlists_without_albums?q={YOUR_QUERY}&client_id={YOUR_CLIENT_ID}&limit={QUERY_RESULT_LIMIT}&linked_partitioning=1'\n",
    "\n",
    "    \n",
    "    return result\n",
    "def get_playlists(YOUR_QUERY,YOUR_CLIENT_ID,QUERY_RESULT_LIMIT):\n",
    "    pass"
   ]
  },
  {
   "cell_type": "markdown",
   "id": "1d16c79f",
   "metadata": {},
   "source": [
    "Tương tự. Lưu ý hàm này sử dụng 2 api của albums và của playlists query. Nhưng get info thì chỉ `playlist_info` là đủ."
   ]
  },
  {
   "cell_type": "markdown",
   "id": "934b4dee",
   "metadata": {},
   "source": [
    "# Hàm query"
   ]
  },
  {
   "cell_type": "code",
   "execution_count": 12,
   "id": "2bf7d726",
   "metadata": {},
   "outputs": [],
   "source": [
    "def get_data(YOUR_QUERY,YOUR_CLIENT_ID,QUERY_RESULT_LIMIT):\n",
    "    users = get_users(YOUR_QUERY,YOUR_CLIENT_ID,QUERY_RESULT_LIMIT)\n",
    "    playlists = get_playlists(YOUR_QUERY,YOUR_CLIENT_ID,QUERY_RESULT_LIMIT)\n",
    "    tracks = get_tracks(YOUR_QUERY,YOUR_CLIENT_ID,QUERY_RESULT_LIMIT)\n",
    "    # save data"
   ]
  },
  {
   "cell_type": "markdown",
   "id": "f610c005",
   "metadata": {},
   "source": [
    "# Save file"
   ]
  },
  {
   "cell_type": "code",
   "execution_count": 13,
   "id": "678d3836",
   "metadata": {},
   "outputs": [],
   "source": [
    "def savefile():\n",
    "    pass"
   ]
  }
 ],
 "metadata": {
  "kernelspec": {
   "display_name": "Python 3",
   "language": "python",
   "name": "python3"
  },
  "language_info": {
   "codemirror_mode": {
    "name": "ipython",
    "version": 3
   },
   "file_extension": ".py",
   "mimetype": "text/x-python",
   "name": "python",
   "nbconvert_exporter": "python",
   "pygments_lexer": "ipython3",
   "version": "3.8.8"
  }
 },
 "nbformat": 4,
 "nbformat_minor": 5
}
